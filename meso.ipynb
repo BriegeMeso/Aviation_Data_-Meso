{
 "cells": [
  {
   "cell_type": "markdown",
   "id": "9a461bf6",
   "metadata": {},
   "source": [
    "#Load and Inspect"
   ]
  },
  {
   "cell_type": "markdown",
   "id": "2a5594cb",
   "metadata": {},
   "source": [
    "In this project, we will analyze the Aviation_Data.csv to be able to advise our client who is intrested in diversifying his business into aviation sector to be able to identify the lowest risk planes that he can buy."
   ]
  },
  {
   "cell_type": "markdown",
   "id": "93bed0f6",
   "metadata": {},
   "source": [
    "# Objectives"
   ]
  },
  {
   "cell_type": "markdown",
   "id": "8b050b9d",
   "metadata": {},
   "source": [
    "The objectives for this project are:\n",
    "   -To identify airplanes with low risk based on their make and model\n",
    "   -To compare safety of the planes by make and model.\n",
    "   -To analyze and undertand safety and performance of the planes using engine number and engine type\n",
    "   -To determine geographica risk patterns that "
   ]
  },
  {
   "cell_type": "markdown",
   "id": "ffcbc0a6",
   "metadata": {},
   "source": [
    "# Part 1: Pandas"
   ]
  },
  {
   "cell_type": "code",
   "execution_count": 63,
   "id": "ac0cdb3c",
   "metadata": {},
   "outputs": [
    {
     "data": {
      "text/html": [
       "<div>\n",
       "<style scoped>\n",
       "    .dataframe tbody tr th:only-of-type {\n",
       "        vertical-align: middle;\n",
       "    }\n",
       "\n",
       "    .dataframe tbody tr th {\n",
       "        vertical-align: top;\n",
       "    }\n",
       "\n",
       "    .dataframe thead th {\n",
       "        text-align: right;\n",
       "    }\n",
       "</style>\n",
       "<table border=\"1\" class=\"dataframe\">\n",
       "  <thead>\n",
       "    <tr style=\"text-align: right;\">\n",
       "      <th></th>\n",
       "      <th>Event.Id</th>\n",
       "      <th>Investigation.Type</th>\n",
       "      <th>Accident.Number</th>\n",
       "      <th>Event.Date</th>\n",
       "      <th>Location</th>\n",
       "      <th>Country</th>\n",
       "      <th>Latitude</th>\n",
       "      <th>Longitude</th>\n",
       "      <th>Airport.Code</th>\n",
       "      <th>Airport.Name</th>\n",
       "      <th>...</th>\n",
       "      <th>Purpose.of.flight</th>\n",
       "      <th>Air.carrier</th>\n",
       "      <th>Total.Fatal.Injuries</th>\n",
       "      <th>Total.Serious.Injuries</th>\n",
       "      <th>Total.Minor.Injuries</th>\n",
       "      <th>Total.Uninjured</th>\n",
       "      <th>Weather.Condition</th>\n",
       "      <th>Broad.phase.of.flight</th>\n",
       "      <th>Report.Status</th>\n",
       "      <th>Publication.Date</th>\n",
       "    </tr>\n",
       "  </thead>\n",
       "  <tbody>\n",
       "    <tr>\n",
       "      <th>0</th>\n",
       "      <td>20001218X45444</td>\n",
       "      <td>Accident</td>\n",
       "      <td>SEA87LA080</td>\n",
       "      <td>1948-10-24</td>\n",
       "      <td>MOOSE CREEK, ID</td>\n",
       "      <td>United States</td>\n",
       "      <td>NaN</td>\n",
       "      <td>NaN</td>\n",
       "      <td>NaN</td>\n",
       "      <td>NaN</td>\n",
       "      <td>...</td>\n",
       "      <td>Personal</td>\n",
       "      <td>NaN</td>\n",
       "      <td>2.0</td>\n",
       "      <td>0.0</td>\n",
       "      <td>0.0</td>\n",
       "      <td>0.0</td>\n",
       "      <td>UNK</td>\n",
       "      <td>Cruise</td>\n",
       "      <td>Probable Cause</td>\n",
       "      <td>NaN</td>\n",
       "    </tr>\n",
       "    <tr>\n",
       "      <th>1</th>\n",
       "      <td>20001218X45447</td>\n",
       "      <td>Accident</td>\n",
       "      <td>LAX94LA336</td>\n",
       "      <td>1962-07-19</td>\n",
       "      <td>BRIDGEPORT, CA</td>\n",
       "      <td>United States</td>\n",
       "      <td>NaN</td>\n",
       "      <td>NaN</td>\n",
       "      <td>NaN</td>\n",
       "      <td>NaN</td>\n",
       "      <td>...</td>\n",
       "      <td>Personal</td>\n",
       "      <td>NaN</td>\n",
       "      <td>4.0</td>\n",
       "      <td>0.0</td>\n",
       "      <td>0.0</td>\n",
       "      <td>0.0</td>\n",
       "      <td>UNK</td>\n",
       "      <td>Unknown</td>\n",
       "      <td>Probable Cause</td>\n",
       "      <td>19-09-1996</td>\n",
       "    </tr>\n",
       "    <tr>\n",
       "      <th>2</th>\n",
       "      <td>20061025X01555</td>\n",
       "      <td>Accident</td>\n",
       "      <td>NYC07LA005</td>\n",
       "      <td>1974-08-30</td>\n",
       "      <td>Saltville, VA</td>\n",
       "      <td>United States</td>\n",
       "      <td>36.9222</td>\n",
       "      <td>-81.8781</td>\n",
       "      <td>NaN</td>\n",
       "      <td>NaN</td>\n",
       "      <td>...</td>\n",
       "      <td>Personal</td>\n",
       "      <td>NaN</td>\n",
       "      <td>3.0</td>\n",
       "      <td>NaN</td>\n",
       "      <td>NaN</td>\n",
       "      <td>NaN</td>\n",
       "      <td>IMC</td>\n",
       "      <td>Cruise</td>\n",
       "      <td>Probable Cause</td>\n",
       "      <td>26-02-2007</td>\n",
       "    </tr>\n",
       "    <tr>\n",
       "      <th>3</th>\n",
       "      <td>20001218X45448</td>\n",
       "      <td>Accident</td>\n",
       "      <td>LAX96LA321</td>\n",
       "      <td>1977-06-19</td>\n",
       "      <td>EUREKA, CA</td>\n",
       "      <td>United States</td>\n",
       "      <td>NaN</td>\n",
       "      <td>NaN</td>\n",
       "      <td>NaN</td>\n",
       "      <td>NaN</td>\n",
       "      <td>...</td>\n",
       "      <td>Personal</td>\n",
       "      <td>NaN</td>\n",
       "      <td>2.0</td>\n",
       "      <td>0.0</td>\n",
       "      <td>0.0</td>\n",
       "      <td>0.0</td>\n",
       "      <td>IMC</td>\n",
       "      <td>Cruise</td>\n",
       "      <td>Probable Cause</td>\n",
       "      <td>12-09-2000</td>\n",
       "    </tr>\n",
       "    <tr>\n",
       "      <th>4</th>\n",
       "      <td>20041105X01764</td>\n",
       "      <td>Accident</td>\n",
       "      <td>CHI79FA064</td>\n",
       "      <td>1979-08-02</td>\n",
       "      <td>Canton, OH</td>\n",
       "      <td>United States</td>\n",
       "      <td>NaN</td>\n",
       "      <td>NaN</td>\n",
       "      <td>NaN</td>\n",
       "      <td>NaN</td>\n",
       "      <td>...</td>\n",
       "      <td>Personal</td>\n",
       "      <td>NaN</td>\n",
       "      <td>1.0</td>\n",
       "      <td>2.0</td>\n",
       "      <td>NaN</td>\n",
       "      <td>0.0</td>\n",
       "      <td>VMC</td>\n",
       "      <td>Approach</td>\n",
       "      <td>Probable Cause</td>\n",
       "      <td>16-04-1980</td>\n",
       "    </tr>\n",
       "  </tbody>\n",
       "</table>\n",
       "<p>5 rows × 31 columns</p>\n",
       "</div>"
      ],
      "text/plain": [
       "         Event.Id Investigation.Type Accident.Number  Event.Date  \\\n",
       "0  20001218X45444           Accident      SEA87LA080  1948-10-24   \n",
       "1  20001218X45447           Accident      LAX94LA336  1962-07-19   \n",
       "2  20061025X01555           Accident      NYC07LA005  1974-08-30   \n",
       "3  20001218X45448           Accident      LAX96LA321  1977-06-19   \n",
       "4  20041105X01764           Accident      CHI79FA064  1979-08-02   \n",
       "\n",
       "          Location        Country Latitude Longitude Airport.Code  \\\n",
       "0  MOOSE CREEK, ID  United States      NaN       NaN          NaN   \n",
       "1   BRIDGEPORT, CA  United States      NaN       NaN          NaN   \n",
       "2    Saltville, VA  United States  36.9222  -81.8781          NaN   \n",
       "3       EUREKA, CA  United States      NaN       NaN          NaN   \n",
       "4       Canton, OH  United States      NaN       NaN          NaN   \n",
       "\n",
       "  Airport.Name  ... Purpose.of.flight Air.carrier Total.Fatal.Injuries  \\\n",
       "0          NaN  ...          Personal         NaN                  2.0   \n",
       "1          NaN  ...          Personal         NaN                  4.0   \n",
       "2          NaN  ...          Personal         NaN                  3.0   \n",
       "3          NaN  ...          Personal         NaN                  2.0   \n",
       "4          NaN  ...          Personal         NaN                  1.0   \n",
       "\n",
       "  Total.Serious.Injuries Total.Minor.Injuries Total.Uninjured  \\\n",
       "0                    0.0                  0.0             0.0   \n",
       "1                    0.0                  0.0             0.0   \n",
       "2                    NaN                  NaN             NaN   \n",
       "3                    0.0                  0.0             0.0   \n",
       "4                    2.0                  NaN             0.0   \n",
       "\n",
       "  Weather.Condition  Broad.phase.of.flight   Report.Status Publication.Date  \n",
       "0               UNK                 Cruise  Probable Cause              NaN  \n",
       "1               UNK                Unknown  Probable Cause       19-09-1996  \n",
       "2               IMC                 Cruise  Probable Cause       26-02-2007  \n",
       "3               IMC                 Cruise  Probable Cause       12-09-2000  \n",
       "4               VMC               Approach  Probable Cause       16-04-1980  \n",
       "\n",
       "[5 rows x 31 columns]"
      ]
     },
     "execution_count": 63,
     "metadata": {},
     "output_type": "execute_result"
    }
   ],
   "source": [
    "import pandas as pd\n",
    "import numpy as np\n",
    "import matplotlib.pyplot as plt\n",
    "%matplotlib inline\n",
    "\n",
    "import warnings\n",
    "warnings.filterwarnings('ignore')\n",
    "\n",
    "df = pd.read_csv('data/Aviation_Data.csv')\n",
    "\n",
    "df.head()"
   ]
  },
  {
   "cell_type": "code",
   "execution_count": 64,
   "id": "9a50f3c7",
   "metadata": {},
   "outputs": [
    {
     "name": "stdout",
     "output_type": "stream",
     "text": [
      "<class 'pandas.core.frame.DataFrame'>\n",
      "RangeIndex: 90348 entries, 0 to 90347\n",
      "Data columns (total 31 columns):\n",
      " #   Column                  Non-Null Count  Dtype  \n",
      "---  ------                  --------------  -----  \n",
      " 0   Event.Id                88889 non-null  object \n",
      " 1   Investigation.Type      90348 non-null  object \n",
      " 2   Accident.Number         88889 non-null  object \n",
      " 3   Event.Date              88889 non-null  object \n",
      " 4   Location                88837 non-null  object \n",
      " 5   Country                 88663 non-null  object \n",
      " 6   Latitude                34382 non-null  object \n",
      " 7   Longitude               34373 non-null  object \n",
      " 8   Airport.Code            50249 non-null  object \n",
      " 9   Airport.Name            52790 non-null  object \n",
      " 10  Injury.Severity         87889 non-null  object \n",
      " 11  Aircraft.damage         85695 non-null  object \n",
      " 12  Aircraft.Category       32287 non-null  object \n",
      " 13  Registration.Number     87572 non-null  object \n",
      " 14  Make                    88826 non-null  object \n",
      " 15  Model                   88797 non-null  object \n",
      " 16  Amateur.Built           88787 non-null  object \n",
      " 17  Number.of.Engines       82805 non-null  float64\n",
      " 18  Engine.Type             81812 non-null  object \n",
      " 19  FAR.Description         32023 non-null  object \n",
      " 20  Schedule                12582 non-null  object \n",
      " 21  Purpose.of.flight       82697 non-null  object \n",
      " 22  Air.carrier             16648 non-null  object \n",
      " 23  Total.Fatal.Injuries    77488 non-null  float64\n",
      " 24  Total.Serious.Injuries  76379 non-null  float64\n",
      " 25  Total.Minor.Injuries    76956 non-null  float64\n",
      " 26  Total.Uninjured         82977 non-null  float64\n",
      " 27  Weather.Condition       84397 non-null  object \n",
      " 28  Broad.phase.of.flight   61724 non-null  object \n",
      " 29  Report.Status           82508 non-null  object \n",
      " 30  Publication.Date        73659 non-null  object \n",
      "dtypes: float64(5), object(26)\n",
      "memory usage: 21.4+ MB\n"
     ]
    }
   ],
   "source": [
    "df.info()"
   ]
  },
  {
   "cell_type": "markdown",
   "id": "4de1329f",
   "metadata": {},
   "source": [
    "#Identifying duplicates"
   ]
  },
  {
   "cell_type": "code",
   "execution_count": 65,
   "id": "6c6497f0",
   "metadata": {},
   "outputs": [
    {
     "data": {
      "text/plain": [
       "1390"
      ]
     },
     "execution_count": 65,
     "metadata": {},
     "output_type": "execute_result"
    }
   ],
   "source": [
    "df.duplicated().sum()"
   ]
  },
  {
   "cell_type": "markdown",
   "id": "5ff615d3",
   "metadata": {},
   "source": [
    "#dropping duplicates"
   ]
  },
  {
   "cell_type": "code",
   "execution_count": 66,
   "id": "9821ff24",
   "metadata": {},
   "outputs": [],
   "source": [
    "df.drop_duplicates(inplace=True)\n"
   ]
  },
  {
   "cell_type": "markdown",
   "id": "f3591bd7",
   "metadata": {},
   "source": [
    "# To confirm that the duplicated have been dropped"
   ]
  },
  {
   "cell_type": "code",
   "execution_count": 67,
   "id": "f38aea19",
   "metadata": {},
   "outputs": [
    {
     "data": {
      "text/plain": [
       "0"
      ]
     },
     "execution_count": 67,
     "metadata": {},
     "output_type": "execute_result"
    }
   ],
   "source": [
    "df.duplicated().sum()"
   ]
  },
  {
   "cell_type": "markdown",
   "id": "0d7e6037",
   "metadata": {},
   "source": [
    "# Handling missing data"
   ]
  },
  {
   "cell_type": "code",
   "execution_count": 68,
   "id": "e1962e83",
   "metadata": {},
   "outputs": [
    {
     "data": {
      "text/plain": [
       "Event.Id                     69\n",
       "Investigation.Type            0\n",
       "Accident.Number              69\n",
       "Event.Date                   69\n",
       "Location                    121\n",
       "Country                     295\n",
       "Latitude                  54576\n",
       "Longitude                 54585\n",
       "Airport.Code              38709\n",
       "Airport.Name              36168\n",
       "Injury.Severity            1069\n",
       "Aircraft.damage            3263\n",
       "Aircraft.Category         56671\n",
       "Registration.Number        1386\n",
       "Make                        132\n",
       "Model                       161\n",
       "Amateur.Built               171\n",
       "Number.of.Engines          6153\n",
       "Engine.Type                7146\n",
       "FAR.Description           56935\n",
       "Schedule                  76376\n",
       "Purpose.of.flight          6261\n",
       "Air.carrier               72310\n",
       "Total.Fatal.Injuries      11470\n",
       "Total.Serious.Injuries    12579\n",
       "Total.Minor.Injuries      12002\n",
       "Total.Uninjured            5981\n",
       "Weather.Condition          4561\n",
       "Broad.phase.of.flight     27234\n",
       "Report.Status              6450\n",
       "Publication.Date          15299\n",
       "dtype: int64"
      ]
     },
     "execution_count": 68,
     "metadata": {},
     "output_type": "execute_result"
    }
   ],
   "source": [
    "df.isna().sum()"
   ]
  },
  {
   "cell_type": "code",
   "execution_count": 69,
   "id": "99bcc65b",
   "metadata": {},
   "outputs": [
    {
     "data": {
      "text/plain": [
       "Event.Id                  0.000776\n",
       "Investigation.Type        0.000000\n",
       "Accident.Number           0.000776\n",
       "Event.Date                0.000776\n",
       "Location                  0.001360\n",
       "Country                   0.003316\n",
       "Latitude                  0.613503\n",
       "Longitude                 0.613604\n",
       "Airport.Code              0.435138\n",
       "Airport.Name              0.406574\n",
       "Injury.Severity           0.012017\n",
       "Aircraft.damage           0.036680\n",
       "Aircraft.Category         0.637053\n",
       "Registration.Number       0.015580\n",
       "Make                      0.001484\n",
       "Model                     0.001810\n",
       "Amateur.Built             0.001922\n",
       "Number.of.Engines         0.069167\n",
       "Engine.Type               0.080330\n",
       "FAR.Description           0.640021\n",
       "Schedule                  0.858562\n",
       "Purpose.of.flight         0.070382\n",
       "Air.carrier               0.812856\n",
       "Total.Fatal.Injuries      0.128937\n",
       "Total.Serious.Injuries    0.141404\n",
       "Total.Minor.Injuries      0.134918\n",
       "Total.Uninjured           0.067234\n",
       "Weather.Condition         0.051271\n",
       "Broad.phase.of.flight     0.306144\n",
       "Report.Status             0.072506\n",
       "Publication.Date          0.171980\n",
       "dtype: float64"
      ]
     },
     "execution_count": 69,
     "metadata": {},
     "output_type": "execute_result"
    }
   ],
   "source": [
    "# percentage of missing values per column\n",
    "df.isna().sum()/len(df)"
   ]
  },
  {
   "cell_type": "code",
   "execution_count": 70,
   "id": "1f04f000",
   "metadata": {},
   "outputs": [],
   "source": [
    "# columns with missing values to drop\n",
    "columns_to_drop = ['Latitude','Airport.Code','Airport.Name','Longitude','FAR.Description','Aircraft.Category','Air.carrier','Broad.phase.of.flight','Publication.Date','Schedule']"
   ]
  },
  {
   "cell_type": "code",
   "execution_count": 71,
   "id": "dc0a7ff7",
   "metadata": {},
   "outputs": [
    {
     "data": {
      "text/html": [
       "<div>\n",
       "<style scoped>\n",
       "    .dataframe tbody tr th:only-of-type {\n",
       "        vertical-align: middle;\n",
       "    }\n",
       "\n",
       "    .dataframe tbody tr th {\n",
       "        vertical-align: top;\n",
       "    }\n",
       "\n",
       "    .dataframe thead th {\n",
       "        text-align: right;\n",
       "    }\n",
       "</style>\n",
       "<table border=\"1\" class=\"dataframe\">\n",
       "  <thead>\n",
       "    <tr style=\"text-align: right;\">\n",
       "      <th></th>\n",
       "      <th>Event.Id</th>\n",
       "      <th>Investigation.Type</th>\n",
       "      <th>Accident.Number</th>\n",
       "      <th>Event.Date</th>\n",
       "      <th>Location</th>\n",
       "      <th>Country</th>\n",
       "      <th>Injury.Severity</th>\n",
       "      <th>Aircraft.damage</th>\n",
       "      <th>Registration.Number</th>\n",
       "      <th>Make</th>\n",
       "      <th>...</th>\n",
       "      <th>Amateur.Built</th>\n",
       "      <th>Number.of.Engines</th>\n",
       "      <th>Engine.Type</th>\n",
       "      <th>Purpose.of.flight</th>\n",
       "      <th>Total.Fatal.Injuries</th>\n",
       "      <th>Total.Serious.Injuries</th>\n",
       "      <th>Total.Minor.Injuries</th>\n",
       "      <th>Total.Uninjured</th>\n",
       "      <th>Weather.Condition</th>\n",
       "      <th>Report.Status</th>\n",
       "    </tr>\n",
       "  </thead>\n",
       "  <tbody>\n",
       "    <tr>\n",
       "      <th>0</th>\n",
       "      <td>20001218X45444</td>\n",
       "      <td>Accident</td>\n",
       "      <td>SEA87LA080</td>\n",
       "      <td>1948-10-24</td>\n",
       "      <td>MOOSE CREEK, ID</td>\n",
       "      <td>United States</td>\n",
       "      <td>Fatal(2)</td>\n",
       "      <td>Destroyed</td>\n",
       "      <td>NC6404</td>\n",
       "      <td>Stinson</td>\n",
       "      <td>...</td>\n",
       "      <td>No</td>\n",
       "      <td>1.0</td>\n",
       "      <td>Reciprocating</td>\n",
       "      <td>Personal</td>\n",
       "      <td>2.0</td>\n",
       "      <td>0.0</td>\n",
       "      <td>0.0</td>\n",
       "      <td>0.0</td>\n",
       "      <td>UNK</td>\n",
       "      <td>Probable Cause</td>\n",
       "    </tr>\n",
       "    <tr>\n",
       "      <th>1</th>\n",
       "      <td>20001218X45447</td>\n",
       "      <td>Accident</td>\n",
       "      <td>LAX94LA336</td>\n",
       "      <td>1962-07-19</td>\n",
       "      <td>BRIDGEPORT, CA</td>\n",
       "      <td>United States</td>\n",
       "      <td>Fatal(4)</td>\n",
       "      <td>Destroyed</td>\n",
       "      <td>N5069P</td>\n",
       "      <td>Piper</td>\n",
       "      <td>...</td>\n",
       "      <td>No</td>\n",
       "      <td>1.0</td>\n",
       "      <td>Reciprocating</td>\n",
       "      <td>Personal</td>\n",
       "      <td>4.0</td>\n",
       "      <td>0.0</td>\n",
       "      <td>0.0</td>\n",
       "      <td>0.0</td>\n",
       "      <td>UNK</td>\n",
       "      <td>Probable Cause</td>\n",
       "    </tr>\n",
       "    <tr>\n",
       "      <th>2</th>\n",
       "      <td>20061025X01555</td>\n",
       "      <td>Accident</td>\n",
       "      <td>NYC07LA005</td>\n",
       "      <td>1974-08-30</td>\n",
       "      <td>Saltville, VA</td>\n",
       "      <td>United States</td>\n",
       "      <td>Fatal(3)</td>\n",
       "      <td>Destroyed</td>\n",
       "      <td>N5142R</td>\n",
       "      <td>Cessna</td>\n",
       "      <td>...</td>\n",
       "      <td>No</td>\n",
       "      <td>1.0</td>\n",
       "      <td>Reciprocating</td>\n",
       "      <td>Personal</td>\n",
       "      <td>3.0</td>\n",
       "      <td>NaN</td>\n",
       "      <td>NaN</td>\n",
       "      <td>NaN</td>\n",
       "      <td>IMC</td>\n",
       "      <td>Probable Cause</td>\n",
       "    </tr>\n",
       "    <tr>\n",
       "      <th>3</th>\n",
       "      <td>20001218X45448</td>\n",
       "      <td>Accident</td>\n",
       "      <td>LAX96LA321</td>\n",
       "      <td>1977-06-19</td>\n",
       "      <td>EUREKA, CA</td>\n",
       "      <td>United States</td>\n",
       "      <td>Fatal(2)</td>\n",
       "      <td>Destroyed</td>\n",
       "      <td>N1168J</td>\n",
       "      <td>Rockwell</td>\n",
       "      <td>...</td>\n",
       "      <td>No</td>\n",
       "      <td>1.0</td>\n",
       "      <td>Reciprocating</td>\n",
       "      <td>Personal</td>\n",
       "      <td>2.0</td>\n",
       "      <td>0.0</td>\n",
       "      <td>0.0</td>\n",
       "      <td>0.0</td>\n",
       "      <td>IMC</td>\n",
       "      <td>Probable Cause</td>\n",
       "    </tr>\n",
       "    <tr>\n",
       "      <th>4</th>\n",
       "      <td>20041105X01764</td>\n",
       "      <td>Accident</td>\n",
       "      <td>CHI79FA064</td>\n",
       "      <td>1979-08-02</td>\n",
       "      <td>Canton, OH</td>\n",
       "      <td>United States</td>\n",
       "      <td>Fatal(1)</td>\n",
       "      <td>Destroyed</td>\n",
       "      <td>N15NY</td>\n",
       "      <td>Cessna</td>\n",
       "      <td>...</td>\n",
       "      <td>No</td>\n",
       "      <td>NaN</td>\n",
       "      <td>NaN</td>\n",
       "      <td>Personal</td>\n",
       "      <td>1.0</td>\n",
       "      <td>2.0</td>\n",
       "      <td>NaN</td>\n",
       "      <td>0.0</td>\n",
       "      <td>VMC</td>\n",
       "      <td>Probable Cause</td>\n",
       "    </tr>\n",
       "  </tbody>\n",
       "</table>\n",
       "<p>5 rows × 21 columns</p>\n",
       "</div>"
      ],
      "text/plain": [
       "         Event.Id Investigation.Type Accident.Number  Event.Date  \\\n",
       "0  20001218X45444           Accident      SEA87LA080  1948-10-24   \n",
       "1  20001218X45447           Accident      LAX94LA336  1962-07-19   \n",
       "2  20061025X01555           Accident      NYC07LA005  1974-08-30   \n",
       "3  20001218X45448           Accident      LAX96LA321  1977-06-19   \n",
       "4  20041105X01764           Accident      CHI79FA064  1979-08-02   \n",
       "\n",
       "          Location        Country Injury.Severity Aircraft.damage  \\\n",
       "0  MOOSE CREEK, ID  United States        Fatal(2)       Destroyed   \n",
       "1   BRIDGEPORT, CA  United States        Fatal(4)       Destroyed   \n",
       "2    Saltville, VA  United States        Fatal(3)       Destroyed   \n",
       "3       EUREKA, CA  United States        Fatal(2)       Destroyed   \n",
       "4       Canton, OH  United States        Fatal(1)       Destroyed   \n",
       "\n",
       "  Registration.Number      Make  ... Amateur.Built Number.of.Engines  \\\n",
       "0              NC6404   Stinson  ...            No               1.0   \n",
       "1              N5069P     Piper  ...            No               1.0   \n",
       "2              N5142R    Cessna  ...            No               1.0   \n",
       "3              N1168J  Rockwell  ...            No               1.0   \n",
       "4               N15NY    Cessna  ...            No               NaN   \n",
       "\n",
       "     Engine.Type Purpose.of.flight Total.Fatal.Injuries  \\\n",
       "0  Reciprocating          Personal                  2.0   \n",
       "1  Reciprocating          Personal                  4.0   \n",
       "2  Reciprocating          Personal                  3.0   \n",
       "3  Reciprocating          Personal                  2.0   \n",
       "4            NaN          Personal                  1.0   \n",
       "\n",
       "   Total.Serious.Injuries  Total.Minor.Injuries  Total.Uninjured  \\\n",
       "0                     0.0                   0.0              0.0   \n",
       "1                     0.0                   0.0              0.0   \n",
       "2                     NaN                   NaN              NaN   \n",
       "3                     0.0                   0.0              0.0   \n",
       "4                     2.0                   NaN              0.0   \n",
       "\n",
       "   Weather.Condition   Report.Status  \n",
       "0                UNK  Probable Cause  \n",
       "1                UNK  Probable Cause  \n",
       "2                IMC  Probable Cause  \n",
       "3                IMC  Probable Cause  \n",
       "4                VMC  Probable Cause  \n",
       "\n",
       "[5 rows x 21 columns]"
      ]
     },
     "execution_count": 71,
     "metadata": {},
     "output_type": "execute_result"
    }
   ],
   "source": [
    "df = df.drop(columns= columns_to_drop)\n",
    "\n",
    "df.head()\n",
    "\n"
   ]
  },
  {
   "cell_type": "code",
   "execution_count": 72,
   "id": "bd4a014c",
   "metadata": {},
   "outputs": [
    {
     "data": {
      "text/html": [
       "<div>\n",
       "<style scoped>\n",
       "    .dataframe tbody tr th:only-of-type {\n",
       "        vertical-align: middle;\n",
       "    }\n",
       "\n",
       "    .dataframe tbody tr th {\n",
       "        vertical-align: top;\n",
       "    }\n",
       "\n",
       "    .dataframe thead th {\n",
       "        text-align: right;\n",
       "    }\n",
       "</style>\n",
       "<table border=\"1\" class=\"dataframe\">\n",
       "  <thead>\n",
       "    <tr style=\"text-align: right;\">\n",
       "      <th></th>\n",
       "      <th>Number.of.Engines</th>\n",
       "      <th>Total.Fatal.Injuries</th>\n",
       "      <th>Total.Serious.Injuries</th>\n",
       "      <th>Total.Minor.Injuries</th>\n",
       "      <th>Total.Uninjured</th>\n",
       "    </tr>\n",
       "  </thead>\n",
       "  <tbody>\n",
       "    <tr>\n",
       "      <th>count</th>\n",
       "      <td>82805.000000</td>\n",
       "      <td>77488.000000</td>\n",
       "      <td>76379.000000</td>\n",
       "      <td>76956.000000</td>\n",
       "      <td>82977.000000</td>\n",
       "    </tr>\n",
       "    <tr>\n",
       "      <th>mean</th>\n",
       "      <td>1.146585</td>\n",
       "      <td>0.647855</td>\n",
       "      <td>0.279881</td>\n",
       "      <td>0.357061</td>\n",
       "      <td>5.325440</td>\n",
       "    </tr>\n",
       "    <tr>\n",
       "      <th>std</th>\n",
       "      <td>0.446510</td>\n",
       "      <td>5.485960</td>\n",
       "      <td>1.544084</td>\n",
       "      <td>2.235625</td>\n",
       "      <td>27.913634</td>\n",
       "    </tr>\n",
       "    <tr>\n",
       "      <th>min</th>\n",
       "      <td>0.000000</td>\n",
       "      <td>0.000000</td>\n",
       "      <td>0.000000</td>\n",
       "      <td>0.000000</td>\n",
       "      <td>0.000000</td>\n",
       "    </tr>\n",
       "    <tr>\n",
       "      <th>25%</th>\n",
       "      <td>1.000000</td>\n",
       "      <td>0.000000</td>\n",
       "      <td>0.000000</td>\n",
       "      <td>0.000000</td>\n",
       "      <td>0.000000</td>\n",
       "    </tr>\n",
       "    <tr>\n",
       "      <th>50%</th>\n",
       "      <td>1.000000</td>\n",
       "      <td>0.000000</td>\n",
       "      <td>0.000000</td>\n",
       "      <td>0.000000</td>\n",
       "      <td>1.000000</td>\n",
       "    </tr>\n",
       "    <tr>\n",
       "      <th>75%</th>\n",
       "      <td>1.000000</td>\n",
       "      <td>0.000000</td>\n",
       "      <td>0.000000</td>\n",
       "      <td>0.000000</td>\n",
       "      <td>2.000000</td>\n",
       "    </tr>\n",
       "    <tr>\n",
       "      <th>max</th>\n",
       "      <td>8.000000</td>\n",
       "      <td>349.000000</td>\n",
       "      <td>161.000000</td>\n",
       "      <td>380.000000</td>\n",
       "      <td>699.000000</td>\n",
       "    </tr>\n",
       "  </tbody>\n",
       "</table>\n",
       "</div>"
      ],
      "text/plain": [
       "       Number.of.Engines  Total.Fatal.Injuries  Total.Serious.Injuries  \\\n",
       "count       82805.000000          77488.000000            76379.000000   \n",
       "mean            1.146585              0.647855                0.279881   \n",
       "std             0.446510              5.485960                1.544084   \n",
       "min             0.000000              0.000000                0.000000   \n",
       "25%             1.000000              0.000000                0.000000   \n",
       "50%             1.000000              0.000000                0.000000   \n",
       "75%             1.000000              0.000000                0.000000   \n",
       "max             8.000000            349.000000              161.000000   \n",
       "\n",
       "       Total.Minor.Injuries  Total.Uninjured  \n",
       "count          76956.000000     82977.000000  \n",
       "mean               0.357061         5.325440  \n",
       "std                2.235625        27.913634  \n",
       "min                0.000000         0.000000  \n",
       "25%                0.000000         0.000000  \n",
       "50%                0.000000         1.000000  \n",
       "75%                0.000000         2.000000  \n",
       "max              380.000000       699.000000  "
      ]
     },
     "execution_count": 72,
     "metadata": {},
     "output_type": "execute_result"
    }
   ],
   "source": [
    "df.describe()"
   ]
  },
  {
   "cell_type": "markdown",
   "id": "d8c0a450",
   "metadata": {},
   "source": [
    "For numerical columns, the NaN values are kept because they could clearly mean that\n",
    " -Total fatal injuries-either were not recorded or or there was simply no fatal injuries. The same applies for the other columns. Therefore, by keeping the NaN values, it will help in diriving insights."
   ]
  },
  {
   "cell_type": "code",
   "execution_count": 73,
   "id": "0087cbbe",
   "metadata": {},
   "outputs": [],
   "source": [
    "#cols= ['Number.of.Engines',','Total.Serious.Injuries','Total.Fatal.Injuries','Total.Minor.Injuries','Total.Uninjured']\n",
    "\n",
    "cols= ['Number.of.Engines']\n",
    "#Getting the medians\n",
    "medians={col: df[col].median() for col in cols}\n",
    "\n",
    "#filling the numerical columns\n",
    "for col in cols:\n",
    "    df[col].fillna(medians[col],inplace=True)"
   ]
  },
  {
   "cell_type": "code",
   "execution_count": 74,
   "id": "e84f7750",
   "metadata": {},
   "outputs": [],
   "source": [
    "# replacing Nan values in numerical columns with 0\n",
    "cols= ['Total.Serious.Injuries','Total.Fatal.Injuries','Total.Minor.Injuries','Total.Uninjured']\n",
    "\n",
    "\n",
    "#filling the numerical columns with 0\n",
    "for col in cols:\n",
    "    df[col].fillna(0,inplace=True)"
   ]
  },
  {
   "cell_type": "code",
   "execution_count": 75,
   "id": "eaf568c4",
   "metadata": {},
   "outputs": [],
   "source": [
    "# converting columns with floats to integers\n",
    "\n",
    "df['Number.of.Engines'] = df['Number.of.Engines'].astype(int)\n",
    "df['Total.Fatal.Injuries'] = df['Total.Fatal.Injuries'].astype(int)\n",
    "df['Total.Serious.Injuries'] = df['Total.Serious.Injuries'].astype(int)\n",
    "df['Total.Minor.Injuries'] = df['Total.Minor.Injuries'].astype(int)\n",
    "df['Total.Uninjured'] = df['Total.Uninjured'].astype(int)\n"
   ]
  },
  {
   "cell_type": "code",
   "execution_count": 76,
   "id": "ae8aab67",
   "metadata": {},
   "outputs": [
    {
     "data": {
      "text/plain": [
       "array(['Stinson', 'Piper', 'Cessna', ..., 'JAMES R DERNOVSEK',\n",
       "       'ORLICAN S R O', 'ROYSE RALPH L'], dtype=object)"
      ]
     },
     "execution_count": 76,
     "metadata": {},
     "output_type": "execute_result"
    }
   ],
   "source": [
    "#  merging entries which are the same\n",
    "df['Make'].unique()"
   ]
  },
  {
   "cell_type": "markdown",
   "id": "1dac2f42",
   "metadata": {},
   "source": [
    "#Filling the categorical data"
   ]
  },
  {
   "cell_type": "code",
   "execution_count": 77,
   "id": "066b351a",
   "metadata": {},
   "outputs": [],
   "source": [
    "#handling placeholders\n",
    "placeholders= ['Unk', 'UNK','LR','N/A','na','nan','-','','None','NONE']\n",
    "\n",
    "df = df.replace(placeholders,'Unknown')\n",
    "\n",
    "df = df.fillna('Unknown')\n"
   ]
  },
  {
   "cell_type": "code",
   "execution_count": 78,
   "id": "bf716e80",
   "metadata": {},
   "outputs": [],
   "source": [
    "cols_to_fill= ['Registration.Number','Engine.Type','Location','Injury.Severity','Aircraft.damage','Aircraft.damage','Weather.Condition','Report.Status','Purpose.of.flight']\n",
    "\n",
    "df[cols_to_fill] = df[cols_to_fill].fillna('Unknown')\n",
    "\n"
   ]
  },
  {
   "cell_type": "markdown",
   "id": "77eb2442",
   "metadata": {},
   "source": [
    "#dropping rows with missing values"
   ]
  },
  {
   "cell_type": "code",
   "execution_count": null,
   "id": "b229493a",
   "metadata": {},
   "outputs": [],
   "source": [
    "df= df.dropna(subset=['Event.Id','Accident.Number','Event.Date','Make','Model','Country','Amateur.Built'])\n"
   ]
  },
  {
   "cell_type": "code",
   "execution_count": 80,
   "id": "b9e6ae62",
   "metadata": {},
   "outputs": [
    {
     "data": {
      "text/plain": [
       "Event.Id                  0\n",
       "Investigation.Type        0\n",
       "Accident.Number           0\n",
       "Event.Date                0\n",
       "Location                  0\n",
       "Country                   0\n",
       "Injury.Severity           0\n",
       "Aircraft.damage           0\n",
       "Registration.Number       0\n",
       "Make                      0\n",
       "Model                     0\n",
       "Amateur.Built             0\n",
       "Number.of.Engines         0\n",
       "Engine.Type               0\n",
       "Purpose.of.flight         0\n",
       "Total.Fatal.Injuries      0\n",
       "Total.Serious.Injuries    0\n",
       "Total.Minor.Injuries      0\n",
       "Total.Uninjured           0\n",
       "Weather.Condition         0\n",
       "Report.Status             0\n",
       "dtype: int64"
      ]
     },
     "execution_count": 80,
     "metadata": {},
     "output_type": "execute_result"
    }
   ],
   "source": [
    "# Confirming if all missing values have been handled\n",
    "df.isna().sum()"
   ]
  },
  {
   "cell_type": "code",
   "execution_count": 81,
   "id": "6f2c7df9",
   "metadata": {},
   "outputs": [
    {
     "name": "stdout",
     "output_type": "stream",
     "text": [
      "<class 'pandas.core.frame.DataFrame'>\n",
      "Int64Index: 88958 entries, 0 to 90347\n",
      "Data columns (total 21 columns):\n",
      " #   Column                  Non-Null Count  Dtype \n",
      "---  ------                  --------------  ----- \n",
      " 0   Event.Id                88958 non-null  object\n",
      " 1   Investigation.Type      88958 non-null  object\n",
      " 2   Accident.Number         88958 non-null  object\n",
      " 3   Event.Date              88958 non-null  object\n",
      " 4   Location                88958 non-null  object\n",
      " 5   Country                 88958 non-null  object\n",
      " 6   Injury.Severity         88958 non-null  object\n",
      " 7   Aircraft.damage         88958 non-null  object\n",
      " 8   Registration.Number     88958 non-null  object\n",
      " 9   Make                    88958 non-null  object\n",
      " 10  Model                   88958 non-null  object\n",
      " 11  Amateur.Built           88958 non-null  object\n",
      " 12  Number.of.Engines       88958 non-null  int32 \n",
      " 13  Engine.Type             88958 non-null  object\n",
      " 14  Purpose.of.flight       88958 non-null  object\n",
      " 15  Total.Fatal.Injuries    88958 non-null  int32 \n",
      " 16  Total.Serious.Injuries  88958 non-null  int32 \n",
      " 17  Total.Minor.Injuries    88958 non-null  int32 \n",
      " 18  Total.Uninjured         88958 non-null  int32 \n",
      " 19  Weather.Condition       88958 non-null  object\n",
      " 20  Report.Status           88958 non-null  object\n",
      "dtypes: int32(5), object(16)\n",
      "memory usage: 13.2+ MB\n"
     ]
    }
   ],
   "source": [
    "df.info()"
   ]
  },
  {
   "cell_type": "code",
   "execution_count": 82,
   "id": "8c748078",
   "metadata": {},
   "outputs": [
    {
     "data": {
      "text/plain": [
       "array(['Personal', 'Unknown', 'Business', 'Instructional', 'Ferry',\n",
       "       'Executive/corporate', 'Aerial Observation', 'Aerial Application',\n",
       "       'Public Aircraft', 'Skydiving', 'Other Work Use', 'Positioning',\n",
       "       'Flight Test', 'Air Race/show', 'Air Drop',\n",
       "       'Public Aircraft - Federal', 'Glider Tow',\n",
       "       'Public Aircraft - Local', 'External Load',\n",
       "       'Public Aircraft - State', 'Banner Tow', 'Firefighting',\n",
       "       'Air Race show', 'PUBS', 'ASHO', 'PUBL'], dtype=object)"
      ]
     },
     "execution_count": 82,
     "metadata": {},
     "output_type": "execute_result"
    }
   ],
   "source": [
    "df['Purpose.of.flight'].unique()"
   ]
  },
  {
   "cell_type": "code",
   "execution_count": 83,
   "id": "e8e60d91",
   "metadata": {},
   "outputs": [],
   "source": [
    "df['Purpose.of.flight'] = df['Purpose.of.flight'].astype(str)"
   ]
  },
  {
   "cell_type": "code",
   "execution_count": 84,
   "id": "ce1609b0",
   "metadata": {},
   "outputs": [],
   "source": [
    "# mapping of Purpose.of.flight column\n",
    "\n",
    "def purpose_mapper(purpose):\n",
    "    if purpose in ['Personal','Instructional','Glider Tow','Executive/corporate','Skydiving']:\n",
    "         return 'Private'\n",
    "    elif purpose in ['Business','Ferry','Aerial Observation','Aerial Application','Public Aircraft','Other Work Use','Positioning','Flight Test','Air Race/show',\n",
    "                   'Air Drop','Public Aircraft - Federal','Glider Tow','Public Aircraft - Local','External Load','Public Aircraft - State', 'Banner Tow',\n",
    "                   'Firefighting','Air Race show','PUBS','ASHO','PUBL']:\n",
    "        return 'Commercial'\n",
    "    else:\n",
    "        return 'Unknown'\n"
   ]
  },
  {
   "cell_type": "code",
   "execution_count": null,
   "id": "63432e8e",
   "metadata": {},
   "outputs": [],
   "source": [
    "df['Flight.Category'] = df['Purpose.of.flight'].map(purpose_mapper)\n"
   ]
  },
  {
   "cell_type": "code",
   "execution_count": 86,
   "id": "c85dbbba",
   "metadata": {},
   "outputs": [
    {
     "data": {
      "text/plain": [
       "array(['Private', 'Unknown', 'Commercial'], dtype=object)"
      ]
     },
     "execution_count": 86,
     "metadata": {},
     "output_type": "execute_result"
    }
   ],
   "source": [
    "df['Flight.Category'].unique()"
   ]
  },
  {
   "cell_type": "markdown",
   "id": "e199b678",
   "metadata": {},
   "source": [
    "# OBJECTIVE ONE.\n",
    "   -To analyze the relationship between flight category(private,commercial) and the extent of injuries."
   ]
  },
  {
   "cell_type": "code",
   "execution_count": 87,
   "id": "2c03dbd7",
   "metadata": {},
   "outputs": [
    {
     "name": "stdout",
     "output_type": "stream",
     "text": [
      "                 Total.Fatal.Injuries  Total.Serious.Injuries  \\\n",
      "Flight.Category                                                 \n",
      "Commercial                       5616                    3046   \n",
      "Private                         21523                   12387   \n",
      "Unknown                         23062                    5944   \n",
      "\n",
      "                 Total.Minor.Injuries  \n",
      "Flight.Category                        \n",
      "Commercial                       3776  \n",
      "Private                         15277  \n",
      "Unknown                          8425  \n"
     ]
    }
   ],
   "source": [
    "# injuries by Flight category\n",
    "flight_summary= df.groupby('Flight.Category')[['Total.Fatal.Injuries',\n",
    "                                              'Total.Serious.Injuries',\n",
    "                                              'Total.Minor.Injuries']].sum()\n",
    "                                              \n",
    "print(flight_summary)                                        "
   ]
  },
  {
   "cell_type": "markdown",
   "id": "13c27776",
   "metadata": {},
   "source": [
    "From the analysis,it's clear that Private planes have a high injury count as compared to the commercial planes.  Therefore based on this, it will be prudent to advise the client to base his enterprise more on commercial planes than private planes. Commercial planes have low fatalities and indident rates as compared to private planes."
   ]
  },
  {
   "cell_type": "markdown",
   "id": "b0fdabc4",
   "metadata": {},
   "source": [
    "DATA VISUALIZATION"
   ]
  },
  {
   "cell_type": "code",
   "execution_count": 88,
   "id": "9be1b48d",
   "metadata": {},
   "outputs": [
    {
     "data": {
      "image/png": "[encoded data removed]",
      "text/plain": [
       "<Figure size 720x432 with 1 Axes>"
      ]
     },
     "metadata": {
      "needs_background": "light"
     },
     "output_type": "display_data"
    }
   ],
   "source": [
    "# Group by Engine.Type and count normalized values of Aircraft.damage\n",
    "damage_by_engine = (\n",
    "    df.groupby('Engine.Type')['Aircraft.damage']\n",
    "    .value_counts(normalize=True)\n",
    "    .unstack(fill_value=0)\n",
    ")\n",
    "\n",
    "# Plot as stacked bar chart\n",
    "damage_by_engine.plot(kind='bar', stacked=True, figsize=(10,6))\n",
    "\n",
    "plt.title('Proportion of Aircraft Damage Types by Engine Type', fontsize=14, fontweight='bold')\n",
    "plt.xlabel('Engine Type', fontsize=12)\n",
    "plt.ylabel('Proportion of Damage', fontsize=12)\n",
    "plt.legend(title='Damage Type', bbox_to_anchor=(1.05, 1), loc='upper left')\n",
    "plt.grid(axis='y', linestyle='--', alpha=0.6)\n",
    "plt.tight_layout()\n",
    "plt.show()"
   ]
  },
  {
   "cell_type": "markdown",
   "id": "d46945b0",
   "metadata": {},
   "source": [
    "# OBJECTIVE 2\n",
    "-To analyze the relationship between aircRaft make and injuries."
   ]
  },
  {
   "cell_type": "code",
   "execution_count": 89,
   "id": "39e1381b",
   "metadata": {},
   "outputs": [
    {
     "data": {
      "text/plain": [
       "array(['Stinson', 'Piper', 'Cessna', ..., 'JAMES R DERNOVSEK',\n",
       "       'ORLICAN S R O', 'ROYSE RALPH L'], dtype=object)"
      ]
     },
     "execution_count": 89,
     "metadata": {},
     "output_type": "execute_result"
    }
   ],
   "source": [
    "# make and model vs fatality\n",
    "df['Make'].unique()"
   ]
  },
  {
   "cell_type": "code",
   "execution_count": 90,
   "id": "3885da2b",
   "metadata": {},
   "outputs": [
    {
     "data": {
      "text/plain": [
       "Cessna                  22227\n",
       "Piper                   12029\n",
       "CESSNA                   4922\n",
       "Beech                    4330\n",
       "PIPER                    2841\n",
       "                        ...  \n",
       "Alvin R. Kemmet             1\n",
       "COMMONWEALTH                1\n",
       "Bourgeois-avid Flyer        1\n",
       "Mosley High School          1\n",
       "Schicora                    1\n",
       "Name: Make, Length: 8237, dtype: int64"
      ]
     },
     "execution_count": 90,
     "metadata": {},
     "output_type": "execute_result"
    }
   ],
   "source": [
    "df['Make'].value_counts()"
   ]
  },
  {
   "cell_type": "code",
   "execution_count": 91,
   "id": "baf54bb1",
   "metadata": {},
   "outputs": [],
   "source": [
    "# converting the Make column to be all lower case\n",
    "\n",
    "df['Make'] = df['Make'].str.lower()"
   ]
  },
  {
   "cell_type": "code",
   "execution_count": 92,
   "id": "5cd6b4d5",
   "metadata": {},
   "outputs": [
    {
     "name": "stdout",
     "output_type": "stream",
     "text": [
      "                Make  Total.Fatal.Injuries  Total.Serious.Injuries  \\\n",
      "0             cessna                  9641                    4894   \n",
      "1             boeing                  8748                    2157   \n",
      "2              piper                  6689                    3059   \n",
      "3              beech                  3784                    1095   \n",
      "4               bell                  1332                     878   \n",
      "5             airbus                  1325                     192   \n",
      "6  mcdonnell douglas                  1286                     556   \n",
      "7   airbus industrie                  1174                     138   \n",
      "8            douglas                   984                     105   \n",
      "9             mooney                   685                     248   \n",
      "\n",
      "   Total.Minor.Injuries  \n",
      "0                  6876  \n",
      "1                  2761  \n",
      "2                  3757  \n",
      "3                  1341  \n",
      "4                  1122  \n",
      "5                   106  \n",
      "6                  1505  \n",
      "7                   399  \n",
      "8                   247  \n",
      "9                   391  \n"
     ]
    }
   ],
   "source": [
    "# injuries by Flight category\n",
    "make_summary_injuries= (df.groupby('Make')[['Total.Fatal.Injuries',\n",
    "                                              'Total.Serious.Injuries',\n",
    "                                              'Total.Minor.Injuries']]\n",
    "                         .sum()\n",
    "                         .sort_values(by='Total.Fatal.Injuries',ascending=False)\n",
    "                         .head(10)\n",
    "                         .reset_index()\n",
    ")\n",
    "\n",
    "\n",
    "print(make_summary_injuries)"
   ]
  },
  {
   "cell_type": "markdown",
   "id": "4c8eb2a2",
   "metadata": {},
   "source": [
    "From the analysis, the top 10 aircrafts with the highest number of falaties are cessna, boeing, piper , beech etc have the highest number of fatalities. If we fully  depended on this data to advise the client, then we would recommend other crafts that do not have hifg record of fatalities for this business."
   ]
  },
  {
   "cell_type": "code",
   "execution_count": 93,
   "id": "42e3ac89",
   "metadata": {},
   "outputs": [
    {
     "data": {
      "image/png": "[encoded data removed]",
      "text/plain": [
       "<Figure size 720x432 with 1 Axes>"
      ]
     },
     "metadata": {
      "needs_background": "light"
     },
     "output_type": "display_data"
    }
   ],
   "source": [
    "# GRAPH VISUALIZATION\n",
    "\n",
    "import matplotlib.pyplot as plt\n",
    "%matplotlib inline\n",
    "make_summary_injuries= (df.groupby('Make')[['Total.Fatal.Injuries',\n",
    "                                              'Total.Serious.Injuries',\n",
    "                                              'Total.Minor.Injuries']]\n",
    "                         .sum()\n",
    "                         .sort_values(by='Total.Fatal.Injuries',ascending=False)\n",
    "                         .head(10)\n",
    "                         .reset_index()\n",
    ")\n",
    "\n",
    "#Plot\n",
    "plt.figure(figsize=(10,6))\n",
    "plt.barh(make_summary_injuries['Make'],make_summary_injuries['Total.Fatal.Injuries'])\n",
    "plt.title('Top 10 Aircraft Makes by Total Fatal Injuries',fontsize=14,fontweight='bold')\n",
    "plt.xlabel('Total Fatal Injuries',fontsize=12)\n",
    "plt.ylabel('Airccraft Make', fontsize=12)\n",
    "plt.grid(axis='x',linestyle='--',alpha=0.6)\n",
    "\n",
    "#Display\n",
    "plt.tight_layout()\n",
    "plt.show()"
   ]
  },
  {
   "cell_type": "code",
   "execution_count": 97,
   "id": "b4d658c7",
   "metadata": {},
   "outputs": [
    {
     "data": {
      "text/plain": [
       "Number.of.Engines  Aircraft.damage\n",
       "0                  Substantial        0.686786\n",
       "                   Destroyed          0.141109\n",
       "                   Unknown            0.111746\n",
       "                   Minor              0.060359\n",
       "1                  Substantial        0.755490\n",
       "                   Destroyed          0.204608\n",
       "                   Unknown            0.022816\n",
       "                   Minor              0.017086\n",
       "2                  Substantial        0.529651\n",
       "                   Destroyed          0.259139\n",
       "                   Unknown            0.112375\n",
       "                   Minor              0.098836\n",
       "3                  Minor              0.407867\n",
       "                   Unknown            0.325052\n",
       "                   Substantial        0.215321\n",
       "                   Destroyed          0.051760\n",
       "4                  Minor              0.336427\n",
       "                   Substantial        0.264501\n",
       "                   Unknown            0.264501\n",
       "                   Destroyed          0.134571\n",
       "6                  Substantial        1.000000\n",
       "8                  Substantial        0.666667\n",
       "                   Unknown            0.333333\n",
       "Name: Aircraft.damage, dtype: float64"
      ]
     },
     "execution_count": 97,
     "metadata": {},
     "output_type": "execute_result"
    }
   ],
   "source": [
    "df.groupby('Number.of.Engines')['Aircraft.damage'].value_counts(normalize=True)"
   ]
  },
  {
   "cell_type": "markdown",
   "id": "0300900e",
   "metadata": {},
   "source": [
    "# OBJECTIVE 3\n",
    "-To analyze aircraft damage in relation to engine type and no of engines."
   ]
  },
  {
   "cell_type": "code",
   "execution_count": 99,
   "id": "24fe5707",
   "metadata": {},
   "outputs": [
    {
     "data": {
      "text/plain": [
       "Engine.Type      Aircraft.damage\n",
       "Electric         Substantial        0.800000\n",
       "                 Destroyed          0.200000\n",
       "Geared Turbofan  Unknown            0.916667\n",
       "                 Minor              0.083333\n",
       "Hybrid Rocket    Destroyed          1.000000\n",
       "Reciprocating    Substantial        0.773839\n",
       "                 Destroyed          0.208960\n",
       "                 Minor              0.012268\n",
       "                 Unknown            0.004933\n",
       "Turbo Fan        Unknown            0.356711\n",
       "                 Substantial        0.294236\n",
       "                 Minor              0.270052\n",
       "                 Destroyed          0.079000\n",
       "Turbo Jet        Substantial        0.332859\n",
       "                 Unknown            0.237553\n",
       "                 Minor              0.230441\n",
       "                 Destroyed          0.199147\n",
       "Turbo Prop       Substantial        0.600118\n",
       "                 Destroyed          0.237983\n",
       "                 Minor              0.090239\n",
       "                 Unknown            0.071660\n",
       "Turbo Shaft      Substantial        0.706290\n",
       "                 Destroyed          0.243558\n",
       "                 Minor              0.025215\n",
       "                 Unknown            0.024938\n",
       "Unknown          Substantial        0.519141\n",
       "                 Destroyed          0.224379\n",
       "                 Unknown            0.178180\n",
       "                 Minor              0.078300\n",
       "Name: Aircraft.damage, dtype: float64"
      ]
     },
     "execution_count": 99,
     "metadata": {},
     "output_type": "execute_result"
    }
   ],
   "source": [
    "df.groupby('Engine.Type')['Aircraft.damage'].value_counts(normalize=True)"
   ]
  },
  {
   "cell_type": "markdown",
   "id": "c7584608",
   "metadata": {},
   "source": [
    "From the above analysis, reciprocating engines, usually used in small and private aicrafts, usually show hugh proprotiones of being destroyed or to undergo substantial damage possibly due to their small structure and general-use conditions.\n",
    "\n",
    "For Turbo Fan and Turbo Jet engines(used in commercial planes), often show lower proportions of complete destruction, since those planes follow stricter maintenance and operational procedures.\n",
    "\n",
    "Turbo Prop and Turbo Shaft engines have moderate proportions of damage.\n",
    "\n",
    "Unknown and Electric/Hybrid engine types, they're likely rare and data may be incomplete.\n",
    "\n"
   ]
  },
  {
   "cell_type": "code",
   "execution_count": 100,
   "id": "5f66eb6e",
   "metadata": {},
   "outputs": [
    {
     "data": {
      "image/png": "[encoded data removed]",
      "text/plain": [
       "<Figure size 720x432 with 1 Axes>"
      ]
     },
     "metadata": {
      "needs_background": "light"
     },
     "output_type": "display_data"
    }
   ],
   "source": [
    "#data visualization\n",
    "\n",
    "# Recreate your normalized summary\n",
    "damage_by_engine = (\n",
    "    df.groupby('Engine.Type')['Aircraft.damage']\n",
    "    .value_counts(normalize=True)\n",
    "    .unstack(fill_value=0)\n",
    ")\n",
    "\n",
    "# Plot stacked bar chart\n",
    "damage_by_engine.plot(kind='bar', stacked=True, figsize=(10,6))\n",
    "\n",
    "plt.title('Proportion of Aircraft Damage Types by Engine Type', fontsize=14, fontweight='bold')\n",
    "plt.xlabel('Engine Type', fontsize=12)\n",
    "plt.ylabel('Proportion of Damage', fontsize=12)\n",
    "plt.legend(title='Damage Type', bbox_to_anchor=(1.05, 1), loc='upper left')\n",
    "plt.grid(axis='y', linestyle='--', alpha=0.5)\n",
    "plt.tight_layout()\n",
    "plt.show()"
   ]
  },
  {
   "cell_type": "code",
   "execution_count": 107,
   "id": "8c12615e",
   "metadata": {},
   "outputs": [
    {
     "data": {
      "text/plain": [
       "Number.of.Engines  Aircraft.damage\n",
       "0                  Substantial        0.686786\n",
       "                   Destroyed          0.141109\n",
       "                   Unknown            0.111746\n",
       "                   Minor              0.060359\n",
       "1                  Substantial        0.755490\n",
       "                   Destroyed          0.204608\n",
       "                   Unknown            0.022816\n",
       "                   Minor              0.017086\n",
       "2                  Substantial        0.529651\n",
       "                   Destroyed          0.259139\n",
       "                   Unknown            0.112375\n",
       "                   Minor              0.098836\n",
       "3                  Minor              0.407867\n",
       "                   Unknown            0.325052\n",
       "                   Substantial        0.215321\n",
       "                   Destroyed          0.051760\n",
       "4                  Minor              0.336427\n",
       "                   Substantial        0.264501\n",
       "                   Unknown            0.264501\n",
       "                   Destroyed          0.134571\n",
       "6                  Substantial        1.000000\n",
       "8                  Substantial        0.666667\n",
       "                   Unknown            0.333333\n",
       "Name: Aircraft.damage, dtype: float64"
      ]
     },
     "execution_count": 107,
     "metadata": {},
     "output_type": "execute_result"
    }
   ],
   "source": [
    "df.groupby('Number.of.Engines')['Aircraft.damage'].value_counts(normalize=True)"
   ]
  },
  {
   "cell_type": "code",
   "execution_count": 108,
   "id": "a70a2a83",
   "metadata": {},
   "outputs": [
    {
     "data": {
      "text/plain": [
       "Number.of.Engines  Aircraft.damage\n",
       "0                  Substantial        0.686786\n",
       "                   Destroyed          0.141109\n",
       "                   Unknown            0.111746\n",
       "                   Minor              0.060359\n",
       "1                  Substantial        0.755490\n",
       "                   Destroyed          0.204608\n",
       "                   Unknown            0.022816\n",
       "                   Minor              0.017086\n",
       "2                  Substantial        0.529651\n",
       "                   Destroyed          0.259139\n",
       "                   Unknown            0.112375\n",
       "                   Minor              0.098836\n",
       "3                  Minor              0.407867\n",
       "                   Unknown            0.325052\n",
       "                   Substantial        0.215321\n",
       "                   Destroyed          0.051760\n",
       "4                  Minor              0.336427\n",
       "                   Substantial        0.264501\n",
       "                   Unknown            0.264501\n",
       "                   Destroyed          0.134571\n",
       "6                  Substantial        1.000000\n",
       "8                  Substantial        0.666667\n",
       "                   Unknown            0.333333\n",
       "Name: Aircraft.damage, dtype: float64"
      ]
     },
     "execution_count": 108,
     "metadata": {},
     "output_type": "execute_result"
    }
   ],
   "source": [
    "df.groupby('Number.of.Engines')['Aircraft.damage'].value_counts(normalize=True)"
   ]
  },
  {
   "cell_type": "code",
   "execution_count": 111,
   "id": "8fa11d4f",
   "metadata": {},
   "outputs": [
    {
     "data": {
      "image/png": "[encoded data removed]",
      "text/plain": [
       "<Figure size 720x432 with 1 Axes>"
      ]
     },
     "metadata": {
      "needs_background": "light"
     },
     "output_type": "display_data"
    }
   ],
   "source": [
    "# Data visualization # Group and normalize again (in case you haven’t already)\n",
    "damage_by_engines = (\n",
    "    df.groupby('Number.of.Engines')['Aircraft.damage']\n",
    "    .value_counts(normalize=True)\n",
    "    .unstack(fill_value=0)\n",
    ")\n",
    "\n",
    "# Plot\n",
    "damage_by_engines.plot(kind='bar', stacked=True, figsize=(10,6), colormap='tab20')\n",
    "\n",
    "plt.title('Proportion of Aircraft Damage Types by Number of Engines', fontsize=14, fontweight='bold')\n",
    "plt.xlabel('Number of Engines', fontsize=12)\n",
    "plt.ylabel('Proportion of Damage', fontsize=12)\n",
    "plt.legend(title='Damage Type', bbox_to_anchor=(1.05, 1), loc='upper left')\n",
    "plt.grid(axis='y', linestyle='--', alpha=0.5)\n",
    "plt.tight_layout()\n",
    "plt.show()"
   ]
  }
 ],
 "metadata": {
  "kernelspec": {
   "display_name": "learn-env",
   "language": "python",
   "name": "python3"
  },
  "language_info": {
   "codemirror_mode": {
    "name": "ipython",
    "version": 3
   },
   "file_extension": ".py",
   "mimetype": "text/x-python",
   "name": "python",
   "nbconvert_exporter": "python",
   "pygments_lexer": "ipython3",
   "version": "3.8.5"
  }
 },
 "nbformat": 4,
 "nbformat_minor": 5
}
