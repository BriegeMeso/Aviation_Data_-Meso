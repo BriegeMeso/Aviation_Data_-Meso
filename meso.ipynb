{
 "cells": [
  {
   "cell_type": "markdown",
   "id": "9a461bf6",
   "metadata": {},
   "source": [
    "#Load and Inspect"
   ]
  },
  {
   "cell_type": "markdown",
   "id": "2a5594cb",
   "metadata": {},
   "source": [
    "In this project, we will analyze the Aviation_Data.csv to be able to advise our client who is intrested in diversifying his business into aviation sector to be able to identify the lowest risk planes that he can buy."
   ]
  },
  {
   "cell_type": "markdown",
   "id": "93bed0f6",
   "metadata": {},
   "source": [
    "# Objectives"
   ]
  },
  {
   "cell_type": "markdown",
   "id": "8b050b9d",
   "metadata": {},
   "source": [
    "The objectives for this project are:\n",
    "   -To identify airplanes with low risk based on their make and model\n",
    "   -To compare safety of the planes by make and model.\n",
    "   -To analyze and undertand safety and performance of the planes using engine number and engine type\n",
    "   -To determine geographica risk patterns that "
   ]
  },
  {
   "cell_type": "markdown",
   "id": "ffcbc0a6",
   "metadata": {},
   "source": [
    "# Part 1: Pandas"
   ]
  },
  {
   "cell_type": "code",
   "execution_count": 335,
   "id": "ac0cdb3c",
   "metadata": {},
   "outputs": [
    {
     "data": {
      "text/html": [
       "<div>\n",
       "<style scoped>\n",
       "    .dataframe tbody tr th:only-of-type {\n",
       "        vertical-align: middle;\n",
       "    }\n",
       "\n",
       "    .dataframe tbody tr th {\n",
       "        vertical-align: top;\n",
       "    }\n",
       "\n",
       "    .dataframe thead th {\n",
       "        text-align: right;\n",
       "    }\n",
       "</style>\n",
       "<table border=\"1\" class=\"dataframe\">\n",
       "  <thead>\n",
       "    <tr style=\"text-align: right;\">\n",
       "      <th></th>\n",
       "      <th>Event.Id</th>\n",
       "      <th>Investigation.Type</th>\n",
       "      <th>Accident.Number</th>\n",
       "      <th>Event.Date</th>\n",
       "      <th>Location</th>\n",
       "      <th>Country</th>\n",
       "      <th>Latitude</th>\n",
       "      <th>Longitude</th>\n",
       "      <th>Airport.Code</th>\n",
       "      <th>Airport.Name</th>\n",
       "      <th>...</th>\n",
       "      <th>Purpose.of.flight</th>\n",
       "      <th>Air.carrier</th>\n",
       "      <th>Total.Fatal.Injuries</th>\n",
       "      <th>Total.Serious.Injuries</th>\n",
       "      <th>Total.Minor.Injuries</th>\n",
       "      <th>Total.Uninjured</th>\n",
       "      <th>Weather.Condition</th>\n",
       "      <th>Broad.phase.of.flight</th>\n",
       "      <th>Report.Status</th>\n",
       "      <th>Publication.Date</th>\n",
       "    </tr>\n",
       "  </thead>\n",
       "  <tbody>\n",
       "    <tr>\n",
       "      <th>0</th>\n",
       "      <td>20001218X45444</td>\n",
       "      <td>Accident</td>\n",
       "      <td>SEA87LA080</td>\n",
       "      <td>1948-10-24</td>\n",
       "      <td>MOOSE CREEK, ID</td>\n",
       "      <td>United States</td>\n",
       "      <td>NaN</td>\n",
       "      <td>NaN</td>\n",
       "      <td>NaN</td>\n",
       "      <td>NaN</td>\n",
       "      <td>...</td>\n",
       "      <td>Personal</td>\n",
       "      <td>NaN</td>\n",
       "      <td>2.0</td>\n",
       "      <td>0.0</td>\n",
       "      <td>0.0</td>\n",
       "      <td>0.0</td>\n",
       "      <td>UNK</td>\n",
       "      <td>Cruise</td>\n",
       "      <td>Probable Cause</td>\n",
       "      <td>NaN</td>\n",
       "    </tr>\n",
       "    <tr>\n",
       "      <th>1</th>\n",
       "      <td>20001218X45447</td>\n",
       "      <td>Accident</td>\n",
       "      <td>LAX94LA336</td>\n",
       "      <td>1962-07-19</td>\n",
       "      <td>BRIDGEPORT, CA</td>\n",
       "      <td>United States</td>\n",
       "      <td>NaN</td>\n",
       "      <td>NaN</td>\n",
       "      <td>NaN</td>\n",
       "      <td>NaN</td>\n",
       "      <td>...</td>\n",
       "      <td>Personal</td>\n",
       "      <td>NaN</td>\n",
       "      <td>4.0</td>\n",
       "      <td>0.0</td>\n",
       "      <td>0.0</td>\n",
       "      <td>0.0</td>\n",
       "      <td>UNK</td>\n",
       "      <td>Unknown</td>\n",
       "      <td>Probable Cause</td>\n",
       "      <td>19-09-1996</td>\n",
       "    </tr>\n",
       "    <tr>\n",
       "      <th>2</th>\n",
       "      <td>20061025X01555</td>\n",
       "      <td>Accident</td>\n",
       "      <td>NYC07LA005</td>\n",
       "      <td>1974-08-30</td>\n",
       "      <td>Saltville, VA</td>\n",
       "      <td>United States</td>\n",
       "      <td>36.9222</td>\n",
       "      <td>-81.8781</td>\n",
       "      <td>NaN</td>\n",
       "      <td>NaN</td>\n",
       "      <td>...</td>\n",
       "      <td>Personal</td>\n",
       "      <td>NaN</td>\n",
       "      <td>3.0</td>\n",
       "      <td>NaN</td>\n",
       "      <td>NaN</td>\n",
       "      <td>NaN</td>\n",
       "      <td>IMC</td>\n",
       "      <td>Cruise</td>\n",
       "      <td>Probable Cause</td>\n",
       "      <td>26-02-2007</td>\n",
       "    </tr>\n",
       "    <tr>\n",
       "      <th>3</th>\n",
       "      <td>20001218X45448</td>\n",
       "      <td>Accident</td>\n",
       "      <td>LAX96LA321</td>\n",
       "      <td>1977-06-19</td>\n",
       "      <td>EUREKA, CA</td>\n",
       "      <td>United States</td>\n",
       "      <td>NaN</td>\n",
       "      <td>NaN</td>\n",
       "      <td>NaN</td>\n",
       "      <td>NaN</td>\n",
       "      <td>...</td>\n",
       "      <td>Personal</td>\n",
       "      <td>NaN</td>\n",
       "      <td>2.0</td>\n",
       "      <td>0.0</td>\n",
       "      <td>0.0</td>\n",
       "      <td>0.0</td>\n",
       "      <td>IMC</td>\n",
       "      <td>Cruise</td>\n",
       "      <td>Probable Cause</td>\n",
       "      <td>12-09-2000</td>\n",
       "    </tr>\n",
       "    <tr>\n",
       "      <th>4</th>\n",
       "      <td>20041105X01764</td>\n",
       "      <td>Accident</td>\n",
       "      <td>CHI79FA064</td>\n",
       "      <td>1979-08-02</td>\n",
       "      <td>Canton, OH</td>\n",
       "      <td>United States</td>\n",
       "      <td>NaN</td>\n",
       "      <td>NaN</td>\n",
       "      <td>NaN</td>\n",
       "      <td>NaN</td>\n",
       "      <td>...</td>\n",
       "      <td>Personal</td>\n",
       "      <td>NaN</td>\n",
       "      <td>1.0</td>\n",
       "      <td>2.0</td>\n",
       "      <td>NaN</td>\n",
       "      <td>0.0</td>\n",
       "      <td>VMC</td>\n",
       "      <td>Approach</td>\n",
       "      <td>Probable Cause</td>\n",
       "      <td>16-04-1980</td>\n",
       "    </tr>\n",
       "  </tbody>\n",
       "</table>\n",
       "<p>5 rows × 31 columns</p>\n",
       "</div>"
      ],
      "text/plain": [
       "         Event.Id Investigation.Type Accident.Number  Event.Date  \\\n",
       "0  20001218X45444           Accident      SEA87LA080  1948-10-24   \n",
       "1  20001218X45447           Accident      LAX94LA336  1962-07-19   \n",
       "2  20061025X01555           Accident      NYC07LA005  1974-08-30   \n",
       "3  20001218X45448           Accident      LAX96LA321  1977-06-19   \n",
       "4  20041105X01764           Accident      CHI79FA064  1979-08-02   \n",
       "\n",
       "          Location        Country Latitude Longitude Airport.Code  \\\n",
       "0  MOOSE CREEK, ID  United States      NaN       NaN          NaN   \n",
       "1   BRIDGEPORT, CA  United States      NaN       NaN          NaN   \n",
       "2    Saltville, VA  United States  36.9222  -81.8781          NaN   \n",
       "3       EUREKA, CA  United States      NaN       NaN          NaN   \n",
       "4       Canton, OH  United States      NaN       NaN          NaN   \n",
       "\n",
       "  Airport.Name  ... Purpose.of.flight Air.carrier Total.Fatal.Injuries  \\\n",
       "0          NaN  ...          Personal         NaN                  2.0   \n",
       "1          NaN  ...          Personal         NaN                  4.0   \n",
       "2          NaN  ...          Personal         NaN                  3.0   \n",
       "3          NaN  ...          Personal         NaN                  2.0   \n",
       "4          NaN  ...          Personal         NaN                  1.0   \n",
       "\n",
       "  Total.Serious.Injuries Total.Minor.Injuries Total.Uninjured  \\\n",
       "0                    0.0                  0.0             0.0   \n",
       "1                    0.0                  0.0             0.0   \n",
       "2                    NaN                  NaN             NaN   \n",
       "3                    0.0                  0.0             0.0   \n",
       "4                    2.0                  NaN             0.0   \n",
       "\n",
       "  Weather.Condition  Broad.phase.of.flight   Report.Status Publication.Date  \n",
       "0               UNK                 Cruise  Probable Cause              NaN  \n",
       "1               UNK                Unknown  Probable Cause       19-09-1996  \n",
       "2               IMC                 Cruise  Probable Cause       26-02-2007  \n",
       "3               IMC                 Cruise  Probable Cause       12-09-2000  \n",
       "4               VMC               Approach  Probable Cause       16-04-1980  \n",
       "\n",
       "[5 rows x 31 columns]"
      ]
     },
     "execution_count": 335,
     "metadata": {},
     "output_type": "execute_result"
    }
   ],
   "source": [
    "import pandas as pd\n",
    "import numpy as np\n",
    "import warnings\n",
    "warnings.filterwarnings('ignore')\n",
    "\n",
    "df = pd.read_csv('data/Aviation_Data.csv')\n",
    "\n",
    "df.head()"
   ]
  },
  {
   "cell_type": "code",
   "execution_count": 336,
   "id": "9a50f3c7",
   "metadata": {},
   "outputs": [
    {
     "name": "stdout",
     "output_type": "stream",
     "text": [
      "<class 'pandas.core.frame.DataFrame'>\n",
      "RangeIndex: 90348 entries, 0 to 90347\n",
      "Data columns (total 31 columns):\n",
      " #   Column                  Non-Null Count  Dtype  \n",
      "---  ------                  --------------  -----  \n",
      " 0   Event.Id                88889 non-null  object \n",
      " 1   Investigation.Type      90348 non-null  object \n",
      " 2   Accident.Number         88889 non-null  object \n",
      " 3   Event.Date              88889 non-null  object \n",
      " 4   Location                88837 non-null  object \n",
      " 5   Country                 88663 non-null  object \n",
      " 6   Latitude                34382 non-null  object \n",
      " 7   Longitude               34373 non-null  object \n",
      " 8   Airport.Code            50249 non-null  object \n",
      " 9   Airport.Name            52790 non-null  object \n",
      " 10  Injury.Severity         87889 non-null  object \n",
      " 11  Aircraft.damage         85695 non-null  object \n",
      " 12  Aircraft.Category       32287 non-null  object \n",
      " 13  Registration.Number     87572 non-null  object \n",
      " 14  Make                    88826 non-null  object \n",
      " 15  Model                   88797 non-null  object \n",
      " 16  Amateur.Built           88787 non-null  object \n",
      " 17  Number.of.Engines       82805 non-null  float64\n",
      " 18  Engine.Type             81812 non-null  object \n",
      " 19  FAR.Description         32023 non-null  object \n",
      " 20  Schedule                12582 non-null  object \n",
      " 21  Purpose.of.flight       82697 non-null  object \n",
      " 22  Air.carrier             16648 non-null  object \n",
      " 23  Total.Fatal.Injuries    77488 non-null  float64\n",
      " 24  Total.Serious.Injuries  76379 non-null  float64\n",
      " 25  Total.Minor.Injuries    76956 non-null  float64\n",
      " 26  Total.Uninjured         82977 non-null  float64\n",
      " 27  Weather.Condition       84397 non-null  object \n",
      " 28  Broad.phase.of.flight   61724 non-null  object \n",
      " 29  Report.Status           82508 non-null  object \n",
      " 30  Publication.Date        73659 non-null  object \n",
      "dtypes: float64(5), object(26)\n",
      "memory usage: 21.4+ MB\n"
     ]
    }
   ],
   "source": [
    "df.info()"
   ]
  },
  {
   "cell_type": "markdown",
   "id": "4de1329f",
   "metadata": {},
   "source": [
    "#Identifying duplicates"
   ]
  },
  {
   "cell_type": "code",
   "execution_count": 337,
   "id": "6c6497f0",
   "metadata": {},
   "outputs": [
    {
     "data": {
      "text/plain": [
       "1390"
      ]
     },
     "execution_count": 337,
     "metadata": {},
     "output_type": "execute_result"
    }
   ],
   "source": [
    "df.duplicated().sum()"
   ]
  },
  {
   "cell_type": "markdown",
   "id": "5ff615d3",
   "metadata": {},
   "source": [
    "#dropping duplicates"
   ]
  },
  {
   "cell_type": "code",
   "execution_count": 338,
   "id": "9821ff24",
   "metadata": {},
   "outputs": [],
   "source": [
    "df.drop_duplicates(inplace=True)\n"
   ]
  },
  {
   "cell_type": "markdown",
   "id": "f3591bd7",
   "metadata": {},
   "source": [
    "# To confirm that the duplicated have been dropped"
   ]
  },
  {
   "cell_type": "code",
   "execution_count": 339,
   "id": "f38aea19",
   "metadata": {},
   "outputs": [
    {
     "data": {
      "text/plain": [
       "0"
      ]
     },
     "execution_count": 339,
     "metadata": {},
     "output_type": "execute_result"
    }
   ],
   "source": [
    "df.duplicated().sum()"
   ]
  },
  {
   "cell_type": "markdown",
   "id": "0d7e6037",
   "metadata": {},
   "source": [
    "# Handling missing data"
   ]
  },
  {
   "cell_type": "code",
   "execution_count": 340,
   "id": "e1962e83",
   "metadata": {},
   "outputs": [
    {
     "data": {
      "text/plain": [
       "Event.Id                     69\n",
       "Investigation.Type            0\n",
       "Accident.Number              69\n",
       "Event.Date                   69\n",
       "Location                    121\n",
       "Country                     295\n",
       "Latitude                  54576\n",
       "Longitude                 54585\n",
       "Airport.Code              38709\n",
       "Airport.Name              36168\n",
       "Injury.Severity            1069\n",
       "Aircraft.damage            3263\n",
       "Aircraft.Category         56671\n",
       "Registration.Number        1386\n",
       "Make                        132\n",
       "Model                       161\n",
       "Amateur.Built               171\n",
       "Number.of.Engines          6153\n",
       "Engine.Type                7146\n",
       "FAR.Description           56935\n",
       "Schedule                  76376\n",
       "Purpose.of.flight          6261\n",
       "Air.carrier               72310\n",
       "Total.Fatal.Injuries      11470\n",
       "Total.Serious.Injuries    12579\n",
       "Total.Minor.Injuries      12002\n",
       "Total.Uninjured            5981\n",
       "Weather.Condition          4561\n",
       "Broad.phase.of.flight     27234\n",
       "Report.Status              6450\n",
       "Publication.Date          15299\n",
       "dtype: int64"
      ]
     },
     "execution_count": 340,
     "metadata": {},
     "output_type": "execute_result"
    }
   ],
   "source": [
    "df.isna().sum()"
   ]
  },
  {
   "cell_type": "code",
   "execution_count": 341,
   "id": "99bcc65b",
   "metadata": {},
   "outputs": [
    {
     "data": {
      "text/plain": [
       "Event.Id                  0.000776\n",
       "Investigation.Type        0.000000\n",
       "Accident.Number           0.000776\n",
       "Event.Date                0.000776\n",
       "Location                  0.001360\n",
       "Country                   0.003316\n",
       "Latitude                  0.613503\n",
       "Longitude                 0.613604\n",
       "Airport.Code              0.435138\n",
       "Airport.Name              0.406574\n",
       "Injury.Severity           0.012017\n",
       "Aircraft.damage           0.036680\n",
       "Aircraft.Category         0.637053\n",
       "Registration.Number       0.015580\n",
       "Make                      0.001484\n",
       "Model                     0.001810\n",
       "Amateur.Built             0.001922\n",
       "Number.of.Engines         0.069167\n",
       "Engine.Type               0.080330\n",
       "FAR.Description           0.640021\n",
       "Schedule                  0.858562\n",
       "Purpose.of.flight         0.070382\n",
       "Air.carrier               0.812856\n",
       "Total.Fatal.Injuries      0.128937\n",
       "Total.Serious.Injuries    0.141404\n",
       "Total.Minor.Injuries      0.134918\n",
       "Total.Uninjured           0.067234\n",
       "Weather.Condition         0.051271\n",
       "Broad.phase.of.flight     0.306144\n",
       "Report.Status             0.072506\n",
       "Publication.Date          0.171980\n",
       "dtype: float64"
      ]
     },
     "execution_count": 341,
     "metadata": {},
     "output_type": "execute_result"
    }
   ],
   "source": [
    "# percentage of missing values per column\n",
    "df.isna().sum()/len(df)"
   ]
  },
  {
   "cell_type": "code",
   "execution_count": 342,
   "id": "1f04f000",
   "metadata": {},
   "outputs": [],
   "source": [
    "# columns with missing values to drop\n",
    "columns_to_drop = ['Latitude','Airport.Code','Airport.Name','Longitude','FAR.Description','Aircraft.Category','Air.carrier','Broad.phase.of.flight','Publication.Date','Schedule']"
   ]
  },
  {
   "cell_type": "code",
   "execution_count": 343,
   "id": "dc0a7ff7",
   "metadata": {},
   "outputs": [
    {
     "data": {
      "text/html": [
       "<div>\n",
       "<style scoped>\n",
       "    .dataframe tbody tr th:only-of-type {\n",
       "        vertical-align: middle;\n",
       "    }\n",
       "\n",
       "    .dataframe tbody tr th {\n",
       "        vertical-align: top;\n",
       "    }\n",
       "\n",
       "    .dataframe thead th {\n",
       "        text-align: right;\n",
       "    }\n",
       "</style>\n",
       "<table border=\"1\" class=\"dataframe\">\n",
       "  <thead>\n",
       "    <tr style=\"text-align: right;\">\n",
       "      <th></th>\n",
       "      <th>Event.Id</th>\n",
       "      <th>Investigation.Type</th>\n",
       "      <th>Accident.Number</th>\n",
       "      <th>Event.Date</th>\n",
       "      <th>Location</th>\n",
       "      <th>Country</th>\n",
       "      <th>Injury.Severity</th>\n",
       "      <th>Aircraft.damage</th>\n",
       "      <th>Registration.Number</th>\n",
       "      <th>Make</th>\n",
       "      <th>...</th>\n",
       "      <th>Amateur.Built</th>\n",
       "      <th>Number.of.Engines</th>\n",
       "      <th>Engine.Type</th>\n",
       "      <th>Purpose.of.flight</th>\n",
       "      <th>Total.Fatal.Injuries</th>\n",
       "      <th>Total.Serious.Injuries</th>\n",
       "      <th>Total.Minor.Injuries</th>\n",
       "      <th>Total.Uninjured</th>\n",
       "      <th>Weather.Condition</th>\n",
       "      <th>Report.Status</th>\n",
       "    </tr>\n",
       "  </thead>\n",
       "  <tbody>\n",
       "    <tr>\n",
       "      <th>0</th>\n",
       "      <td>20001218X45444</td>\n",
       "      <td>Accident</td>\n",
       "      <td>SEA87LA080</td>\n",
       "      <td>1948-10-24</td>\n",
       "      <td>MOOSE CREEK, ID</td>\n",
       "      <td>United States</td>\n",
       "      <td>Fatal(2)</td>\n",
       "      <td>Destroyed</td>\n",
       "      <td>NC6404</td>\n",
       "      <td>Stinson</td>\n",
       "      <td>...</td>\n",
       "      <td>No</td>\n",
       "      <td>1.0</td>\n",
       "      <td>Reciprocating</td>\n",
       "      <td>Personal</td>\n",
       "      <td>2.0</td>\n",
       "      <td>0.0</td>\n",
       "      <td>0.0</td>\n",
       "      <td>0.0</td>\n",
       "      <td>UNK</td>\n",
       "      <td>Probable Cause</td>\n",
       "    </tr>\n",
       "    <tr>\n",
       "      <th>1</th>\n",
       "      <td>20001218X45447</td>\n",
       "      <td>Accident</td>\n",
       "      <td>LAX94LA336</td>\n",
       "      <td>1962-07-19</td>\n",
       "      <td>BRIDGEPORT, CA</td>\n",
       "      <td>United States</td>\n",
       "      <td>Fatal(4)</td>\n",
       "      <td>Destroyed</td>\n",
       "      <td>N5069P</td>\n",
       "      <td>Piper</td>\n",
       "      <td>...</td>\n",
       "      <td>No</td>\n",
       "      <td>1.0</td>\n",
       "      <td>Reciprocating</td>\n",
       "      <td>Personal</td>\n",
       "      <td>4.0</td>\n",
       "      <td>0.0</td>\n",
       "      <td>0.0</td>\n",
       "      <td>0.0</td>\n",
       "      <td>UNK</td>\n",
       "      <td>Probable Cause</td>\n",
       "    </tr>\n",
       "    <tr>\n",
       "      <th>2</th>\n",
       "      <td>20061025X01555</td>\n",
       "      <td>Accident</td>\n",
       "      <td>NYC07LA005</td>\n",
       "      <td>1974-08-30</td>\n",
       "      <td>Saltville, VA</td>\n",
       "      <td>United States</td>\n",
       "      <td>Fatal(3)</td>\n",
       "      <td>Destroyed</td>\n",
       "      <td>N5142R</td>\n",
       "      <td>Cessna</td>\n",
       "      <td>...</td>\n",
       "      <td>No</td>\n",
       "      <td>1.0</td>\n",
       "      <td>Reciprocating</td>\n",
       "      <td>Personal</td>\n",
       "      <td>3.0</td>\n",
       "      <td>NaN</td>\n",
       "      <td>NaN</td>\n",
       "      <td>NaN</td>\n",
       "      <td>IMC</td>\n",
       "      <td>Probable Cause</td>\n",
       "    </tr>\n",
       "    <tr>\n",
       "      <th>3</th>\n",
       "      <td>20001218X45448</td>\n",
       "      <td>Accident</td>\n",
       "      <td>LAX96LA321</td>\n",
       "      <td>1977-06-19</td>\n",
       "      <td>EUREKA, CA</td>\n",
       "      <td>United States</td>\n",
       "      <td>Fatal(2)</td>\n",
       "      <td>Destroyed</td>\n",
       "      <td>N1168J</td>\n",
       "      <td>Rockwell</td>\n",
       "      <td>...</td>\n",
       "      <td>No</td>\n",
       "      <td>1.0</td>\n",
       "      <td>Reciprocating</td>\n",
       "      <td>Personal</td>\n",
       "      <td>2.0</td>\n",
       "      <td>0.0</td>\n",
       "      <td>0.0</td>\n",
       "      <td>0.0</td>\n",
       "      <td>IMC</td>\n",
       "      <td>Probable Cause</td>\n",
       "    </tr>\n",
       "    <tr>\n",
       "      <th>4</th>\n",
       "      <td>20041105X01764</td>\n",
       "      <td>Accident</td>\n",
       "      <td>CHI79FA064</td>\n",
       "      <td>1979-08-02</td>\n",
       "      <td>Canton, OH</td>\n",
       "      <td>United States</td>\n",
       "      <td>Fatal(1)</td>\n",
       "      <td>Destroyed</td>\n",
       "      <td>N15NY</td>\n",
       "      <td>Cessna</td>\n",
       "      <td>...</td>\n",
       "      <td>No</td>\n",
       "      <td>NaN</td>\n",
       "      <td>NaN</td>\n",
       "      <td>Personal</td>\n",
       "      <td>1.0</td>\n",
       "      <td>2.0</td>\n",
       "      <td>NaN</td>\n",
       "      <td>0.0</td>\n",
       "      <td>VMC</td>\n",
       "      <td>Probable Cause</td>\n",
       "    </tr>\n",
       "  </tbody>\n",
       "</table>\n",
       "<p>5 rows × 21 columns</p>\n",
       "</div>"
      ],
      "text/plain": [
       "         Event.Id Investigation.Type Accident.Number  Event.Date  \\\n",
       "0  20001218X45444           Accident      SEA87LA080  1948-10-24   \n",
       "1  20001218X45447           Accident      LAX94LA336  1962-07-19   \n",
       "2  20061025X01555           Accident      NYC07LA005  1974-08-30   \n",
       "3  20001218X45448           Accident      LAX96LA321  1977-06-19   \n",
       "4  20041105X01764           Accident      CHI79FA064  1979-08-02   \n",
       "\n",
       "          Location        Country Injury.Severity Aircraft.damage  \\\n",
       "0  MOOSE CREEK, ID  United States        Fatal(2)       Destroyed   \n",
       "1   BRIDGEPORT, CA  United States        Fatal(4)       Destroyed   \n",
       "2    Saltville, VA  United States        Fatal(3)       Destroyed   \n",
       "3       EUREKA, CA  United States        Fatal(2)       Destroyed   \n",
       "4       Canton, OH  United States        Fatal(1)       Destroyed   \n",
       "\n",
       "  Registration.Number      Make  ... Amateur.Built Number.of.Engines  \\\n",
       "0              NC6404   Stinson  ...            No               1.0   \n",
       "1              N5069P     Piper  ...            No               1.0   \n",
       "2              N5142R    Cessna  ...            No               1.0   \n",
       "3              N1168J  Rockwell  ...            No               1.0   \n",
       "4               N15NY    Cessna  ...            No               NaN   \n",
       "\n",
       "     Engine.Type Purpose.of.flight Total.Fatal.Injuries  \\\n",
       "0  Reciprocating          Personal                  2.0   \n",
       "1  Reciprocating          Personal                  4.0   \n",
       "2  Reciprocating          Personal                  3.0   \n",
       "3  Reciprocating          Personal                  2.0   \n",
       "4            NaN          Personal                  1.0   \n",
       "\n",
       "   Total.Serious.Injuries  Total.Minor.Injuries  Total.Uninjured  \\\n",
       "0                     0.0                   0.0              0.0   \n",
       "1                     0.0                   0.0              0.0   \n",
       "2                     NaN                   NaN              NaN   \n",
       "3                     0.0                   0.0              0.0   \n",
       "4                     2.0                   NaN              0.0   \n",
       "\n",
       "   Weather.Condition   Report.Status  \n",
       "0                UNK  Probable Cause  \n",
       "1                UNK  Probable Cause  \n",
       "2                IMC  Probable Cause  \n",
       "3                IMC  Probable Cause  \n",
       "4                VMC  Probable Cause  \n",
       "\n",
       "[5 rows x 21 columns]"
      ]
     },
     "execution_count": 343,
     "metadata": {},
     "output_type": "execute_result"
    }
   ],
   "source": [
    "df = df.drop(columns= columns_to_drop)\n",
    "\n",
    "df.head()\n",
    "\n"
   ]
  },
  {
   "cell_type": "code",
   "execution_count": 344,
   "id": "bd4a014c",
   "metadata": {},
   "outputs": [
    {
     "data": {
      "text/html": [
       "<div>\n",
       "<style scoped>\n",
       "    .dataframe tbody tr th:only-of-type {\n",
       "        vertical-align: middle;\n",
       "    }\n",
       "\n",
       "    .dataframe tbody tr th {\n",
       "        vertical-align: top;\n",
       "    }\n",
       "\n",
       "    .dataframe thead th {\n",
       "        text-align: right;\n",
       "    }\n",
       "</style>\n",
       "<table border=\"1\" class=\"dataframe\">\n",
       "  <thead>\n",
       "    <tr style=\"text-align: right;\">\n",
       "      <th></th>\n",
       "      <th>Number.of.Engines</th>\n",
       "      <th>Total.Fatal.Injuries</th>\n",
       "      <th>Total.Serious.Injuries</th>\n",
       "      <th>Total.Minor.Injuries</th>\n",
       "      <th>Total.Uninjured</th>\n",
       "    </tr>\n",
       "  </thead>\n",
       "  <tbody>\n",
       "    <tr>\n",
       "      <th>count</th>\n",
       "      <td>82805.000000</td>\n",
       "      <td>77488.000000</td>\n",
       "      <td>76379.000000</td>\n",
       "      <td>76956.000000</td>\n",
       "      <td>82977.000000</td>\n",
       "    </tr>\n",
       "    <tr>\n",
       "      <th>mean</th>\n",
       "      <td>1.146585</td>\n",
       "      <td>0.647855</td>\n",
       "      <td>0.279881</td>\n",
       "      <td>0.357061</td>\n",
       "      <td>5.325440</td>\n",
       "    </tr>\n",
       "    <tr>\n",
       "      <th>std</th>\n",
       "      <td>0.446510</td>\n",
       "      <td>5.485960</td>\n",
       "      <td>1.544084</td>\n",
       "      <td>2.235625</td>\n",
       "      <td>27.913634</td>\n",
       "    </tr>\n",
       "    <tr>\n",
       "      <th>min</th>\n",
       "      <td>0.000000</td>\n",
       "      <td>0.000000</td>\n",
       "      <td>0.000000</td>\n",
       "      <td>0.000000</td>\n",
       "      <td>0.000000</td>\n",
       "    </tr>\n",
       "    <tr>\n",
       "      <th>25%</th>\n",
       "      <td>1.000000</td>\n",
       "      <td>0.000000</td>\n",
       "      <td>0.000000</td>\n",
       "      <td>0.000000</td>\n",
       "      <td>0.000000</td>\n",
       "    </tr>\n",
       "    <tr>\n",
       "      <th>50%</th>\n",
       "      <td>1.000000</td>\n",
       "      <td>0.000000</td>\n",
       "      <td>0.000000</td>\n",
       "      <td>0.000000</td>\n",
       "      <td>1.000000</td>\n",
       "    </tr>\n",
       "    <tr>\n",
       "      <th>75%</th>\n",
       "      <td>1.000000</td>\n",
       "      <td>0.000000</td>\n",
       "      <td>0.000000</td>\n",
       "      <td>0.000000</td>\n",
       "      <td>2.000000</td>\n",
       "    </tr>\n",
       "    <tr>\n",
       "      <th>max</th>\n",
       "      <td>8.000000</td>\n",
       "      <td>349.000000</td>\n",
       "      <td>161.000000</td>\n",
       "      <td>380.000000</td>\n",
       "      <td>699.000000</td>\n",
       "    </tr>\n",
       "  </tbody>\n",
       "</table>\n",
       "</div>"
      ],
      "text/plain": [
       "       Number.of.Engines  Total.Fatal.Injuries  Total.Serious.Injuries  \\\n",
       "count       82805.000000          77488.000000            76379.000000   \n",
       "mean            1.146585              0.647855                0.279881   \n",
       "std             0.446510              5.485960                1.544084   \n",
       "min             0.000000              0.000000                0.000000   \n",
       "25%             1.000000              0.000000                0.000000   \n",
       "50%             1.000000              0.000000                0.000000   \n",
       "75%             1.000000              0.000000                0.000000   \n",
       "max             8.000000            349.000000              161.000000   \n",
       "\n",
       "       Total.Minor.Injuries  Total.Uninjured  \n",
       "count          76956.000000     82977.000000  \n",
       "mean               0.357061         5.325440  \n",
       "std                2.235625        27.913634  \n",
       "min                0.000000         0.000000  \n",
       "25%                0.000000         0.000000  \n",
       "50%                0.000000         1.000000  \n",
       "75%                0.000000         2.000000  \n",
       "max              380.000000       699.000000  "
      ]
     },
     "execution_count": 344,
     "metadata": {},
     "output_type": "execute_result"
    }
   ],
   "source": [
    "df.describe()"
   ]
  },
  {
   "cell_type": "markdown",
   "id": "d8c0a450",
   "metadata": {},
   "source": [
    "For numerical columns, the NaN values are kept because they could clearly mean that\n",
    " -Total fatal injuries-either were not recorded or or there was simply no fatal injuries. The same applies for the other columns. Therefore, by keeping the NaN values, it will help in diriving insights."
   ]
  },
  {
   "cell_type": "code",
   "execution_count": 345,
   "id": "0087cbbe",
   "metadata": {},
   "outputs": [],
   "source": [
    "#cols= ['Number.of.Engines',','Total.Serious.Injuries','Total.Fatal.Injuries','Total.Minor.Injuries','Total.Uninjured']\n",
    "\n",
    "cols= ['Number.of.Engines']\n",
    "#Getting the medians\n",
    "medians={col: df[col].median() for col in cols}\n",
    "\n",
    "#filling the numerical columns\n",
    "for col in cols:\n",
    "    df[col].fillna(medians[col],inplace=True)"
   ]
  },
  {
   "cell_type": "code",
   "execution_count": 346,
   "id": "e84f7750",
   "metadata": {},
   "outputs": [],
   "source": [
    "# replacing Nan values in numerical columns with 0\n",
    "cols= ['Total.Serious.Injuries','Total.Fatal.Injuries','Total.Minor.Injuries','Total.Uninjured']\n",
    "\n",
    "\n",
    "#filling the numerical columns with 0\n",
    "for col in cols:\n",
    "    df[col].fillna(0,inplace=True)"
   ]
  },
  {
   "cell_type": "code",
   "execution_count": 347,
   "id": "eaf568c4",
   "metadata": {},
   "outputs": [],
   "source": [
    "# converting columns with floats to integers\n",
    "\n",
    "df['Number.of.Engines'] = df['Number.of.Engines'].astype(int)\n",
    "df['Total.Fatal.Injuries'] = df['Total.Fatal.Injuries'].astype(int)\n",
    "df['Total.Serious.Injuries'] = df['Total.Serious.Injuries'].astype(int)\n",
    "df['Total.Minor.Injuries'] = df['Total.Minor.Injuries'].astype(int)\n",
    "df['Total.Uninjured'] = df['Total.Uninjured'].astype(int)\n"
   ]
  },
  {
   "cell_type": "markdown",
   "id": "1dac2f42",
   "metadata": {},
   "source": [
    "#Filling the categorical data"
   ]
  },
  {
   "cell_type": "code",
   "execution_count": 348,
   "id": "066b351a",
   "metadata": {},
   "outputs": [],
   "source": [
    "#handling placeholders\n",
    "placeholders= ['Unk', 'UNK','LR','N/A','na','nan','-','']\n",
    "\n",
    "df = df.replace(placeholders,'Unknown')\n",
    "\n",
    "df = df.fillna('Unknown')\n"
   ]
  },
  {
   "cell_type": "code",
   "execution_count": 349,
   "id": "bf716e80",
   "metadata": {},
   "outputs": [],
   "source": [
    "cols_to_fill= ['Registration.Number','Engine.Type','Location','Injury.Severity','Aircraft.damage','Aircraft.damage','Weather.Condition','Report.Status','Purpose.of.flight']\n",
    "\n",
    "df[cols_to_fill] = df[cols_to_fill].fillna('Unknown')\n",
    "\n"
   ]
  },
  {
   "cell_type": "markdown",
   "id": "77eb2442",
   "metadata": {},
   "source": [
    "#dropping rows with missing values"
   ]
  },
  {
   "cell_type": "code",
   "execution_count": 350,
   "id": "b229493a",
   "metadata": {},
   "outputs": [],
   "source": [
    "df= df.dropna(subset=['Event.Id','Accident.Number','Event.Date','Make','Model','Country','Amateur.Built'])\n",
    "\n",
    "\n"
   ]
  },
  {
   "cell_type": "code",
   "execution_count": 351,
   "id": "b9e6ae62",
   "metadata": {},
   "outputs": [
    {
     "data": {
      "text/plain": [
       "Event.Id                  0\n",
       "Investigation.Type        0\n",
       "Accident.Number           0\n",
       "Event.Date                0\n",
       "Location                  0\n",
       "Country                   0\n",
       "Injury.Severity           0\n",
       "Aircraft.damage           0\n",
       "Registration.Number       0\n",
       "Make                      0\n",
       "Model                     0\n",
       "Amateur.Built             0\n",
       "Number.of.Engines         0\n",
       "Engine.Type               0\n",
       "Purpose.of.flight         0\n",
       "Total.Fatal.Injuries      0\n",
       "Total.Serious.Injuries    0\n",
       "Total.Minor.Injuries      0\n",
       "Total.Uninjured           0\n",
       "Weather.Condition         0\n",
       "Report.Status             0\n",
       "dtype: int64"
      ]
     },
     "execution_count": 351,
     "metadata": {},
     "output_type": "execute_result"
    }
   ],
   "source": [
    "# Ccinfirming if all missing values have been handled\n",
    "df.isna().sum()"
   ]
  },
  {
   "cell_type": "code",
   "execution_count": 352,
   "id": "6f2c7df9",
   "metadata": {},
   "outputs": [
    {
     "name": "stdout",
     "output_type": "stream",
     "text": [
      "<class 'pandas.core.frame.DataFrame'>\n",
      "Int64Index: 88958 entries, 0 to 90347\n",
      "Data columns (total 21 columns):\n",
      " #   Column                  Non-Null Count  Dtype \n",
      "---  ------                  --------------  ----- \n",
      " 0   Event.Id                88958 non-null  object\n",
      " 1   Investigation.Type      88958 non-null  object\n",
      " 2   Accident.Number         88958 non-null  object\n",
      " 3   Event.Date              88958 non-null  object\n",
      " 4   Location                88958 non-null  object\n",
      " 5   Country                 88958 non-null  object\n",
      " 6   Injury.Severity         88958 non-null  object\n",
      " 7   Aircraft.damage         88958 non-null  object\n",
      " 8   Registration.Number     88958 non-null  object\n",
      " 9   Make                    88958 non-null  object\n",
      " 10  Model                   88958 non-null  object\n",
      " 11  Amateur.Built           88958 non-null  object\n",
      " 12  Number.of.Engines       88958 non-null  int32 \n",
      " 13  Engine.Type             88958 non-null  object\n",
      " 14  Purpose.of.flight       88958 non-null  object\n",
      " 15  Total.Fatal.Injuries    88958 non-null  int32 \n",
      " 16  Total.Serious.Injuries  88958 non-null  int32 \n",
      " 17  Total.Minor.Injuries    88958 non-null  int32 \n",
      " 18  Total.Uninjured         88958 non-null  int32 \n",
      " 19  Weather.Condition       88958 non-null  object\n",
      " 20  Report.Status           88958 non-null  object\n",
      "dtypes: int32(5), object(16)\n",
      "memory usage: 13.2+ MB\n"
     ]
    }
   ],
   "source": [
    "df.info()"
   ]
  },
  {
   "cell_type": "code",
   "execution_count": 353,
   "id": "8c748078",
   "metadata": {},
   "outputs": [
    {
     "data": {
      "text/plain": [
       "array(['Personal', 'Unknown', 'Business', 'Instructional', 'Ferry',\n",
       "       'Executive/corporate', 'Aerial Observation', 'Aerial Application',\n",
       "       'Public Aircraft', 'Skydiving', 'Other Work Use', 'Positioning',\n",
       "       'Flight Test', 'Air Race/show', 'Air Drop',\n",
       "       'Public Aircraft - Federal', 'Glider Tow',\n",
       "       'Public Aircraft - Local', 'External Load',\n",
       "       'Public Aircraft - State', 'Banner Tow', 'Firefighting',\n",
       "       'Air Race show', 'PUBS', 'ASHO', 'PUBL'], dtype=object)"
      ]
     },
     "execution_count": 353,
     "metadata": {},
     "output_type": "execute_result"
    }
   ],
   "source": [
    "df['Purpose.of.flight'].unique()"
   ]
  },
  {
   "cell_type": "code",
   "execution_count": 354,
   "id": "e8e60d91",
   "metadata": {},
   "outputs": [],
   "source": [
    "df['Purpose.of.flight'] = df['Purpose.of.flight'].astype(str)"
   ]
  },
  {
   "cell_type": "code",
   "execution_count": null,
   "id": "ce1609b0",
   "metadata": {},
   "outputs": [],
   "source": [
    "# mapping of Purpose.of.flight column\n",
    "\n",
    "def purpose_mapper(purpose):\n",
    "    if purpose in ['Personal','Instructional','Glider Tow','Executive/corporate','Skydiving']:\n",
    "         return 'Private'\n",
    "    elif purpose in ['Business','Ferry','Aerial Observation','Aerial Application','Public Aircraft','Other Work Use','Positioning','Flight Test','Air Race/show',\n",
    "                   'Air Drop','Public Aircraft - Federal','Glider Tow','Public Aircraft - Local','External Load','Public Aircraft - State', 'Banner Tow',\n",
    "                   'Firefighting','Air Race show','PUBS','ASHO','PUBL']:\n",
    "        return 'Commercial'\n",
    "    else:\n",
    "        return 'Unknown'\n"
   ]
  },
  {
   "cell_type": "code",
   "execution_count": 356,
   "id": "63432e8e",
   "metadata": {},
   "outputs": [],
   "source": [
    "df['Flight.Category'] = df['Purpose.of.flight'].map(purpose_mapper)\n",
    "\n"
   ]
  },
  {
   "cell_type": "code",
   "execution_count": 392,
   "id": "fc8bddb7",
   "metadata": {},
   "outputs": [
    {
     "data": {
      "text/plain": [
       "array(['108-3', 'PA24-180', '172M', ..., 'ROTORWAY EXEC 162-F',\n",
       "       'KITFOX S5', 'M-8 EAGLE'], dtype=object)"
      ]
     },
     "execution_count": 392,
     "metadata": {},
     "output_type": "execute_result"
    }
   ],
   "source": [
    "df['Model'].unique()"
   ]
  },
  {
   "cell_type": "code",
   "execution_count": 357,
   "id": "c85dbbba",
   "metadata": {},
   "outputs": [
    {
     "data": {
      "text/plain": [
       "array(['Private', 'Unknown', 'Commercial'], dtype=object)"
      ]
     },
     "execution_count": 357,
     "metadata": {},
     "output_type": "execute_result"
    }
   ],
   "source": [
    "df['Flight.Category'].unique()"
   ]
  },
  {
   "cell_type": "code",
   "execution_count": 389,
   "id": "2c03dbd7",
   "metadata": {},
   "outputs": [
    {
     "name": "stdout",
     "output_type": "stream",
     "text": [
      "                 Total.Fatal.Injuries  Total.Serious.Injuries  \\\n",
      "Flight.Category                                                 \n",
      "Commercial                       5616                    3046   \n",
      "Private                         21523                   12387   \n",
      "Unknown                         23062                    5944   \n",
      "\n",
      "                 Total.Minor.Injuries  \n",
      "Flight.Category                        \n",
      "Commercial                       3776  \n",
      "Private                         15277  \n",
      "Unknown                          8425  \n"
     ]
    }
   ],
   "source": [
    "# injuries by Flight category\n",
    "flight_summary= df.groupby('Flight.Category')[['Total.Fatal.Injuries',\n",
    "                                              'Total.Serious.Injuries',\n",
    "                                              'Total.Minor.Injuries']].sum()\n",
    "                                              \n",
    "print(flight_summary)                                        "
   ]
  },
  {
   "cell_type": "markdown",
   "id": "13c27776",
   "metadata": {},
   "source": [
    "From the analysis,it's clear that Private planes have a high injury count as compared to the commercial planes.  Therefore based on this, it will be prudent to advise the client to base his enterprise more on commercial planes than private planes. Commercial planes have low fatalities and indident rates as compared to private planes."
   ]
  },
  {
   "cell_type": "markdown",
   "id": "d46945b0",
   "metadata": {},
   "source": [
    "OBJECTIVE 2"
   ]
  },
  {
   "cell_type": "code",
   "execution_count": null,
   "id": "39e1381b",
   "metadata": {},
   "outputs": [],
   "source": []
  },
  {
   "cell_type": "code",
   "execution_count": 360,
   "id": "ac033a72",
   "metadata": {},
   "outputs": [
    {
     "data": {
      "text/plain": [
       "Index(['Event.Id', 'Investigation.Type', 'Accident.Number', 'Event.Date',\n",
       "       'Location', 'Country', 'Injury.Severity', 'Aircraft.damage',\n",
       "       'Registration.Number', 'Make', 'Model', 'Amateur.Built',\n",
       "       'Number.of.Engines', 'Engine.Type', 'Purpose.of.flight',\n",
       "       'Total.Fatal.Injuries', 'Total.Serious.Injuries',\n",
       "       'Total.Minor.Injuries', 'Total.Uninjured', 'Weather.Condition',\n",
       "       'Report.Status', 'Flight.Category'],\n",
       "      dtype='object')"
      ]
     },
     "execution_count": 360,
     "metadata": {},
     "output_type": "execute_result"
    }
   ],
   "source": [
    "df.columns"
   ]
  },
  {
   "cell_type": "code",
   "execution_count": 390,
   "id": "5267ddab",
   "metadata": {},
   "outputs": [
    {
     "data": {
      "text/plain": [
       "Make                      Aircraft.damage\n",
       "107.5 Flying Corporation  Destroyed          1.000000\n",
       "1200                      Substantial        1.000000\n",
       "177MF LLC                 Substantial        1.000000\n",
       "1977 Colfer-chan          Substantial        1.000000\n",
       "1st Ftr Gp                Destroyed          1.000000\n",
       "                                               ...   \n",
       "Zwart                     Substantial        1.000000\n",
       "de Havilland              Substantial        0.888889\n",
       "                          Unknown            0.111111\n",
       "drone                     Unknown            1.000000\n",
       "unknown                   Substantial        1.000000\n",
       "Name: Aircraft.damage, Length: 9650, dtype: float64"
      ]
     },
     "execution_count": 390,
     "metadata": {},
     "output_type": "execute_result"
    }
   ],
   "source": [
    "df.groupby('Make')['Aircraft.damage'].value_counts(normalize=True)"
   ]
  },
  {
   "cell_type": "code",
   "execution_count": 381,
   "id": "8689b3f8",
   "metadata": {},
   "outputs": [
    {
     "data": {
      "text/plain": [
       "Model               Aircraft.damage\n",
       "&GCBC               Substantial        1.0\n",
       "(EX) RV-6           Substantial        1.0\n",
       "(MODIFIED)          Destroyed          1.0\n",
       "(SOLOY CONVERSION)  Substantial        1.0\n",
       "-269C               Substantial        1.0\n",
       "                                      ... \n",
       "lebed               Substantial        1.0\n",
       "none                Substantial        1.0\n",
       "sportstar           Substantial        1.0\n",
       "unk                 Substantial        1.0\n",
       "unknown             Destroyed          1.0\n",
       "Name: Aircraft.damage, Length: 16620, dtype: float64"
      ]
     },
     "execution_count": 381,
     "metadata": {},
     "output_type": "execute_result"
    }
   ],
   "source": [
    "df.groupby('Model')['Aircraft.damage'].value_counts(normalize=True)"
   ]
  },
  {
   "cell_type": "code",
   "execution_count": 380,
   "id": "dbb2d67f",
   "metadata": {},
   "outputs": [
    {
     "data": {
      "text/plain": [
       "Make                      Total.Fatal.Injuries\n",
       "107.5 Flying Corporation  1                       1.000000\n",
       "1200                      0                       1.000000\n",
       "177MF LLC                 0                       1.000000\n",
       "1977 Colfer-chan          0                       1.000000\n",
       "1st Ftr Gp                1                       1.000000\n",
       "                                                    ...   \n",
       "Zwart                     0                       1.000000\n",
       "de Havilland              0                       0.888889\n",
       "                          2                       0.111111\n",
       "drone                     0                       1.000000\n",
       "unknown                   0                       1.000000\n",
       "Name: Total.Fatal.Injuries, Length: 10166, dtype: float64"
      ]
     },
     "execution_count": 380,
     "metadata": {},
     "output_type": "execute_result"
    }
   ],
   "source": [
    "df.groupby('Make')['Total.Fatal.Injuries'].value_counts(normalize=True)"
   ]
  },
  {
   "cell_type": "code",
   "execution_count": 363,
   "metadata": {},
   "outputs": [],
   "source": [
    "fatal_count = df.groupby('Flight.Category')['Total.Fatal.Injuries'].value_counts(normalize=True)\n",
    "\n",
    "fatal_count_sorted = fatal_count.sort_values(ascending=True)"
   ]
  },
  {
   "cell_type": "code",
   "execution_count": 364,
   "id": "650a591a",
   "metadata": {},
   "outputs": [
    {
     "name": "stdout",
     "output_type": "stream",
     "text": [
      "Flight.Category  Total.Fatal.Injuries\n",
      "Private          16                      0.000016\n",
      "                 82                      0.000016\n",
      "                 118                     0.000016\n",
      "                 14                      0.000033\n",
      "                 17                      0.000033\n",
      "                                           ...   \n",
      "Unknown          1                       0.096685\n",
      "Commercial       1                       0.119206\n",
      "Unknown          0                       0.760315\n",
      "Commercial       0                       0.796454\n",
      "Private          0                       0.809047\n",
      "Name: Total.Fatal.Injuries, Length: 160, dtype: float64\n"
     ]
    }
   ],
   "source": [
    "print(fatal_count_sorted)"
   ]
  },
  {
   "cell_type": "code",
   "execution_count": 382,
   "id": "b4d658c7",
   "metadata": {},
   "outputs": [
    {
     "data": {
      "text/plain": [
       "Number.of.Engines  Aircraft.damage\n",
       "0                  Substantial        0.686786\n",
       "                   Destroyed          0.141109\n",
       "                   Unknown            0.111746\n",
       "                   Minor              0.060359\n",
       "1                  Substantial        0.755490\n",
       "                   Destroyed          0.204608\n",
       "                   Unknown            0.022816\n",
       "                   Minor              0.017086\n",
       "2                  Substantial        0.529651\n",
       "                   Destroyed          0.259139\n",
       "                   Unknown            0.112375\n",
       "                   Minor              0.098836\n",
       "3                  Minor              0.407867\n",
       "                   Unknown            0.325052\n",
       "                   Substantial        0.215321\n",
       "                   Destroyed          0.051760\n",
       "4                  Minor              0.336427\n",
       "                   Substantial        0.264501\n",
       "                   Unknown            0.264501\n",
       "                   Destroyed          0.134571\n",
       "6                  Substantial        1.000000\n",
       "8                  Substantial        0.666667\n",
       "                   Unknown            0.333333\n",
       "Name: Aircraft.damage, dtype: float64"
      ]
     },
     "execution_count": 382,
     "metadata": {},
     "output_type": "execute_result"
    }
   ],
   "source": [
    "df.groupby('Number.of.Engines')['Aircraft.damage'].value_counts(normalize=True)"
   ]
  },
  {
   "cell_type": "code",
   "execution_count": 384,
   "id": "9e678024",
   "metadata": {},
   "outputs": [
    {
     "name": "stdout",
     "output_type": "stream",
     "text": [
      "Number.of.Engines  Aircraft.damage\n",
      "0                  Substantial        0.686786\n",
      "                   Destroyed          0.141109\n",
      "                   Unknown            0.111746\n",
      "                   Minor              0.060359\n",
      "1                  Substantial        0.755490\n",
      "                   Destroyed          0.204608\n",
      "                   Unknown            0.022816\n",
      "                   Minor              0.017086\n",
      "2                  Substantial        0.529651\n",
      "                   Destroyed          0.259139\n",
      "                   Unknown            0.112375\n",
      "                   Minor              0.098836\n",
      "3                  Minor              0.407867\n",
      "                   Unknown            0.325052\n",
      "                   Substantial        0.215321\n",
      "                   Destroyed          0.051760\n",
      "4                  Minor              0.336427\n",
      "                   Substantial        0.264501\n",
      "                   Unknown            0.264501\n",
      "                   Destroyed          0.134571\n",
      "6                  Substantial        1.000000\n",
      "8                  Substantial        0.666667\n",
      "                   Unknown            0.333333\n",
      "Name: Aircraft.damage, dtype: float64\n"
     ]
    }
   ],
   "source": [
    "damage = df.groupby('Number.of.Engines')['Aircraft.damage'].value_counts(normalize=True)\n",
    "\n",
    "print(damage)"
   ]
  },
  {
   "cell_type": "code",
   "execution_count": 385,
   "id": "be6e765e",
   "metadata": {},
   "outputs": [
    {
     "data": {
      "text/plain": [
       "Weather.Condition  Aircraft.damage\n",
       "IMC                Destroyed          0.559070\n",
       "                   Substantial        0.377677\n",
       "                   Unknown            0.035308\n",
       "                   Minor              0.027945\n",
       "Unknown            Substantial        0.369431\n",
       "                   Destroyed          0.266948\n",
       "                   Unknown            0.249340\n",
       "                   Minor              0.114281\n",
       "VMC                Substantial        0.773489\n",
       "                   Destroyed          0.178078\n",
       "                   Minor              0.025730\n",
       "                   Unknown            0.022703\n",
       "Name: Aircraft.damage, dtype: float64"
      ]
     },
     "execution_count": 385,
     "metadata": {},
     "output_type": "execute_result"
    }
   ],
   "source": [
    "#Weather condition effect to Airplane damage\n",
    "df.groupby('Weather.Condition')['Aircraft.damage'].value_counts(normalize=True)"
   ]
  },
  {
   "cell_type": "code",
   "execution_count": 386,
   "id": "39db2fcc",
   "metadata": {},
   "outputs": [
    {
     "data": {
      "text/plain": [
       "Location            Aircraft.damage\n",
       "(N) SKWENTNA, AK    Substantial        1.000000\n",
       ",                   Substantial        0.666667\n",
       "                    Unknown            0.333333\n",
       ", AO                Substantial        1.000000\n",
       ", Austria           Minor              1.000000\n",
       "                                         ...   \n",
       "nyika, Malawi       Destroyed          1.000000\n",
       "tokyo, Japan        Unknown            1.000000\n",
       "unknown, Indonesia  Unknown            1.000000\n",
       "unknown, Mexico     Unknown            0.666667\n",
       "                    Minor              0.333333\n",
       "Name: Aircraft.damage, Length: 35877, dtype: float64"
      ]
     },
     "execution_count": 386,
     "metadata": {},
     "output_type": "execute_result"
    }
   ],
   "source": [
    "df.groupby('Location')['Aircraft.damage'].value_counts(normalize=True)"
   ]
  },
  {
   "cell_type": "markdown",
   "id": "107d7aa1",
   "metadata": {},
   "source": [
    "# Objective 3"
   ]
  },
  {
   "cell_type": "code",
   "execution_count": 369,
   "id": "24fe5707",
   "metadata": {},
   "outputs": [
    {
     "data": {
      "text/plain": [
       "Engine.Type      Aircraft.damage\n",
       "Electric         Substantial        0.800000\n",
       "                 Destroyed          0.200000\n",
       "Geared Turbofan  Unknown            0.916667\n",
       "                 Minor              0.083333\n",
       "Hybrid Rocket    Destroyed          1.000000\n",
       "NONE             Substantial        1.000000\n",
       "None             Substantial        0.736842\n",
       "                 Unknown            0.157895\n",
       "                 Destroyed          0.052632\n",
       "                 Minor              0.052632\n",
       "Reciprocating    Substantial        0.773839\n",
       "                 Destroyed          0.208960\n",
       "                 Minor              0.012268\n",
       "                 Unknown            0.004933\n",
       "Turbo Fan        Unknown            0.356711\n",
       "                 Substantial        0.294236\n",
       "                 Minor              0.270052\n",
       "                 Destroyed          0.079000\n",
       "Turbo Jet        Substantial        0.332859\n",
       "                 Unknown            0.237553\n",
       "                 Minor              0.230441\n",
       "                 Destroyed          0.199147\n",
       "Turbo Prop       Substantial        0.600118\n",
       "                 Destroyed          0.237983\n",
       "                 Minor              0.090239\n",
       "                 Unknown            0.071660\n",
       "Turbo Shaft      Substantial        0.706290\n",
       "                 Destroyed          0.243558\n",
       "                 Minor              0.025215\n",
       "                 Unknown            0.024938\n",
       "Unknown          Substantial        0.518587\n",
       "                 Destroyed          0.224783\n",
       "                 Unknown            0.178261\n",
       "                 Minor              0.078370\n",
       "Name: Aircraft.damage, dtype: float64"
      ]
     },
     "execution_count": 369,
     "metadata": {},
     "output_type": "execute_result"
    }
   ],
   "source": [
    "df.groupby('Engine.Type')['Aircraft.damage'].value_counts(normalize=True)"
   ]
  },
  {
   "cell_type": "code",
   "execution_count": 370,
   "id": "091509fd",
   "metadata": {},
   "outputs": [
    {
     "data": {
      "text/plain": [
       "array(['Reciprocating', 'Unknown', 'Turbo Fan', 'Turbo Shaft',\n",
       "       'Turbo Prop', 'Turbo Jet', 'None', 'Electric', 'Hybrid Rocket',\n",
       "       'Geared Turbofan', 'NONE'], dtype=object)"
      ]
     },
     "execution_count": 370,
     "metadata": {},
     "output_type": "execute_result"
    }
   ],
   "source": [
    "df['Engine.Type'].unique()"
   ]
  },
  {
   "cell_type": "markdown",
   "id": "28164981",
   "metadata": {},
   "source": [
    "## Using typical data aviation datasets(NTSB or Kaggle aviation accident data), binning in aviation will look like this."
   ]
  },
  {
   "cell_type": "markdown",
   "id": "8ac2641d",
   "metadata": {},
   "source": [
    "In Aviation safety analytics(NTSB,FAA), injury or fatality bins often follow severity threshold rather than statistical intervals."
   ]
  },
  {
   "cell_type": "code",
   "execution_count": 371,
   "id": "7a009e82",
   "metadata": {},
   "outputs": [
    {
     "data": {
      "text/plain": [
       "Index(['Event.Id', 'Investigation.Type', 'Accident.Number', 'Event.Date',\n",
       "       'Location', 'Country', 'Injury.Severity', 'Aircraft.damage',\n",
       "       'Registration.Number', 'Make', 'Model', 'Amateur.Built',\n",
       "       'Number.of.Engines', 'Engine.Type', 'Purpose.of.flight',\n",
       "       'Total.Fatal.Injuries', 'Total.Serious.Injuries',\n",
       "       'Total.Minor.Injuries', 'Total.Uninjured', 'Weather.Condition',\n",
       "       'Report.Status', 'Flight.Category'],\n",
       "      dtype='object')"
      ]
     },
     "execution_count": 371,
     "metadata": {},
     "output_type": "execute_result"
    }
   ],
   "source": [
    "df.columns"
   ]
  },
  {
   "cell_type": "markdown",
   "id": "3aa8a5ee",
   "metadata": {},
   "source": [
    "##Analyzing the accidents"
   ]
  },
  {
   "cell_type": "code",
   "execution_count": 372,
   "id": "0882c028",
   "metadata": {},
   "outputs": [
    {
     "data": {
      "text/html": [
       "<div>\n",
       "<style scoped>\n",
       "    .dataframe tbody tr th:only-of-type {\n",
       "        vertical-align: middle;\n",
       "    }\n",
       "\n",
       "    .dataframe tbody tr th {\n",
       "        vertical-align: top;\n",
       "    }\n",
       "\n",
       "    .dataframe thead th {\n",
       "        text-align: right;\n",
       "    }\n",
       "</style>\n",
       "<table border=\"1\" class=\"dataframe\">\n",
       "  <thead>\n",
       "    <tr style=\"text-align: right;\">\n",
       "      <th></th>\n",
       "      <th>Total.Fatal.Injuries</th>\n",
       "      <th>Total.Serious.Injuries</th>\n",
       "      <th>Total.Minor.Injuries</th>\n",
       "    </tr>\n",
       "    <tr>\n",
       "      <th>Make</th>\n",
       "      <th></th>\n",
       "      <th></th>\n",
       "      <th></th>\n",
       "    </tr>\n",
       "  </thead>\n",
       "  <tbody>\n",
       "    <tr>\n",
       "      <th>107.5 Flying Corporation</th>\n",
       "      <td>1.000000</td>\n",
       "      <td>0.000000</td>\n",
       "      <td>0.000000</td>\n",
       "    </tr>\n",
       "    <tr>\n",
       "      <th>1200</th>\n",
       "      <td>0.000000</td>\n",
       "      <td>1.000000</td>\n",
       "      <td>0.000000</td>\n",
       "    </tr>\n",
       "    <tr>\n",
       "      <th>177MF LLC</th>\n",
       "      <td>0.000000</td>\n",
       "      <td>2.000000</td>\n",
       "      <td>0.000000</td>\n",
       "    </tr>\n",
       "    <tr>\n",
       "      <th>1977 Colfer-chan</th>\n",
       "      <td>0.000000</td>\n",
       "      <td>0.000000</td>\n",
       "      <td>1.000000</td>\n",
       "    </tr>\n",
       "    <tr>\n",
       "      <th>1st Ftr Gp</th>\n",
       "      <td>1.000000</td>\n",
       "      <td>0.000000</td>\n",
       "      <td>0.000000</td>\n",
       "    </tr>\n",
       "    <tr>\n",
       "      <th>...</th>\n",
       "      <td>...</td>\n",
       "      <td>...</td>\n",
       "      <td>...</td>\n",
       "    </tr>\n",
       "    <tr>\n",
       "      <th>Zukowski</th>\n",
       "      <td>0.000000</td>\n",
       "      <td>0.000000</td>\n",
       "      <td>0.000000</td>\n",
       "    </tr>\n",
       "    <tr>\n",
       "      <th>Zwart</th>\n",
       "      <td>0.000000</td>\n",
       "      <td>0.000000</td>\n",
       "      <td>0.000000</td>\n",
       "    </tr>\n",
       "    <tr>\n",
       "      <th>de Havilland</th>\n",
       "      <td>0.222222</td>\n",
       "      <td>0.444444</td>\n",
       "      <td>0.111111</td>\n",
       "    </tr>\n",
       "    <tr>\n",
       "      <th>drone</th>\n",
       "      <td>0.000000</td>\n",
       "      <td>0.000000</td>\n",
       "      <td>0.000000</td>\n",
       "    </tr>\n",
       "    <tr>\n",
       "      <th>unknown</th>\n",
       "      <td>0.000000</td>\n",
       "      <td>0.000000</td>\n",
       "      <td>1.000000</td>\n",
       "    </tr>\n",
       "  </tbody>\n",
       "</table>\n",
       "<p>8237 rows × 3 columns</p>\n",
       "</div>"
      ],
      "text/plain": [
       "                          Total.Fatal.Injuries  Total.Serious.Injuries  \\\n",
       "Make                                                                     \n",
       "107.5 Flying Corporation              1.000000                0.000000   \n",
       "1200                                  0.000000                1.000000   \n",
       "177MF LLC                             0.000000                2.000000   \n",
       "1977 Colfer-chan                      0.000000                0.000000   \n",
       "1st Ftr Gp                            1.000000                0.000000   \n",
       "...                                        ...                     ...   \n",
       "Zukowski                              0.000000                0.000000   \n",
       "Zwart                                 0.000000                0.000000   \n",
       "de Havilland                          0.222222                0.444444   \n",
       "drone                                 0.000000                0.000000   \n",
       "unknown                               0.000000                0.000000   \n",
       "\n",
       "                          Total.Minor.Injuries  \n",
       "Make                                            \n",
       "107.5 Flying Corporation              0.000000  \n",
       "1200                                  0.000000  \n",
       "177MF LLC                             0.000000  \n",
       "1977 Colfer-chan                      1.000000  \n",
       "1st Ftr Gp                            0.000000  \n",
       "...                                        ...  \n",
       "Zukowski                              0.000000  \n",
       "Zwart                                 0.000000  \n",
       "de Havilland                          0.111111  \n",
       "drone                                 0.000000  \n",
       "unknown                               1.000000  \n",
       "\n",
       "[8237 rows x 3 columns]"
      ]
     },
     "execution_count": 372,
     "metadata": {},
     "output_type": "execute_result"
    }
   ],
   "source": [
    "#Injuries by make\n",
    "df.groupby('Make')[['Total.Fatal.Injuries','Total.Serious.Injuries','Total.Minor.Injuries']].mean()"
   ]
  },
  {
   "cell_type": "code",
   "execution_count": 373,
   "id": "8ff9da00",
   "metadata": {},
   "outputs": [],
   "source": [
    "# using pivot table to visualize the same.\n",
    "\n",
    "values= ['Total.Serious.Injuries','Total.Fatal.Injuries','Total.Minor.Injuries','Total.Uninjured']\n",
    "pivot= df.pivot_table(\n",
    "    index='Make',\n",
    "    values= ['Total.Serious.Injuries','Total.Fatal.Injuries','Total.Minor.Injuries','Total.Uninjured'],\n",
    "    aggfunc='mean'\n",
    "    )"
   ]
  },
  {
   "cell_type": "markdown",
   "id": "9dffe69f",
   "metadata": {},
   "source": [
    "###Locality, country with aircraft damage\n"
   ]
  },
  {
   "cell_type": "code",
   "execution_count": 374,
   "id": "ed56ce53",
   "metadata": {},
   "outputs": [
    {
     "name": "stdout",
     "output_type": "stream",
     "text": [
      "Country      Aircraft.damage\n",
      "Botswana     Destroyed          1.0\n",
      "Ivory Coast  Substantial        1.0\n",
      "Liberia      Destroyed          1.0\n",
      "Libya        Destroyed          1.0\n",
      "MU           Unknown            1.0\n",
      "Malampa      Substantial        1.0\n",
      "Malawi       Destroyed          1.0\n",
      "Anguilla     Substantial        1.0\n",
      "Mauritania   Destroyed          1.0\n",
      "Micronesia   Substantial        1.0\n",
      "Name: Aircraft.damage, dtype: float64\n"
     ]
    }
   ],
   "source": [
    "#top ten countries with \n",
    "top_ten_damage_countries = df.groupby('Country')['Aircraft.damage'].value_counts(normalize=True)\n",
    "\n",
    "top_10 = top_ten_damage_countries.sort_values(ascending=False)\n",
    "\n",
    "print(top_10.head(10))"
   ]
  },
  {
   "cell_type": "code",
   "execution_count": 375,
   "id": "dbadeda0",
   "metadata": {},
   "outputs": [
    {
     "name": "stdout",
     "output_type": "stream",
     "text": [
      "Country             Aircraft.damage\n",
      "GULF OF MEXICO      Unknown            0.033333\n",
      "Costa Rica          Minor              0.033333\n",
      "Honduras            Minor              0.033333\n",
      "                    Unknown            0.033333\n",
      "Guatemala           Unknown            0.029851\n",
      "Dominican Republic  Minor              0.029412\n",
      "United States       Minor              0.025764\n",
      "                    Unknown            0.024669\n",
      "Austria             Minor              0.017857\n",
      "Guatemala           Minor              0.014925\n",
      "Name: Aircraft.damage, dtype: float64\n"
     ]
    }
   ],
   "source": [
    "top_ten_damage_countries = df.groupby('Country')['Aircraft.damage'].value_counts(normalize=True)\n",
    "\n",
    "top_10 = top_ten_damage_countries.sort_values(ascending=False)\n",
    "\n",
    "print(top_10.tail(10))"
   ]
  },
  {
   "cell_type": "code",
   "execution_count": 376,
   "id": "d0be63a5",
   "metadata": {},
   "outputs": [],
   "source": [
    "#saving the cleaned copy\n",
    "df.to_csv('aviation_data_cleaned.csv',index=False)"
   ]
  },
  {
   "cell_type": "code",
   "execution_count": null,
   "id": "d407c8f7",
   "metadata": {},
   "outputs": [],
   "source": [
    "\n"
   ]
  }
 ],
 "metadata": {
  "kernelspec": {
   "display_name": "learn-env",
   "language": "python",
   "name": "python3"
  },
  "language_info": {
   "codemirror_mode": {
    "name": "ipython",
    "version": 3
   },
   "file_extension": ".py",
   "mimetype": "text/x-python",
   "name": "python",
   "nbconvert_exporter": "python",
   "pygments_lexer": "ipython3",
   "version": "3.8.5"
  }
 },
 "nbformat": 4,
 "nbformat_minor": 5
}
