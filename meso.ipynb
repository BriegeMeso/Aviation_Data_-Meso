{
 "cells": [
  {
   "cell_type": "markdown",
   "id": "9a461bf6",
   "metadata": {},
   "source": [
    "#Load and Inspect"
   ]
  },
  {
   "cell_type": "markdown",
   "id": "2a5594cb",
   "metadata": {},
   "source": [
    "In this project, we will analyze the Aviation_Data.csv to be able to advise our client who is intrested in diversifying his business into aviation sector to be able to identify the lowest risk planes that he can buy."
   ]
  },
  {
   "cell_type": "markdown",
   "id": "93bed0f6",
   "metadata": {},
   "source": [
    "# Objectives"
   ]
  },
  {
   "cell_type": "markdown",
   "id": "8b050b9d",
   "metadata": {},
   "source": [
    "The objectives for this project are:\n",
    "   -To identify airplanes with low risk based on their make and model\n",
    "   -To compare safety of the planes by make and model.\n",
    "   -To analyze and undertand safety and performance of the planes using engine number and engine type\n",
    "   -To determine geographica risk patterns that "
   ]
  },
  {
   "cell_type": "markdown",
   "id": "ffcbc0a6",
   "metadata": {},
   "source": [
    "# Part 1: Pandas"
   ]
  },
  {
   "cell_type": "code",
   "execution_count": 751,
   "id": "ac0cdb3c",
   "metadata": {},
   "outputs": [
    {
     "data": {
      "text/html": [
       "<div>\n",
       "<style scoped>\n",
       "    .dataframe tbody tr th:only-of-type {\n",
       "        vertical-align: middle;\n",
       "    }\n",
       "\n",
       "    .dataframe tbody tr th {\n",
       "        vertical-align: top;\n",
       "    }\n",
       "\n",
       "    .dataframe thead th {\n",
       "        text-align: right;\n",
       "    }\n",
       "</style>\n",
       "<table border=\"1\" class=\"dataframe\">\n",
       "  <thead>\n",
       "    <tr style=\"text-align: right;\">\n",
       "      <th></th>\n",
       "      <th>Event.Id</th>\n",
       "      <th>Investigation.Type</th>\n",
       "      <th>Accident.Number</th>\n",
       "      <th>Event.Date</th>\n",
       "      <th>Location</th>\n",
       "      <th>Country</th>\n",
       "      <th>Latitude</th>\n",
       "      <th>Longitude</th>\n",
       "      <th>Airport.Code</th>\n",
       "      <th>Airport.Name</th>\n",
       "      <th>...</th>\n",
       "      <th>Purpose.of.flight</th>\n",
       "      <th>Air.carrier</th>\n",
       "      <th>Total.Fatal.Injuries</th>\n",
       "      <th>Total.Serious.Injuries</th>\n",
       "      <th>Total.Minor.Injuries</th>\n",
       "      <th>Total.Uninjured</th>\n",
       "      <th>Weather.Condition</th>\n",
       "      <th>Broad.phase.of.flight</th>\n",
       "      <th>Report.Status</th>\n",
       "      <th>Publication.Date</th>\n",
       "    </tr>\n",
       "  </thead>\n",
       "  <tbody>\n",
       "    <tr>\n",
       "      <th>0</th>\n",
       "      <td>20001218X45444</td>\n",
       "      <td>Accident</td>\n",
       "      <td>SEA87LA080</td>\n",
       "      <td>1948-10-24</td>\n",
       "      <td>MOOSE CREEK, ID</td>\n",
       "      <td>United States</td>\n",
       "      <td>NaN</td>\n",
       "      <td>NaN</td>\n",
       "      <td>NaN</td>\n",
       "      <td>NaN</td>\n",
       "      <td>...</td>\n",
       "      <td>Personal</td>\n",
       "      <td>NaN</td>\n",
       "      <td>2.0</td>\n",
       "      <td>0.0</td>\n",
       "      <td>0.0</td>\n",
       "      <td>0.0</td>\n",
       "      <td>UNK</td>\n",
       "      <td>Cruise</td>\n",
       "      <td>Probable Cause</td>\n",
       "      <td>NaN</td>\n",
       "    </tr>\n",
       "    <tr>\n",
       "      <th>1</th>\n",
       "      <td>20001218X45447</td>\n",
       "      <td>Accident</td>\n",
       "      <td>LAX94LA336</td>\n",
       "      <td>1962-07-19</td>\n",
       "      <td>BRIDGEPORT, CA</td>\n",
       "      <td>United States</td>\n",
       "      <td>NaN</td>\n",
       "      <td>NaN</td>\n",
       "      <td>NaN</td>\n",
       "      <td>NaN</td>\n",
       "      <td>...</td>\n",
       "      <td>Personal</td>\n",
       "      <td>NaN</td>\n",
       "      <td>4.0</td>\n",
       "      <td>0.0</td>\n",
       "      <td>0.0</td>\n",
       "      <td>0.0</td>\n",
       "      <td>UNK</td>\n",
       "      <td>Unknown</td>\n",
       "      <td>Probable Cause</td>\n",
       "      <td>19-09-1996</td>\n",
       "    </tr>\n",
       "    <tr>\n",
       "      <th>2</th>\n",
       "      <td>20061025X01555</td>\n",
       "      <td>Accident</td>\n",
       "      <td>NYC07LA005</td>\n",
       "      <td>1974-08-30</td>\n",
       "      <td>Saltville, VA</td>\n",
       "      <td>United States</td>\n",
       "      <td>36.9222</td>\n",
       "      <td>-81.8781</td>\n",
       "      <td>NaN</td>\n",
       "      <td>NaN</td>\n",
       "      <td>...</td>\n",
       "      <td>Personal</td>\n",
       "      <td>NaN</td>\n",
       "      <td>3.0</td>\n",
       "      <td>NaN</td>\n",
       "      <td>NaN</td>\n",
       "      <td>NaN</td>\n",
       "      <td>IMC</td>\n",
       "      <td>Cruise</td>\n",
       "      <td>Probable Cause</td>\n",
       "      <td>26-02-2007</td>\n",
       "    </tr>\n",
       "    <tr>\n",
       "      <th>3</th>\n",
       "      <td>20001218X45448</td>\n",
       "      <td>Accident</td>\n",
       "      <td>LAX96LA321</td>\n",
       "      <td>1977-06-19</td>\n",
       "      <td>EUREKA, CA</td>\n",
       "      <td>United States</td>\n",
       "      <td>NaN</td>\n",
       "      <td>NaN</td>\n",
       "      <td>NaN</td>\n",
       "      <td>NaN</td>\n",
       "      <td>...</td>\n",
       "      <td>Personal</td>\n",
       "      <td>NaN</td>\n",
       "      <td>2.0</td>\n",
       "      <td>0.0</td>\n",
       "      <td>0.0</td>\n",
       "      <td>0.0</td>\n",
       "      <td>IMC</td>\n",
       "      <td>Cruise</td>\n",
       "      <td>Probable Cause</td>\n",
       "      <td>12-09-2000</td>\n",
       "    </tr>\n",
       "    <tr>\n",
       "      <th>4</th>\n",
       "      <td>20041105X01764</td>\n",
       "      <td>Accident</td>\n",
       "      <td>CHI79FA064</td>\n",
       "      <td>1979-08-02</td>\n",
       "      <td>Canton, OH</td>\n",
       "      <td>United States</td>\n",
       "      <td>NaN</td>\n",
       "      <td>NaN</td>\n",
       "      <td>NaN</td>\n",
       "      <td>NaN</td>\n",
       "      <td>...</td>\n",
       "      <td>Personal</td>\n",
       "      <td>NaN</td>\n",
       "      <td>1.0</td>\n",
       "      <td>2.0</td>\n",
       "      <td>NaN</td>\n",
       "      <td>0.0</td>\n",
       "      <td>VMC</td>\n",
       "      <td>Approach</td>\n",
       "      <td>Probable Cause</td>\n",
       "      <td>16-04-1980</td>\n",
       "    </tr>\n",
       "  </tbody>\n",
       "</table>\n",
       "<p>5 rows × 31 columns</p>\n",
       "</div>"
      ],
      "text/plain": [
       "         Event.Id Investigation.Type Accident.Number  Event.Date  \\\n",
       "0  20001218X45444           Accident      SEA87LA080  1948-10-24   \n",
       "1  20001218X45447           Accident      LAX94LA336  1962-07-19   \n",
       "2  20061025X01555           Accident      NYC07LA005  1974-08-30   \n",
       "3  20001218X45448           Accident      LAX96LA321  1977-06-19   \n",
       "4  20041105X01764           Accident      CHI79FA064  1979-08-02   \n",
       "\n",
       "          Location        Country Latitude Longitude Airport.Code  \\\n",
       "0  MOOSE CREEK, ID  United States      NaN       NaN          NaN   \n",
       "1   BRIDGEPORT, CA  United States      NaN       NaN          NaN   \n",
       "2    Saltville, VA  United States  36.9222  -81.8781          NaN   \n",
       "3       EUREKA, CA  United States      NaN       NaN          NaN   \n",
       "4       Canton, OH  United States      NaN       NaN          NaN   \n",
       "\n",
       "  Airport.Name  ... Purpose.of.flight Air.carrier Total.Fatal.Injuries  \\\n",
       "0          NaN  ...          Personal         NaN                  2.0   \n",
       "1          NaN  ...          Personal         NaN                  4.0   \n",
       "2          NaN  ...          Personal         NaN                  3.0   \n",
       "3          NaN  ...          Personal         NaN                  2.0   \n",
       "4          NaN  ...          Personal         NaN                  1.0   \n",
       "\n",
       "  Total.Serious.Injuries Total.Minor.Injuries Total.Uninjured  \\\n",
       "0                    0.0                  0.0             0.0   \n",
       "1                    0.0                  0.0             0.0   \n",
       "2                    NaN                  NaN             NaN   \n",
       "3                    0.0                  0.0             0.0   \n",
       "4                    2.0                  NaN             0.0   \n",
       "\n",
       "  Weather.Condition  Broad.phase.of.flight   Report.Status Publication.Date  \n",
       "0               UNK                 Cruise  Probable Cause              NaN  \n",
       "1               UNK                Unknown  Probable Cause       19-09-1996  \n",
       "2               IMC                 Cruise  Probable Cause       26-02-2007  \n",
       "3               IMC                 Cruise  Probable Cause       12-09-2000  \n",
       "4               VMC               Approach  Probable Cause       16-04-1980  \n",
       "\n",
       "[5 rows x 31 columns]"
      ]
     },
     "execution_count": 751,
     "metadata": {},
     "output_type": "execute_result"
    }
   ],
   "source": [
    "import pandas as pd\n",
    "import numpy as np\n",
    "import warnings\n",
    "warnings.filterwarnings('ignore')\n",
    "\n",
    "df = pd.read_csv('data/Aviation_Data.csv')\n",
    "\n",
    "df.head()"
   ]
  },
  {
   "cell_type": "code",
   "execution_count": 752,
   "id": "9a50f3c7",
   "metadata": {},
   "outputs": [
    {
     "name": "stdout",
     "output_type": "stream",
     "text": [
      "<class 'pandas.core.frame.DataFrame'>\n",
      "RangeIndex: 90348 entries, 0 to 90347\n",
      "Data columns (total 31 columns):\n",
      " #   Column                  Non-Null Count  Dtype  \n",
      "---  ------                  --------------  -----  \n",
      " 0   Event.Id                88889 non-null  object \n",
      " 1   Investigation.Type      90348 non-null  object \n",
      " 2   Accident.Number         88889 non-null  object \n",
      " 3   Event.Date              88889 non-null  object \n",
      " 4   Location                88837 non-null  object \n",
      " 5   Country                 88663 non-null  object \n",
      " 6   Latitude                34382 non-null  object \n",
      " 7   Longitude               34373 non-null  object \n",
      " 8   Airport.Code            50249 non-null  object \n",
      " 9   Airport.Name            52790 non-null  object \n",
      " 10  Injury.Severity         87889 non-null  object \n",
      " 11  Aircraft.damage         85695 non-null  object \n",
      " 12  Aircraft.Category       32287 non-null  object \n",
      " 13  Registration.Number     87572 non-null  object \n",
      " 14  Make                    88826 non-null  object \n",
      " 15  Model                   88797 non-null  object \n",
      " 16  Amateur.Built           88787 non-null  object \n",
      " 17  Number.of.Engines       82805 non-null  float64\n",
      " 18  Engine.Type             81812 non-null  object \n",
      " 19  FAR.Description         32023 non-null  object \n",
      " 20  Schedule                12582 non-null  object \n",
      " 21  Purpose.of.flight       82697 non-null  object \n",
      " 22  Air.carrier             16648 non-null  object \n",
      " 23  Total.Fatal.Injuries    77488 non-null  float64\n",
      " 24  Total.Serious.Injuries  76379 non-null  float64\n",
      " 25  Total.Minor.Injuries    76956 non-null  float64\n",
      " 26  Total.Uninjured         82977 non-null  float64\n",
      " 27  Weather.Condition       84397 non-null  object \n",
      " 28  Broad.phase.of.flight   61724 non-null  object \n",
      " 29  Report.Status           82508 non-null  object \n",
      " 30  Publication.Date        73659 non-null  object \n",
      "dtypes: float64(5), object(26)\n",
      "memory usage: 21.4+ MB\n"
     ]
    }
   ],
   "source": [
    "df.info()"
   ]
  },
  {
   "cell_type": "code",
   "execution_count": 753,
   "id": "2ff141ce",
   "metadata": {},
   "outputs": [],
   "source": [
    "df_copy = df.copy()"
   ]
  },
  {
   "cell_type": "markdown",
   "id": "4de1329f",
   "metadata": {},
   "source": [
    "#Identifying duplicates"
   ]
  },
  {
   "cell_type": "code",
   "execution_count": 754,
   "id": "6c6497f0",
   "metadata": {},
   "outputs": [
    {
     "data": {
      "text/plain": [
       "1390"
      ]
     },
     "execution_count": 754,
     "metadata": {},
     "output_type": "execute_result"
    }
   ],
   "source": [
    "df.duplicated().sum()"
   ]
  },
  {
   "cell_type": "markdown",
   "id": "5ff615d3",
   "metadata": {},
   "source": [
    "#dropping duplicates"
   ]
  },
  {
   "cell_type": "code",
   "execution_count": 755,
   "id": "9821ff24",
   "metadata": {},
   "outputs": [],
   "source": [
    "df.drop_duplicates(inplace=True)\n"
   ]
  },
  {
   "cell_type": "markdown",
   "id": "f3591bd7",
   "metadata": {},
   "source": [
    "# To confirm that the duplicated have been dropped"
   ]
  },
  {
   "cell_type": "code",
   "execution_count": 756,
   "id": "f38aea19",
   "metadata": {},
   "outputs": [
    {
     "data": {
      "text/plain": [
       "0"
      ]
     },
     "execution_count": 756,
     "metadata": {},
     "output_type": "execute_result"
    }
   ],
   "source": [
    "df.duplicated().sum()"
   ]
  },
  {
   "cell_type": "markdown",
   "id": "0d7e6037",
   "metadata": {},
   "source": [
    "# Handling missing data"
   ]
  },
  {
   "cell_type": "code",
   "execution_count": 757,
   "id": "e1962e83",
   "metadata": {},
   "outputs": [
    {
     "data": {
      "text/plain": [
       "Event.Id                     69\n",
       "Investigation.Type            0\n",
       "Accident.Number              69\n",
       "Event.Date                   69\n",
       "Location                    121\n",
       "Country                     295\n",
       "Latitude                  54576\n",
       "Longitude                 54585\n",
       "Airport.Code              38709\n",
       "Airport.Name              36168\n",
       "Injury.Severity            1069\n",
       "Aircraft.damage            3263\n",
       "Aircraft.Category         56671\n",
       "Registration.Number        1386\n",
       "Make                        132\n",
       "Model                       161\n",
       "Amateur.Built               171\n",
       "Number.of.Engines          6153\n",
       "Engine.Type                7146\n",
       "FAR.Description           56935\n",
       "Schedule                  76376\n",
       "Purpose.of.flight          6261\n",
       "Air.carrier               72310\n",
       "Total.Fatal.Injuries      11470\n",
       "Total.Serious.Injuries    12579\n",
       "Total.Minor.Injuries      12002\n",
       "Total.Uninjured            5981\n",
       "Weather.Condition          4561\n",
       "Broad.phase.of.flight     27234\n",
       "Report.Status              6450\n",
       "Publication.Date          15299\n",
       "dtype: int64"
      ]
     },
     "execution_count": 757,
     "metadata": {},
     "output_type": "execute_result"
    }
   ],
   "source": [
    "df.isna().sum()"
   ]
  },
  {
   "cell_type": "code",
   "execution_count": 758,
   "id": "99bcc65b",
   "metadata": {},
   "outputs": [
    {
     "data": {
      "text/plain": [
       "Event.Id                  0.000776\n",
       "Investigation.Type        0.000000\n",
       "Accident.Number           0.000776\n",
       "Event.Date                0.000776\n",
       "Location                  0.001360\n",
       "Country                   0.003316\n",
       "Latitude                  0.613503\n",
       "Longitude                 0.613604\n",
       "Airport.Code              0.435138\n",
       "Airport.Name              0.406574\n",
       "Injury.Severity           0.012017\n",
       "Aircraft.damage           0.036680\n",
       "Aircraft.Category         0.637053\n",
       "Registration.Number       0.015580\n",
       "Make                      0.001484\n",
       "Model                     0.001810\n",
       "Amateur.Built             0.001922\n",
       "Number.of.Engines         0.069167\n",
       "Engine.Type               0.080330\n",
       "FAR.Description           0.640021\n",
       "Schedule                  0.858562\n",
       "Purpose.of.flight         0.070382\n",
       "Air.carrier               0.812856\n",
       "Total.Fatal.Injuries      0.128937\n",
       "Total.Serious.Injuries    0.141404\n",
       "Total.Minor.Injuries      0.134918\n",
       "Total.Uninjured           0.067234\n",
       "Weather.Condition         0.051271\n",
       "Broad.phase.of.flight     0.306144\n",
       "Report.Status             0.072506\n",
       "Publication.Date          0.171980\n",
       "dtype: float64"
      ]
     },
     "execution_count": 758,
     "metadata": {},
     "output_type": "execute_result"
    }
   ],
   "source": [
    "# percentage of missing values per column\n",
    "df.isna().sum()/len(df)"
   ]
  },
  {
   "cell_type": "code",
   "execution_count": 759,
   "id": "361a6c0f",
   "metadata": {},
   "outputs": [],
   "source": [
    "#removing whitespaces in my columns before dropping\n",
    "df.columns = df.columns.str.strip()"
   ]
  },
  {
   "cell_type": "code",
   "execution_count": 760,
   "id": "1f04f000",
   "metadata": {},
   "outputs": [],
   "source": [
    "# columns with missing values to drop\n",
    "columns_to_drop = ['Latitude','Airport.Code','Airport.Name','Longitude','FAR.Description','Aircraft.Category','Air.carrier','Broad.phase.of.flight','Publication.Date','Schedule']"
   ]
  },
  {
   "cell_type": "code",
   "execution_count": 761,
   "id": "dc0a7ff7",
   "metadata": {},
   "outputs": [
    {
     "data": {
      "text/html": [
       "<div>\n",
       "<style scoped>\n",
       "    .dataframe tbody tr th:only-of-type {\n",
       "        vertical-align: middle;\n",
       "    }\n",
       "\n",
       "    .dataframe tbody tr th {\n",
       "        vertical-align: top;\n",
       "    }\n",
       "\n",
       "    .dataframe thead th {\n",
       "        text-align: right;\n",
       "    }\n",
       "</style>\n",
       "<table border=\"1\" class=\"dataframe\">\n",
       "  <thead>\n",
       "    <tr style=\"text-align: right;\">\n",
       "      <th></th>\n",
       "      <th>Event.Id</th>\n",
       "      <th>Investigation.Type</th>\n",
       "      <th>Accident.Number</th>\n",
       "      <th>Event.Date</th>\n",
       "      <th>Location</th>\n",
       "      <th>Country</th>\n",
       "      <th>Injury.Severity</th>\n",
       "      <th>Aircraft.damage</th>\n",
       "      <th>Registration.Number</th>\n",
       "      <th>Make</th>\n",
       "      <th>...</th>\n",
       "      <th>Amateur.Built</th>\n",
       "      <th>Number.of.Engines</th>\n",
       "      <th>Engine.Type</th>\n",
       "      <th>Purpose.of.flight</th>\n",
       "      <th>Total.Fatal.Injuries</th>\n",
       "      <th>Total.Serious.Injuries</th>\n",
       "      <th>Total.Minor.Injuries</th>\n",
       "      <th>Total.Uninjured</th>\n",
       "      <th>Weather.Condition</th>\n",
       "      <th>Report.Status</th>\n",
       "    </tr>\n",
       "  </thead>\n",
       "  <tbody>\n",
       "    <tr>\n",
       "      <th>0</th>\n",
       "      <td>20001218X45444</td>\n",
       "      <td>Accident</td>\n",
       "      <td>SEA87LA080</td>\n",
       "      <td>1948-10-24</td>\n",
       "      <td>MOOSE CREEK, ID</td>\n",
       "      <td>United States</td>\n",
       "      <td>Fatal(2)</td>\n",
       "      <td>Destroyed</td>\n",
       "      <td>NC6404</td>\n",
       "      <td>Stinson</td>\n",
       "      <td>...</td>\n",
       "      <td>No</td>\n",
       "      <td>1.0</td>\n",
       "      <td>Reciprocating</td>\n",
       "      <td>Personal</td>\n",
       "      <td>2.0</td>\n",
       "      <td>0.0</td>\n",
       "      <td>0.0</td>\n",
       "      <td>0.0</td>\n",
       "      <td>UNK</td>\n",
       "      <td>Probable Cause</td>\n",
       "    </tr>\n",
       "    <tr>\n",
       "      <th>1</th>\n",
       "      <td>20001218X45447</td>\n",
       "      <td>Accident</td>\n",
       "      <td>LAX94LA336</td>\n",
       "      <td>1962-07-19</td>\n",
       "      <td>BRIDGEPORT, CA</td>\n",
       "      <td>United States</td>\n",
       "      <td>Fatal(4)</td>\n",
       "      <td>Destroyed</td>\n",
       "      <td>N5069P</td>\n",
       "      <td>Piper</td>\n",
       "      <td>...</td>\n",
       "      <td>No</td>\n",
       "      <td>1.0</td>\n",
       "      <td>Reciprocating</td>\n",
       "      <td>Personal</td>\n",
       "      <td>4.0</td>\n",
       "      <td>0.0</td>\n",
       "      <td>0.0</td>\n",
       "      <td>0.0</td>\n",
       "      <td>UNK</td>\n",
       "      <td>Probable Cause</td>\n",
       "    </tr>\n",
       "    <tr>\n",
       "      <th>2</th>\n",
       "      <td>20061025X01555</td>\n",
       "      <td>Accident</td>\n",
       "      <td>NYC07LA005</td>\n",
       "      <td>1974-08-30</td>\n",
       "      <td>Saltville, VA</td>\n",
       "      <td>United States</td>\n",
       "      <td>Fatal(3)</td>\n",
       "      <td>Destroyed</td>\n",
       "      <td>N5142R</td>\n",
       "      <td>Cessna</td>\n",
       "      <td>...</td>\n",
       "      <td>No</td>\n",
       "      <td>1.0</td>\n",
       "      <td>Reciprocating</td>\n",
       "      <td>Personal</td>\n",
       "      <td>3.0</td>\n",
       "      <td>NaN</td>\n",
       "      <td>NaN</td>\n",
       "      <td>NaN</td>\n",
       "      <td>IMC</td>\n",
       "      <td>Probable Cause</td>\n",
       "    </tr>\n",
       "    <tr>\n",
       "      <th>3</th>\n",
       "      <td>20001218X45448</td>\n",
       "      <td>Accident</td>\n",
       "      <td>LAX96LA321</td>\n",
       "      <td>1977-06-19</td>\n",
       "      <td>EUREKA, CA</td>\n",
       "      <td>United States</td>\n",
       "      <td>Fatal(2)</td>\n",
       "      <td>Destroyed</td>\n",
       "      <td>N1168J</td>\n",
       "      <td>Rockwell</td>\n",
       "      <td>...</td>\n",
       "      <td>No</td>\n",
       "      <td>1.0</td>\n",
       "      <td>Reciprocating</td>\n",
       "      <td>Personal</td>\n",
       "      <td>2.0</td>\n",
       "      <td>0.0</td>\n",
       "      <td>0.0</td>\n",
       "      <td>0.0</td>\n",
       "      <td>IMC</td>\n",
       "      <td>Probable Cause</td>\n",
       "    </tr>\n",
       "    <tr>\n",
       "      <th>4</th>\n",
       "      <td>20041105X01764</td>\n",
       "      <td>Accident</td>\n",
       "      <td>CHI79FA064</td>\n",
       "      <td>1979-08-02</td>\n",
       "      <td>Canton, OH</td>\n",
       "      <td>United States</td>\n",
       "      <td>Fatal(1)</td>\n",
       "      <td>Destroyed</td>\n",
       "      <td>N15NY</td>\n",
       "      <td>Cessna</td>\n",
       "      <td>...</td>\n",
       "      <td>No</td>\n",
       "      <td>NaN</td>\n",
       "      <td>NaN</td>\n",
       "      <td>Personal</td>\n",
       "      <td>1.0</td>\n",
       "      <td>2.0</td>\n",
       "      <td>NaN</td>\n",
       "      <td>0.0</td>\n",
       "      <td>VMC</td>\n",
       "      <td>Probable Cause</td>\n",
       "    </tr>\n",
       "  </tbody>\n",
       "</table>\n",
       "<p>5 rows × 21 columns</p>\n",
       "</div>"
      ],
      "text/plain": [
       "         Event.Id Investigation.Type Accident.Number  Event.Date  \\\n",
       "0  20001218X45444           Accident      SEA87LA080  1948-10-24   \n",
       "1  20001218X45447           Accident      LAX94LA336  1962-07-19   \n",
       "2  20061025X01555           Accident      NYC07LA005  1974-08-30   \n",
       "3  20001218X45448           Accident      LAX96LA321  1977-06-19   \n",
       "4  20041105X01764           Accident      CHI79FA064  1979-08-02   \n",
       "\n",
       "          Location        Country Injury.Severity Aircraft.damage  \\\n",
       "0  MOOSE CREEK, ID  United States        Fatal(2)       Destroyed   \n",
       "1   BRIDGEPORT, CA  United States        Fatal(4)       Destroyed   \n",
       "2    Saltville, VA  United States        Fatal(3)       Destroyed   \n",
       "3       EUREKA, CA  United States        Fatal(2)       Destroyed   \n",
       "4       Canton, OH  United States        Fatal(1)       Destroyed   \n",
       "\n",
       "  Registration.Number      Make  ... Amateur.Built Number.of.Engines  \\\n",
       "0              NC6404   Stinson  ...            No               1.0   \n",
       "1              N5069P     Piper  ...            No               1.0   \n",
       "2              N5142R    Cessna  ...            No               1.0   \n",
       "3              N1168J  Rockwell  ...            No               1.0   \n",
       "4               N15NY    Cessna  ...            No               NaN   \n",
       "\n",
       "     Engine.Type Purpose.of.flight Total.Fatal.Injuries  \\\n",
       "0  Reciprocating          Personal                  2.0   \n",
       "1  Reciprocating          Personal                  4.0   \n",
       "2  Reciprocating          Personal                  3.0   \n",
       "3  Reciprocating          Personal                  2.0   \n",
       "4            NaN          Personal                  1.0   \n",
       "\n",
       "   Total.Serious.Injuries  Total.Minor.Injuries  Total.Uninjured  \\\n",
       "0                     0.0                   0.0              0.0   \n",
       "1                     0.0                   0.0              0.0   \n",
       "2                     NaN                   NaN              NaN   \n",
       "3                     0.0                   0.0              0.0   \n",
       "4                     2.0                   NaN              0.0   \n",
       "\n",
       "   Weather.Condition   Report.Status  \n",
       "0                UNK  Probable Cause  \n",
       "1                UNK  Probable Cause  \n",
       "2                IMC  Probable Cause  \n",
       "3                IMC  Probable Cause  \n",
       "4                VMC  Probable Cause  \n",
       "\n",
       "[5 rows x 21 columns]"
      ]
     },
     "execution_count": 761,
     "metadata": {},
     "output_type": "execute_result"
    }
   ],
   "source": [
    "df = df.drop(columns= columns_to_drop)\n",
    "\n",
    "df.head()\n",
    "\n"
   ]
  },
  {
   "cell_type": "code",
   "execution_count": 762,
   "id": "bd4a014c",
   "metadata": {},
   "outputs": [
    {
     "data": {
      "text/html": [
       "<div>\n",
       "<style scoped>\n",
       "    .dataframe tbody tr th:only-of-type {\n",
       "        vertical-align: middle;\n",
       "    }\n",
       "\n",
       "    .dataframe tbody tr th {\n",
       "        vertical-align: top;\n",
       "    }\n",
       "\n",
       "    .dataframe thead th {\n",
       "        text-align: right;\n",
       "    }\n",
       "</style>\n",
       "<table border=\"1\" class=\"dataframe\">\n",
       "  <thead>\n",
       "    <tr style=\"text-align: right;\">\n",
       "      <th></th>\n",
       "      <th>Number.of.Engines</th>\n",
       "      <th>Total.Fatal.Injuries</th>\n",
       "      <th>Total.Serious.Injuries</th>\n",
       "      <th>Total.Minor.Injuries</th>\n",
       "      <th>Total.Uninjured</th>\n",
       "    </tr>\n",
       "  </thead>\n",
       "  <tbody>\n",
       "    <tr>\n",
       "      <th>count</th>\n",
       "      <td>82805.000000</td>\n",
       "      <td>77488.000000</td>\n",
       "      <td>76379.000000</td>\n",
       "      <td>76956.000000</td>\n",
       "      <td>82977.000000</td>\n",
       "    </tr>\n",
       "    <tr>\n",
       "      <th>mean</th>\n",
       "      <td>1.146585</td>\n",
       "      <td>0.647855</td>\n",
       "      <td>0.279881</td>\n",
       "      <td>0.357061</td>\n",
       "      <td>5.325440</td>\n",
       "    </tr>\n",
       "    <tr>\n",
       "      <th>std</th>\n",
       "      <td>0.446510</td>\n",
       "      <td>5.485960</td>\n",
       "      <td>1.544084</td>\n",
       "      <td>2.235625</td>\n",
       "      <td>27.913634</td>\n",
       "    </tr>\n",
       "    <tr>\n",
       "      <th>min</th>\n",
       "      <td>0.000000</td>\n",
       "      <td>0.000000</td>\n",
       "      <td>0.000000</td>\n",
       "      <td>0.000000</td>\n",
       "      <td>0.000000</td>\n",
       "    </tr>\n",
       "    <tr>\n",
       "      <th>25%</th>\n",
       "      <td>1.000000</td>\n",
       "      <td>0.000000</td>\n",
       "      <td>0.000000</td>\n",
       "      <td>0.000000</td>\n",
       "      <td>0.000000</td>\n",
       "    </tr>\n",
       "    <tr>\n",
       "      <th>50%</th>\n",
       "      <td>1.000000</td>\n",
       "      <td>0.000000</td>\n",
       "      <td>0.000000</td>\n",
       "      <td>0.000000</td>\n",
       "      <td>1.000000</td>\n",
       "    </tr>\n",
       "    <tr>\n",
       "      <th>75%</th>\n",
       "      <td>1.000000</td>\n",
       "      <td>0.000000</td>\n",
       "      <td>0.000000</td>\n",
       "      <td>0.000000</td>\n",
       "      <td>2.000000</td>\n",
       "    </tr>\n",
       "    <tr>\n",
       "      <th>max</th>\n",
       "      <td>8.000000</td>\n",
       "      <td>349.000000</td>\n",
       "      <td>161.000000</td>\n",
       "      <td>380.000000</td>\n",
       "      <td>699.000000</td>\n",
       "    </tr>\n",
       "  </tbody>\n",
       "</table>\n",
       "</div>"
      ],
      "text/plain": [
       "       Number.of.Engines  Total.Fatal.Injuries  Total.Serious.Injuries  \\\n",
       "count       82805.000000          77488.000000            76379.000000   \n",
       "mean            1.146585              0.647855                0.279881   \n",
       "std             0.446510              5.485960                1.544084   \n",
       "min             0.000000              0.000000                0.000000   \n",
       "25%             1.000000              0.000000                0.000000   \n",
       "50%             1.000000              0.000000                0.000000   \n",
       "75%             1.000000              0.000000                0.000000   \n",
       "max             8.000000            349.000000              161.000000   \n",
       "\n",
       "       Total.Minor.Injuries  Total.Uninjured  \n",
       "count          76956.000000     82977.000000  \n",
       "mean               0.357061         5.325440  \n",
       "std                2.235625        27.913634  \n",
       "min                0.000000         0.000000  \n",
       "25%                0.000000         0.000000  \n",
       "50%                0.000000         1.000000  \n",
       "75%                0.000000         2.000000  \n",
       "max              380.000000       699.000000  "
      ]
     },
     "execution_count": 762,
     "metadata": {},
     "output_type": "execute_result"
    }
   ],
   "source": [
    "df.describe()"
   ]
  },
  {
   "cell_type": "markdown",
   "id": "a41e5fef",
   "metadata": {},
   "source": [
    "# finding mean, mode, and median values for my numerical columns"
   ]
  },
  {
   "cell_type": "markdown",
   "id": "d8c0a450",
   "metadata": {},
   "source": [
    "For numerical columns, the NaN values are kept because they could clearly mean that\n",
    " -Total fatal injuries-either were not recorded or or there was simply no fatal injuries. The same applies for the other columns. Therefore, by keeping the NaN values, it will help in diriving insights."
   ]
  },
  {
   "cell_type": "code",
   "execution_count": 763,
   "id": "86bf679b",
   "metadata": {},
   "outputs": [
    {
     "data": {
      "text/plain": [
       "array(['Fatal(2)', 'Fatal(4)', 'Fatal(3)', 'Fatal(1)', 'Non-Fatal',\n",
       "       'Incident', 'Fatal(8)', 'Fatal(78)', 'Fatal(7)', 'Fatal(6)',\n",
       "       'Fatal(5)', 'Fatal(153)', 'Fatal(12)', 'Fatal(14)', 'Fatal(23)',\n",
       "       'Fatal(10)', 'Fatal(11)', 'Fatal(9)', 'Fatal(17)', 'Fatal(13)',\n",
       "       'Fatal(29)', 'Fatal(70)', 'Unavailable', 'Fatal(135)', 'Fatal(31)',\n",
       "       'Fatal(256)', 'Fatal(25)', 'Fatal(82)', 'Fatal(156)', 'Fatal(28)',\n",
       "       'Fatal(18)', 'Fatal(43)', 'Fatal(15)', 'Fatal(270)', 'Fatal(144)',\n",
       "       'Fatal(174)', 'Fatal(111)', 'Fatal(131)', 'Fatal(20)', 'Fatal(73)',\n",
       "       'Fatal(27)', 'Fatal(34)', 'Fatal(87)', 'Fatal(30)', 'Fatal(16)',\n",
       "       'Fatal(47)', 'Fatal(56)', 'Fatal(37)', 'Fatal(132)', 'Fatal(68)',\n",
       "       'Fatal(54)', 'Fatal(52)', 'Fatal(65)', 'Fatal(72)', 'Fatal(160)',\n",
       "       'Fatal(189)', 'Fatal(123)', 'Fatal(33)', 'Fatal(110)',\n",
       "       'Fatal(230)', 'Fatal(97)', 'Fatal(349)', 'Fatal(125)', 'Fatal(35)',\n",
       "       'Fatal(228)', 'Fatal(75)', 'Fatal(104)', 'Fatal(229)', 'Fatal(80)',\n",
       "       'Fatal(217)', 'Fatal(169)', 'Fatal(88)', 'Fatal(19)', 'Fatal(60)',\n",
       "       'Fatal(113)', 'Fatal(143)', 'Fatal(83)', 'Fatal(24)', 'Fatal(44)',\n",
       "       'Fatal(64)', 'Fatal(92)', 'Fatal(118)', 'Fatal(265)', 'Fatal(26)',\n",
       "       'Fatal(138)', 'Fatal(206)', 'Fatal(71)', 'Fatal(21)', 'Fatal(46)',\n",
       "       'Fatal(102)', 'Fatal(115)', 'Fatal(141)', 'Fatal(55)',\n",
       "       'Fatal(121)', 'Fatal(45)', 'Fatal(145)', 'Fatal(117)',\n",
       "       'Fatal(107)', 'Fatal(124)', 'Fatal(49)', 'Fatal(154)', 'Fatal(96)',\n",
       "       'Fatal(114)', 'Fatal(199)', 'Fatal(89)', 'Fatal(57)', 'Fatal', nan,\n",
       "       'Minor', 'Serious'], dtype=object)"
      ]
     },
     "execution_count": 763,
     "metadata": {},
     "output_type": "execute_result"
    }
   ],
   "source": [
    "df['Injury.Severity'].unique()"
   ]
  },
  {
   "cell_type": "code",
   "execution_count": 764,
   "id": "abc9b7ea",
   "metadata": {},
   "outputs": [
    {
     "data": {
      "text/plain": [
       "0          2\n",
       "1          4\n",
       "2          3\n",
       "3          2\n",
       "4          1\n",
       "        ... \n",
       "90343    NaN\n",
       "90344    NaN\n",
       "90345    NaN\n",
       "90346    NaN\n",
       "90347    NaN\n",
       "Name: Fatal.count, Length: 88958, dtype: object"
      ]
     },
     "execution_count": 764,
     "metadata": {},
     "output_type": "execute_result"
    }
   ],
   "source": [
    "### deriving the fatal count from the Injury severity\n",
    "df['Fatal.count'] = df['Injury.Severity'].str.extract(r'Fatal\\((\\d+)\\)')\n",
    "df['Fatal.count']"
   ]
  },
  {
   "cell_type": "code",
   "execution_count": 765,
   "id": "1c061704",
   "metadata": {},
   "outputs": [
    {
     "data": {
      "text/plain": [
       "array(['2', '4', '3', '1', nan, '8', '78', '7', '6', '5', '153', '12',\n",
       "       '14', '23', '10', '11', '9', '17', '13', '29', '70', '135', '31',\n",
       "       '256', '25', '82', '156', '28', '18', '43', '15', '270', '144',\n",
       "       '174', '111', '131', '20', '73', '27', '34', '87', '30', '16',\n",
       "       '47', '56', '37', '132', '68', '54', '52', '65', '72', '160',\n",
       "       '189', '123', '33', '110', '230', '97', '349', '125', '35', '228',\n",
       "       '75', '104', '229', '80', '217', '169', '88', '19', '60', '113',\n",
       "       '143', '83', '24', '44', '64', '92', '118', '265', '26', '138',\n",
       "       '206', '71', '21', '46', '102', '115', '141', '55', '121', '45',\n",
       "       '145', '117', '107', '124', '49', '154', '96', '114', '199', '89',\n",
       "       '57'], dtype=object)"
      ]
     },
     "execution_count": 765,
     "metadata": {},
     "output_type": "execute_result"
    }
   ],
   "source": [
    "df['Fatal.count'].unique()"
   ]
  },
  {
   "cell_type": "code",
   "execution_count": 766,
   "id": "6877ac03",
   "metadata": {},
   "outputs": [],
   "source": [
    "# Column for No. of Engines has a placeholder 0. Convering this placeholders to Nan.\n",
    "df['Number.of.Engines'] = df['Number.of.Engines'].replace(0,np.nan)"
   ]
  },
  {
   "cell_type": "code",
   "execution_count": 767,
   "id": "0087cbbe",
   "metadata": {},
   "outputs": [],
   "source": [
    "#cols= ['Number.of.Engines',','Total.Serious.Injuries','Total.Fatal.Injuries','Total.Minor.Injuries','Total.Uninjured']\n",
    "\n",
    "cols= ['Number.of.Engines','Fatal.count']\n",
    "#Getting the medians\n",
    "medians={col: df[col].median() for col in cols}\n",
    "\n",
    "#filling the numerical columns\n",
    "for col in cols:\n",
    "    df[col].fillna(medians[col],inplace=True)"
   ]
  },
  {
   "cell_type": "code",
   "execution_count": 768,
   "id": "ba44fa1a",
   "metadata": {},
   "outputs": [
    {
     "data": {
      "text/plain": [
       "array(['2', '4', '3', '1', 2.0, '8', '78', '7', '6', '5', '153', '12',\n",
       "       '14', '23', '10', '11', '9', '17', '13', '29', '70', '135', '31',\n",
       "       '256', '25', '82', '156', '28', '18', '43', '15', '270', '144',\n",
       "       '174', '111', '131', '20', '73', '27', '34', '87', '30', '16',\n",
       "       '47', '56', '37', '132', '68', '54', '52', '65', '72', '160',\n",
       "       '189', '123', '33', '110', '230', '97', '349', '125', '35', '228',\n",
       "       '75', '104', '229', '80', '217', '169', '88', '19', '60', '113',\n",
       "       '143', '83', '24', '44', '64', '92', '118', '265', '26', '138',\n",
       "       '206', '71', '21', '46', '102', '115', '141', '55', '121', '45',\n",
       "       '145', '117', '107', '124', '49', '154', '96', '114', '199', '89',\n",
       "       '57'], dtype=object)"
      ]
     },
     "execution_count": 768,
     "metadata": {},
     "output_type": "execute_result"
    }
   ],
   "source": [
    "df['Fatal.count'].unique()"
   ]
  },
  {
   "cell_type": "code",
   "execution_count": 769,
   "id": "e84f7750",
   "metadata": {},
   "outputs": [],
   "source": [
    "# replacing Nan values in numerical columns with 0\n",
    "cols= ['Total.Serious.Injuries','Total.Fatal.Injuries','Total.Minor.Injuries','Total.Uninjured']\n",
    "\n",
    "\n",
    "#filling the numerical columns with 0\n",
    "for col in cols:\n",
    "    df[col].fillna(0,inplace=True)"
   ]
  },
  {
   "cell_type": "code",
   "execution_count": 770,
   "id": "a5b8b6db",
   "metadata": {},
   "outputs": [],
   "source": [
    "#df['Number.of.Engines'].fillna(df['Number.of.Engines'].median(),inplace=True)\n",
    "\n",
    "#df['Total.Serious.Injuries'].fillna(df['Total.Serious.Injuries'].median(),inplace=True)\n",
    "\n",
    "#df['Total.Fatal.Injuries'].fillna(df['Total.Fatal.Injuries'].median(),inplace=True)\n",
    "\n",
    "#df['Total.Minor.Injuries'].fillna(df['Total.Minor.Injuries'].median(),inplace=True)\n",
    "\n",
    "#df['Total.Uninjured'].fillna(df['Total.Uninjured'].median(),inplace=True)\n"
   ]
  },
  {
   "cell_type": "code",
   "execution_count": 771,
   "id": "eaf568c4",
   "metadata": {},
   "outputs": [],
   "source": [
    "# converting columns with floats to integers\n",
    "\n",
    "df['Number.of.Engines'] = df['Number.of.Engines'].astype(int)\n",
    "df['Total.Fatal.Injuries'] = df['Total.Fatal.Injuries'].astype(int)\n",
    "df['Total.Serious.Injuries'] = df['Total.Serious.Injuries'].astype(int)\n",
    "df['Total.Minor.Injuries'] = df['Total.Minor.Injuries'].astype(int)\n",
    "df['Total.Uninjured'] = df['Total.Uninjured'].astype(int)\n",
    "df['Fatal.count'] = df['Fatal.count'].astype(int)"
   ]
  },
  {
   "cell_type": "markdown",
   "id": "1dac2f42",
   "metadata": {},
   "source": [
    "# Filling the categorical data"
   ]
  },
  {
   "cell_type": "code",
   "execution_count": 772,
   "id": "e21b1f0e",
   "metadata": {},
   "outputs": [
    {
     "data": {
      "text/plain": [
       "array(['Reciprocating', nan, 'Turbo Fan', 'Turbo Shaft', 'Unknown',\n",
       "       'Turbo Prop', 'Turbo Jet', 'None', 'Electric', 'Hybrid Rocket',\n",
       "       'Geared Turbofan', 'LR', 'NONE', 'UNK'], dtype=object)"
      ]
     },
     "execution_count": 772,
     "metadata": {},
     "output_type": "execute_result"
    }
   ],
   "source": [
    "df['Engine.Type'].unique()"
   ]
  },
  {
   "cell_type": "code",
   "execution_count": 773,
   "id": "21043c3f",
   "metadata": {},
   "outputs": [
    {
     "data": {
      "text/plain": [
       "0        Reciprocating\n",
       "1        Reciprocating\n",
       "2        Reciprocating\n",
       "3        Reciprocating\n",
       "4                  NaN\n",
       "             ...      \n",
       "90343              NaN\n",
       "90344              NaN\n",
       "90345              NaN\n",
       "90346              NaN\n",
       "90347              NaN\n",
       "Name: Engine.Type, Length: 88958, dtype: object"
      ]
     },
     "execution_count": 773,
     "metadata": {},
     "output_type": "execute_result"
    }
   ],
   "source": [
    "# repacing the placeholders in Engine.Type with NaN\n",
    "df['Engine.Type'] = df['Engine.Type'].replace(['NONE','None'],np.nan)\n",
    "\n",
    "df['Engine.Type']"
   ]
  },
  {
   "cell_type": "code",
   "execution_count": 774,
   "id": "a36a3d4e",
   "metadata": {},
   "outputs": [
    {
     "data": {
      "text/plain": [
       "array(['Reciprocating', nan, 'Turbo Fan', 'Turbo Shaft', 'Unknown',\n",
       "       'Turbo Prop', 'Turbo Jet', 'Electric', 'Hybrid Rocket',\n",
       "       'Geared Turbofan', 'LR', 'UNK'], dtype=object)"
      ]
     },
     "execution_count": 774,
     "metadata": {},
     "output_type": "execute_result"
    }
   ],
   "source": [
    "df['Engine.Type'].unique()"
   ]
  },
  {
   "cell_type": "code",
   "execution_count": 775,
   "id": "edcde0d4",
   "metadata": {},
   "outputs": [
    {
     "data": {
      "text/plain": [
       "0        Reciprocating\n",
       "1        Reciprocating\n",
       "2        Reciprocating\n",
       "3        Reciprocating\n",
       "4                  NaN\n",
       "             ...      \n",
       "90343              NaN\n",
       "90344              NaN\n",
       "90345              NaN\n",
       "90346              NaN\n",
       "90347              NaN\n",
       "Name: Engine.Type, Length: 88958, dtype: object"
      ]
     },
     "execution_count": 775,
     "metadata": {},
     "output_type": "execute_result"
    }
   ],
   "source": [
    "# cleaning engine type\n",
    "# combining UNK and Unk\n",
    "def convert_unk(value):\n",
    "    if value =='UNK':\n",
    "        return 'Unknown'\n",
    "    else:\n",
    "        return value\n",
    "    \n",
    "#To apply the function to the specific column\n",
    "df['Engine.Type'] = df['Engine.Type'].map(convert_unk)\n",
    "\n",
    "df['Engine.Type']"
   ]
  },
  {
   "cell_type": "code",
   "execution_count": 823,
   "id": "bcd045c0",
   "metadata": {},
   "outputs": [
    {
     "data": {
      "text/plain": [
       "0        Reciprocating\n",
       "1        Reciprocating\n",
       "2        Reciprocating\n",
       "3        Reciprocating\n",
       "4              Unknown\n",
       "             ...      \n",
       "90343          Unknown\n",
       "90344          Unknown\n",
       "90345          Unknown\n",
       "90346          Unknown\n",
       "90347          Unknown\n",
       "Name: Engine.Type, Length: 88453, dtype: object"
      ]
     },
     "execution_count": 823,
     "metadata": {},
     "output_type": "execute_result"
    }
   ],
   "source": [
    "def convert_unk(value):\n",
    "    if value =='LR':\n",
    "        return 'Unknown'\n",
    "    else:\n",
    "        return value\n",
    "    \n",
    "#To apply the function to the specific column\n",
    "df['Engine.Type'] = df['Engine.Type'].map(convert_unk)\n",
    "\n",
    "df['Engine.Type']"
   ]
  },
  {
   "cell_type": "code",
   "execution_count": 824,
   "id": "83efb7d0",
   "metadata": {},
   "outputs": [
    {
     "data": {
      "text/plain": [
       "Reciprocating      69374\n",
       "Unknown             8989\n",
       "Turbo Shaft         3522\n",
       "Turbo Prop          3379\n",
       "Turbo Fan           2465\n",
       "Turbo Jet            701\n",
       "Geared Turbofan       12\n",
       "Electric              10\n",
       "Hybrid Rocket          1\n",
       "Name: Engine.Type, dtype: int64"
      ]
     },
     "execution_count": 824,
     "metadata": {},
     "output_type": "execute_result"
    }
   ],
   "source": [
    "df['Engine.Type'].value_counts()"
   ]
  },
  {
   "cell_type": "code",
   "execution_count": 778,
   "id": "bf716e80",
   "metadata": {},
   "outputs": [],
   "source": [
    "cols_to_fill= ['Registration.Number','Engine.Type','Location','Injury.Severity','Aircraft.damage','Aircraft.damage','Weather.Condition','Report.Status','Purpose.of.flight']\n",
    "\n",
    "df[cols_to_fill] = df[cols_to_fill].fillna('Unknown')\n",
    "\n",
    "#df['Total.Uninjured'].fillna(df['Total.Uninjured'].median(),inplace=True)\n",
    "#df['Total.Uninjured'].fillna(df['Total.Uninjured'].median(),inplace=True)\n",
    "#df['Total.Uninjured'].fillna(df['Total.Uninjured'].median(),inplace=True)\n",
    "#df['Total.Uninjured'].fillna(df['Total.Uninjured'].median(),inplace=True)\n",
    "#df['Total.Uninjured'].fillna(df['Total.Uninjured'].median(),inplace=True)\n",
    "#df['Total.Uninjured'].fillna(df['Total.Uninjured'].median(),inplace=True)\n",
    "#df['Total.Uninjured'].fillna(df['Total.Uninjured'].median(),inplace=True)\n",
    "#df['Total.Uninjured'].fillna(df['Total.Uninjured'].median(),inplace=True)\n",
    "\n",
    "#df['Country'].fillna(\"UNKNOWN\",inplace=True)\n",
    "#df['Location'].fillna(\"UNKNOWN\",inplace=True)\n",
    "#df['Injury.Severity'].fillna(\"UNKNOWN\",inplace=True)\n",
    "#df['Aircraft.damage'].fillna(\"UNKNOWN\",inplace=True)\n",
    "#df['Aircraft.damage'].fillna(\"UNKNOWN\",inplace=True)\n",
    "#df['Amateur.Built'].fillna(\"UNKNOWN\",inplace=True)\n",
    "#df['Weather.Condition'].fillna(\"UNKNOWN\",inplace=True)\n",
    "#df['Report.Status'].fillna(\"UNKNOWN\",inplace=True)\n",
    "#df['Purpose.of.flight'].fillna(\"UNKNOWN\",inplace=True)\n",
    "\n"
   ]
  },
  {
   "cell_type": "markdown",
   "id": "77eb2442",
   "metadata": {},
   "source": [
    "#dropping rows with missing values"
   ]
  },
  {
   "cell_type": "code",
   "execution_count": 779,
   "id": "b229493a",
   "metadata": {},
   "outputs": [],
   "source": [
    "df= df.dropna(subset=['Event.Id','Accident.Number','Event.Date','Make','Model','Country','Amateur.Built'])\n",
    "\n",
    "\n",
    "#df['Event.Id'] = df.dropna(subset=['Event.Id'])\n",
    "#df['Accident.Number'] = df.dropna(subset=['Accident.Number'])\n",
    "#df['Event.Date'] = df.dropna(subset=['Event.Date'])\n",
    "#df['Make'] = df.dropna(subset=['Make'])\n",
    "#df['Engine.Type'] = df.dropna(subset=['Engine.Type'])\n",
    "#df['Model'] = df.dropna(subset=['Model'])\n",
    "\n"
   ]
  },
  {
   "cell_type": "code",
   "execution_count": 780,
   "id": "b9e6ae62",
   "metadata": {},
   "outputs": [
    {
     "data": {
      "text/plain": [
       "Event.Id                  0\n",
       "Investigation.Type        0\n",
       "Accident.Number           0\n",
       "Event.Date                0\n",
       "Location                  0\n",
       "Country                   0\n",
       "Injury.Severity           0\n",
       "Aircraft.damage           0\n",
       "Registration.Number       0\n",
       "Make                      0\n",
       "Model                     0\n",
       "Amateur.Built             0\n",
       "Number.of.Engines         0\n",
       "Engine.Type               0\n",
       "Purpose.of.flight         0\n",
       "Total.Fatal.Injuries      0\n",
       "Total.Serious.Injuries    0\n",
       "Total.Minor.Injuries      0\n",
       "Total.Uninjured           0\n",
       "Weather.Condition         0\n",
       "Report.Status             0\n",
       "Fatal.count               0\n",
       "dtype: int64"
      ]
     },
     "execution_count": 780,
     "metadata": {},
     "output_type": "execute_result"
    }
   ],
   "source": [
    "# Ccinfirming if all missing values have been handled\n",
    "df.isna().sum()"
   ]
  },
  {
   "cell_type": "code",
   "execution_count": 781,
   "id": "6f2c7df9",
   "metadata": {},
   "outputs": [
    {
     "name": "stdout",
     "output_type": "stream",
     "text": [
      "<class 'pandas.core.frame.DataFrame'>\n",
      "Int64Index: 88453 entries, 0 to 90347\n",
      "Data columns (total 22 columns):\n",
      " #   Column                  Non-Null Count  Dtype \n",
      "---  ------                  --------------  ----- \n",
      " 0   Event.Id                88453 non-null  object\n",
      " 1   Investigation.Type      88453 non-null  object\n",
      " 2   Accident.Number         88453 non-null  object\n",
      " 3   Event.Date              88453 non-null  object\n",
      " 4   Location                88453 non-null  object\n",
      " 5   Country                 88453 non-null  object\n",
      " 6   Injury.Severity         88453 non-null  object\n",
      " 7   Aircraft.damage         88453 non-null  object\n",
      " 8   Registration.Number     88453 non-null  object\n",
      " 9   Make                    88453 non-null  object\n",
      " 10  Model                   88453 non-null  object\n",
      " 11  Amateur.Built           88453 non-null  object\n",
      " 12  Number.of.Engines       88453 non-null  int32 \n",
      " 13  Engine.Type             88453 non-null  object\n",
      " 14  Purpose.of.flight       88453 non-null  object\n",
      " 15  Total.Fatal.Injuries    88453 non-null  int32 \n",
      " 16  Total.Serious.Injuries  88453 non-null  int32 \n",
      " 17  Total.Minor.Injuries    88453 non-null  int32 \n",
      " 18  Total.Uninjured         88453 non-null  int32 \n",
      " 19  Weather.Condition       88453 non-null  object\n",
      " 20  Report.Status           88453 non-null  object\n",
      " 21  Fatal.count             88453 non-null  int32 \n",
      "dtypes: int32(6), object(16)\n",
      "memory usage: 13.5+ MB\n"
     ]
    }
   ],
   "source": [
    "df.info()"
   ]
  },
  {
   "cell_type": "code",
   "execution_count": 782,
   "id": "8c748078",
   "metadata": {},
   "outputs": [
    {
     "data": {
      "text/plain": [
       "array(['Personal', 'Unknown', 'Business', 'Instructional', 'Ferry',\n",
       "       'Executive/corporate', 'Aerial Observation', 'Aerial Application',\n",
       "       'Public Aircraft', 'Skydiving', 'Other Work Use', 'Positioning',\n",
       "       'Flight Test', 'Air Race/show', 'Air Drop',\n",
       "       'Public Aircraft - Federal', 'Glider Tow',\n",
       "       'Public Aircraft - Local', 'External Load',\n",
       "       'Public Aircraft - State', 'Banner Tow', 'Firefighting',\n",
       "       'Air Race show', 'PUBS', 'ASHO', 'PUBL'], dtype=object)"
      ]
     },
     "execution_count": 782,
     "metadata": {},
     "output_type": "execute_result"
    }
   ],
   "source": [
    "df['Purpose.of.flight'].unique()"
   ]
  },
  {
   "cell_type": "code",
   "execution_count": 783,
   "id": "fcb3f14b",
   "metadata": {},
   "outputs": [],
   "source": [
    "# stripping the columns\n",
    "df.columns= df.columns.str.strip()"
   ]
  },
  {
   "cell_type": "code",
   "execution_count": 784,
   "id": "e8e60d91",
   "metadata": {},
   "outputs": [],
   "source": [
    "df['Purpose.of.flight'] = df['Purpose.of.flight'].astype(str)"
   ]
  },
  {
   "cell_type": "code",
   "execution_count": 785,
   "id": "ce1609b0",
   "metadata": {},
   "outputs": [],
   "source": [
    "# mapping of Purpose.of.flight column\n",
    "\n",
    "def purpose_mapper(purpose):\n",
    "    if purpose in ['Personal','Instructional','Glider Tow','Executive/corporate','Skydiving']:\n",
    "         return 'Private'\n",
    "    elif purpose in ['Business','Ferry','Aerial Observation','Aerial Application','Public Aircraft','Other Work Use','Positioning','Flight Test','Air Race/show',\n",
    "                   'Air Drop','Public Aircraft - Federal','Glider Tow','Public Aircraft - Local','External Load','Public Aircraft - State', 'Banner Tow',\n",
    "                   'Firefighting','Air Race show','PUBS','ASHO','PUBL']:\n",
    "        return 'Commercial'\n",
    "    else:\n",
    "        return 'Unknown'\n"
   ]
  },
  {
   "cell_type": "code",
   "execution_count": 786,
   "id": "f10225dd",
   "metadata": {},
   "outputs": [],
   "source": [
    "\n",
    "df['Flight.Category'] = df['Purpose.of.flight'].map(purpose_mapper)"
   ]
  },
  {
   "cell_type": "code",
   "execution_count": 787,
   "id": "68f58922",
   "metadata": {},
   "outputs": [
    {
     "data": {
      "text/plain": [
       "array(['Private', 'Unknown', 'Commercial'], dtype=object)"
      ]
     },
     "execution_count": 787,
     "metadata": {},
     "output_type": "execute_result"
    }
   ],
   "source": [
    "df['Flight.Category'].unique()"
   ]
  },
  {
   "cell_type": "markdown",
   "id": "4b9a0db1",
   "metadata": {},
   "source": [
    "# ANALYSIS"
   ]
  },
  {
   "cell_type": "markdown",
   "id": "fd8221d3",
   "metadata": {},
   "source": [
    "# # Objective 1: To identify Aircrafts models and make with their make and model"
   ]
  },
  {
   "cell_type": "markdown",
   "id": "a4598b56",
   "metadata": {},
   "source": [
    "AGGREGATION."
   ]
  },
  {
   "cell_type": "code",
   "execution_count": 788,
   "id": "cadcf527",
   "metadata": {},
   "outputs": [
    {
     "data": {
      "text/html": [
       "<div>\n",
       "<style scoped>\n",
       "    .dataframe tbody tr th:only-of-type {\n",
       "        vertical-align: middle;\n",
       "    }\n",
       "\n",
       "    .dataframe tbody tr th {\n",
       "        vertical-align: top;\n",
       "    }\n",
       "\n",
       "    .dataframe thead th {\n",
       "        text-align: right;\n",
       "    }\n",
       "</style>\n",
       "<table border=\"1\" class=\"dataframe\">\n",
       "  <thead>\n",
       "    <tr style=\"text-align: right;\">\n",
       "      <th></th>\n",
       "      <th>Fatal.count</th>\n",
       "      <th>Total.Serious.Injuries</th>\n",
       "      <th>Total.Minor.Injuries</th>\n",
       "    </tr>\n",
       "    <tr>\n",
       "      <th>Model</th>\n",
       "      <th></th>\n",
       "      <th></th>\n",
       "      <th></th>\n",
       "    </tr>\n",
       "  </thead>\n",
       "  <tbody>\n",
       "    <tr>\n",
       "      <th>&amp;GCBC</th>\n",
       "      <td>2.0</td>\n",
       "      <td>0.0</td>\n",
       "      <td>0.0</td>\n",
       "    </tr>\n",
       "    <tr>\n",
       "      <th>(EX) RV-6</th>\n",
       "      <td>2.0</td>\n",
       "      <td>0.0</td>\n",
       "      <td>0.0</td>\n",
       "    </tr>\n",
       "    <tr>\n",
       "      <th>(MODIFIED)</th>\n",
       "      <td>1.0</td>\n",
       "      <td>0.0</td>\n",
       "      <td>0.0</td>\n",
       "    </tr>\n",
       "    <tr>\n",
       "      <th>(SOLOY CONVERSION)</th>\n",
       "      <td>2.0</td>\n",
       "      <td>0.0</td>\n",
       "      <td>0.0</td>\n",
       "    </tr>\n",
       "    <tr>\n",
       "      <th>-269C</th>\n",
       "      <td>2.0</td>\n",
       "      <td>0.0</td>\n",
       "      <td>0.0</td>\n",
       "    </tr>\n",
       "    <tr>\n",
       "      <th>...</th>\n",
       "      <td>...</td>\n",
       "      <td>...</td>\n",
       "      <td>...</td>\n",
       "    </tr>\n",
       "    <tr>\n",
       "      <th>lebed</th>\n",
       "      <td>2.0</td>\n",
       "      <td>0.0</td>\n",
       "      <td>0.0</td>\n",
       "    </tr>\n",
       "    <tr>\n",
       "      <th>none</th>\n",
       "      <td>1.0</td>\n",
       "      <td>1.0</td>\n",
       "      <td>0.0</td>\n",
       "    </tr>\n",
       "    <tr>\n",
       "      <th>sportstar</th>\n",
       "      <td>2.0</td>\n",
       "      <td>0.0</td>\n",
       "      <td>0.0</td>\n",
       "    </tr>\n",
       "    <tr>\n",
       "      <th>unk</th>\n",
       "      <td>2.0</td>\n",
       "      <td>1.0</td>\n",
       "      <td>1.0</td>\n",
       "    </tr>\n",
       "    <tr>\n",
       "      <th>unknown</th>\n",
       "      <td>1.0</td>\n",
       "      <td>0.0</td>\n",
       "      <td>0.0</td>\n",
       "    </tr>\n",
       "  </tbody>\n",
       "</table>\n",
       "<p>12278 rows × 3 columns</p>\n",
       "</div>"
      ],
      "text/plain": [
       "                    Fatal.count  Total.Serious.Injuries  Total.Minor.Injuries\n",
       "Model                                                                        \n",
       "&GCBC                       2.0                     0.0                   0.0\n",
       "(EX) RV-6                   2.0                     0.0                   0.0\n",
       "(MODIFIED)                  1.0                     0.0                   0.0\n",
       "(SOLOY CONVERSION)          2.0                     0.0                   0.0\n",
       "-269C                       2.0                     0.0                   0.0\n",
       "...                         ...                     ...                   ...\n",
       "lebed                       2.0                     0.0                   0.0\n",
       "none                        1.0                     1.0                   0.0\n",
       "sportstar                   2.0                     0.0                   0.0\n",
       "unk                         2.0                     1.0                   1.0\n",
       "unknown                     1.0                     0.0                   0.0\n",
       "\n",
       "[12278 rows x 3 columns]"
      ]
     },
     "execution_count": 788,
     "metadata": {},
     "output_type": "execute_result"
    }
   ],
   "source": [
    "df.groupby('Model')[['Fatal.count','Total.Serious.Injuries','Total.Minor.Injuries']].mean()"
   ]
  },
  {
   "cell_type": "code",
   "execution_count": null,
   "id": "ec444e20",
   "metadata": {},
   "outputs": [],
   "source": []
  },
  {
   "cell_type": "markdown",
   "id": "b7aa72d8",
   "metadata": {},
   "source": [
    "## Objective 2: To evaluate the impact of number of engines and engine type in relation to safety."
   ]
  },
  {
   "cell_type": "markdown",
   "id": "1f932428",
   "metadata": {},
   "source": [
    "df.groupby('Number.of.Engines')['Aircraft.damage'].value_counts(normalize=True)"
   ]
  },
  {
   "cell_type": "code",
   "execution_count": 789,
   "id": "b4d658c7",
   "metadata": {},
   "outputs": [
    {
     "data": {
      "text/plain": [
       "Number.of.Engines  Aircraft.damage\n",
       "1                  Substantial        0.756509\n",
       "                   Destroyed          0.203164\n",
       "                   Unknown            0.022913\n",
       "                   Minor              0.017414\n",
       "2                  Substantial        0.529792\n",
       "                   Destroyed          0.259165\n",
       "                   Unknown            0.112253\n",
       "                   Minor              0.098790\n",
       "3                  Minor              0.404612\n",
       "                   Unknown            0.324948\n",
       "                   Substantial        0.218029\n",
       "                   Destroyed          0.052411\n",
       "4                  Minor              0.337209\n",
       "                   Substantial        0.265116\n",
       "                   Unknown            0.265116\n",
       "                   Destroyed          0.132558\n",
       "6                  Substantial        1.000000\n",
       "8                  Substantial        0.666667\n",
       "                   Unknown            0.333333\n",
       "Name: Aircraft.damage, dtype: float64"
      ]
     },
     "execution_count": 789,
     "metadata": {},
     "output_type": "execute_result"
    }
   ],
   "source": [
    "df.groupby('Number.of.Engines')['Aircraft.damage'].value_counts(normalize=True)"
   ]
  },
  {
   "cell_type": "code",
   "execution_count": null,
   "id": "9e678024",
   "metadata": {},
   "outputs": [],
   "source": [
    "damage = df.groupby('Number.of.Engines')['Aircraft.damage'].value_counts(normalize=True)"
   ]
  },
  {
   "cell_type": "code",
   "execution_count": 827,
   "id": "6f49e609",
   "metadata": {},
   "outputs": [],
   "source": [
    "fatal_distribution = (\n",
    "    df.groupby('Engine.Type')['Fatal.count']\n",
    ".value_counts(normalize=True)\n",
    ".sort_values(ascending=False)\n",
    ".reset_index(name='Percentage')\n",
    ")"
   ]
  },
  {
   "cell_type": "code",
   "execution_count": 828,
   "id": "12139cef",
   "metadata": {},
   "outputs": [
    {
     "name": "stdout",
     "output_type": "stream",
     "text": [
      "         Engine.Type  Fatal.count  Percentage\n",
      "0           Electric            2    1.000000\n",
      "1    Geared Turbofan            2    1.000000\n",
      "2      Hybrid Rocket            2    1.000000\n",
      "3          Turbo Fan            2    0.956592\n",
      "4            Unknown            2    0.915007\n",
      "..               ...          ...         ...\n",
      "175    Reciprocating            9    0.000029\n",
      "176    Reciprocating           14    0.000014\n",
      "177    Reciprocating           17    0.000014\n",
      "178    Reciprocating           27    0.000014\n",
      "179    Reciprocating           82    0.000014\n",
      "\n",
      "[180 rows x 3 columns]\n"
     ]
    }
   ],
   "source": [
    "print(fatal_distribution)"
   ]
  },
  {
   "cell_type": "code",
   "execution_count": null,
   "id": "3c0cad06",
   "metadata": {},
   "outputs": [
    {
     "name": "stdout",
     "output_type": "stream",
     "text": [
      "       Engine.Type  Fatal.count\n",
      "2    Hybrid Rocket            2\n",
      "0         Electric           20\n",
      "1  Geared Turbofan           24\n",
      "5        Turbo Jet         1981\n",
      "7      Turbo Shaft         7065\n",
      "6       Turbo Prop         7488\n",
      "4        Turbo Fan         8509\n",
      "8          Unknown        24881\n",
      "3    Reciprocating       136986\n"
     ]
    }
   ],
   "source": [
    "## Aggregating the above output to be neat\n",
    "combined_fatal = (\n",
    "    df.groupby('Engine.Type',as_index=False)['Fatal.count']\n",
    "      .sum()\n",
    "    .sort_values(by='Fatal.count',ascending=True)\n",
    ")\n",
    "\n",
    "print(combined_fatal)"
   ]
  },
  {
   "cell_type": "code",
   "execution_count": 842,
   "id": "984a339c",
   "metadata": {},
   "outputs": [
    {
     "data": {
      "image/png": "[encoded data removed]",
      "text/plain": [
       "<Figure size 720x432 with 1 Axes>"
      ]
     },
     "metadata": {
      "needs_background": "light"
     },
     "output_type": "display_data"
    }
   ],
   "source": [
    "#visualization for this\n",
    "import matplotlib.pyplot as plt\n",
    "%matplotlib inline\n",
    "import seaborn as sns\n",
    "\n",
    "combined_fatal = (\n",
    "    df.groupby('Engine.Type',as_index=False)['Fatal.count']\n",
    "      .sum()\n",
    "    .sort_values(by='Fatal.count',ascending=True)\n",
    ")\n",
    "\n",
    "fig,ax = plt.subplots(figsize=(10,6))\n",
    "\n",
    "\n",
    "ax.barh(combined_fatal['Engine.Type'],combined_fatal['Fatal.count'], color='purple')\n",
    "\n",
    "#labels and titles\n",
    "ax.set_xlabel('Total Fatal Count', fontsize=12)\n",
    "ax.set_ylabel('Engine Type', fontsize=12)\n",
    "ax.set_xlabel('Total Fatal Counts by Engine Type(Ascending)', fontsize=15)\n",
    "\n",
    "# making the layout tidy\n",
    "plt.tight_layout()\n",
    "\n",
    "plt.show()"
   ]
  },
  {
   "cell_type": "markdown",
   "id": "107d7aa1",
   "metadata": {},
   "source": [
    "# Objective 3"
   ]
  },
  {
   "cell_type": "code",
   "execution_count": null,
   "id": "598b2c93",
   "metadata": {},
   "outputs": [],
   "source": []
  },
  {
   "cell_type": "code",
   "execution_count": null,
   "id": "bd6d0daa",
   "metadata": {},
   "outputs": [],
   "source": []
  },
  {
   "cell_type": "code",
   "execution_count": 826,
   "id": "24fe5707",
   "metadata": {},
   "outputs": [
    {
     "data": {
      "text/plain": [
       "Engine.Type      Aircraft.damage\n",
       "Electric         Substantial        0.800000\n",
       "                 Destroyed          0.200000\n",
       "Geared Turbofan  Unknown            0.916667\n",
       "                 Minor              0.083333\n",
       "Hybrid Rocket    Destroyed          1.000000\n",
       "Reciprocating    Substantial        0.774195\n",
       "                 Destroyed          0.208623\n",
       "                 Minor              0.012267\n",
       "                 Unknown            0.004915\n",
       "Turbo Fan        Unknown            0.356592\n",
       "                 Substantial        0.295335\n",
       "                 Minor              0.269371\n",
       "                 Destroyed          0.078702\n",
       "Turbo Jet        Substantial        0.333809\n",
       "                 Unknown            0.236805\n",
       "                 Minor              0.229672\n",
       "                 Destroyed          0.199715\n",
       "Turbo Prop       Substantial        0.601065\n",
       "                 Destroyed          0.237940\n",
       "                 Minor              0.089080\n",
       "                 Unknown            0.071915\n",
       "Turbo Shaft      Substantial        0.712095\n",
       "                 Destroyed          0.238785\n",
       "                 Minor              0.025270\n",
       "                 Unknown            0.023850\n",
       "Unknown          Substantial        0.526977\n",
       "                 Destroyed          0.225609\n",
       "                 Unknown            0.170653\n",
       "                 Minor              0.076760\n",
       "Name: Aircraft.damage, dtype: float64"
      ]
     },
     "execution_count": 826,
     "metadata": {},
     "output_type": "execute_result"
    }
   ],
   "source": [
    "df.groupby('Engine.Type')['Aircraft.damage'].value_counts(normalize=True)"
   ]
  },
  {
   "cell_type": "markdown",
   "id": "28164981",
   "metadata": {},
   "source": [
    "## Using typical data aviation datasets(NTSB or Kaggle aviation accident data), binning in aviation will look like this."
   ]
  },
  {
   "cell_type": "code",
   "execution_count": 793,
   "id": "30907529",
   "metadata": {},
   "outputs": [],
   "source": [
    "#binning\n",
    "\n",
    "#\n",
    "bins=[0,2,5,10,20,df['Total.Fatal.Injuries'].max()]\n",
    "labels= ['None','Low','Moderate','High','Catastrophic']\n",
    "\n",
    "df['Total.Fatal.Injuries_binned'] = pd.cut(df['Total.Fatal.Injuries'],bins=bins,labels=labels,include_lowest=True)\n"
   ]
  },
  {
   "cell_type": "code",
   "execution_count": 794,
   "id": "2fba531a",
   "metadata": {},
   "outputs": [
    {
     "data": {
      "text/plain": [
       "['None', 'Low', 'Moderate', 'Catastrophic', 'High']\n",
       "Categories (5, object): ['None' < 'Low' < 'Moderate' < 'High' < 'Catastrophic']"
      ]
     },
     "execution_count": 794,
     "metadata": {},
     "output_type": "execute_result"
    }
   ],
   "source": [
    "df['Total.Fatal.Injuries_binned'].unique()"
   ]
  },
  {
   "cell_type": "markdown",
   "id": "8ac2641d",
   "metadata": {},
   "source": [
    "In Aviation safety analytics(NTSB,FAA), injury or fatality bins often follow severity threshold rather than statistical intervals."
   ]
  },
  {
   "cell_type": "code",
   "execution_count": 795,
   "id": "0b2ed051",
   "metadata": {},
   "outputs": [
    {
     "data": {
      "text/plain": [
       "count    88453.000000\n",
       "mean         0.239698\n",
       "std          1.429211\n",
       "min          0.000000\n",
       "25%          0.000000\n",
       "50%          0.000000\n",
       "75%          0.000000\n",
       "max        161.000000\n",
       "Name: Total.Serious.Injuries, dtype: float64"
      ]
     },
     "execution_count": 795,
     "metadata": {},
     "output_type": "execute_result"
    }
   ],
   "source": [
    "df['Total.Serious.Injuries'].describe()"
   ]
  },
  {
   "cell_type": "code",
   "execution_count": 796,
   "id": "02cc428b",
   "metadata": {},
   "outputs": [],
   "source": [
    "#Total.Serious.Injuries\n",
    "bins=[-1,1,3,6,11,21,137]\n",
    "labels= ['None','Low','Moderate','High','Severe','Mass Casualty']\n",
    "\n",
    "df['Total.Serious.Injuries_binned'] = pd.cut(df['Total.Serious.Injuries'],bins=bins,labels=labels,include_lowest=True)"
   ]
  },
  {
   "cell_type": "code",
   "execution_count": 797,
   "id": "30778850",
   "metadata": {},
   "outputs": [
    {
     "data": {
      "text/plain": [
       "['None', 'Low', 'Moderate', 'High', 'Severe', 'Mass Casualty', NaN]\n",
       "Categories (6, object): ['None' < 'Low' < 'Moderate' < 'High' < 'Severe' < 'Mass Casualty']"
      ]
     },
     "execution_count": 797,
     "metadata": {},
     "output_type": "execute_result"
    }
   ],
   "source": [
    "df['Total.Serious.Injuries_binned'].unique()\n"
   ]
  },
  {
   "cell_type": "code",
   "execution_count": 798,
   "id": "4badb6af",
   "metadata": {},
   "outputs": [
    {
     "data": {
      "text/plain": [
       "['None', 'Low', 'Moderate', 'High', 'Severe', 'Mass Casualty', NaN]\n",
       "Categories (6, object): ['None' < 'Low' < 'Moderate' < 'High' < 'Severe' < 'Mass Casualty']"
      ]
     },
     "execution_count": 798,
     "metadata": {},
     "output_type": "execute_result"
    }
   ],
   "source": [
    "df['Total.Serious.Injuries_binned'].unique()"
   ]
  },
  {
   "cell_type": "code",
   "execution_count": 799,
   "id": "1ab8e1b5",
   "metadata": {},
   "outputs": [],
   "source": [
    "#Total.Serious.Injuries\n",
    "bins=[0,2,5,10,20,df['Total.Uninjured'].max()]\n",
    "labels= ['None uninjured','Low survival','Moderate survival','High survival','Very High survical']\n",
    "\n",
    "df['Total.Uninjured_binned'] = pd.cut(df['Total.Uninjured'],bins=bins,labels=labels,include_lowest=True)\n"
   ]
  },
  {
   "cell_type": "code",
   "execution_count": 800,
   "id": "f2c1e6a1",
   "metadata": {},
   "outputs": [
    {
     "data": {
      "text/plain": [
       "['None uninjured', 'Very High survical', 'Low survival', 'Moderate survival', 'High survival']\n",
       "Categories (5, object): ['None uninjured' < 'Low survival' < 'Moderate survival' < 'High survival' < 'Very High survical']"
      ]
     },
     "execution_count": 800,
     "metadata": {},
     "output_type": "execute_result"
    }
   ],
   "source": [
    "df['Total.Uninjured_binned'].unique()"
   ]
  },
  {
   "cell_type": "code",
   "execution_count": 801,
   "id": "aaa71cf4",
   "metadata": {},
   "outputs": [
    {
     "data": {
      "text/plain": [
       "Make                      Model              Fatal.count\n",
       "107.5 Flying Corporation  One Design DR 107  1              1.0\n",
       "1200                      G103               2              1.0\n",
       "177MF LLC                 PITTS MODEL 12     2              1.0\n",
       "1977 Colfer-chan          STEEN SKYBOLT      2              1.0\n",
       "1st Ftr Gp                FOCKE-WULF 190     1              1.0\n",
       "                                                           ... \n",
       "de Havilland              DHC-3              2              1.0\n",
       "                          DHC-6-200          2              1.0\n",
       "                          DHC-8-202          2              1.0\n",
       "drone                     Viper Pro          2              1.0\n",
       "unknown                   kit                2              1.0\n",
       "Name: Fatal.count, Length: 22514, dtype: float64"
      ]
     },
     "execution_count": 801,
     "metadata": {},
     "output_type": "execute_result"
    }
   ],
   "source": [
    "df.groupby(['Make','Model'])['Fatal.count'].value_counts(normalize=True)"
   ]
  },
  {
   "cell_type": "code",
   "execution_count": 802,
   "id": "1030dce0",
   "metadata": {},
   "outputs": [
    {
     "data": {
      "text/plain": [
       "Number.of.Engines  Aircraft.damage\n",
       "1                  Substantial        0.756509\n",
       "                   Destroyed          0.203164\n",
       "                   Unknown            0.022913\n",
       "                   Minor              0.017414\n",
       "2                  Substantial        0.529792\n",
       "                   Destroyed          0.259165\n",
       "                   Unknown            0.112253\n",
       "                   Minor              0.098790\n",
       "3                  Minor              0.404612\n",
       "                   Unknown            0.324948\n",
       "                   Substantial        0.218029\n",
       "                   Destroyed          0.052411\n",
       "4                  Minor              0.337209\n",
       "                   Substantial        0.265116\n",
       "                   Unknown            0.265116\n",
       "                   Destroyed          0.132558\n",
       "6                  Substantial        1.000000\n",
       "8                  Substantial        0.666667\n",
       "                   Unknown            0.333333\n",
       "Name: Aircraft.damage, dtype: float64"
      ]
     },
     "execution_count": 802,
     "metadata": {},
     "output_type": "execute_result"
    }
   ],
   "source": [
    "df.groupby('Number.of.Engines')['Aircraft.damage'].value_counts(normalize=True)"
   ]
  },
  {
   "cell_type": "code",
   "execution_count": 803,
   "id": "e19e0d77",
   "metadata": {},
   "outputs": [
    {
     "data": {
      "text/plain": [
       "0"
      ]
     },
     "execution_count": 803,
     "metadata": {},
     "output_type": "execute_result"
    }
   ],
   "source": [
    "df['Number.of.Engines'].isna().sum()"
   ]
  },
  {
   "cell_type": "code",
   "execution_count": 804,
   "id": "79204ca1",
   "metadata": {},
   "outputs": [
    {
     "data": {
      "text/plain": [
       "Engine.Type      Aircraft.damage\n",
       "Electric         Substantial        0.800000\n",
       "                 Destroyed          0.200000\n",
       "Geared Turbofan  Unknown            0.916667\n",
       "                 Minor              0.083333\n",
       "Hybrid Rocket    Destroyed          1.000000\n",
       "Reciprocating    Substantial        0.774195\n",
       "                 Destroyed          0.208623\n",
       "                 Minor              0.012267\n",
       "                 Unknown            0.004915\n",
       "Turbo Fan        Unknown            0.356592\n",
       "                 Substantial        0.295335\n",
       "                 Minor              0.269371\n",
       "                 Destroyed          0.078702\n",
       "Turbo Jet        Substantial        0.333809\n",
       "                 Unknown            0.236805\n",
       "                 Minor              0.229672\n",
       "                 Destroyed          0.199715\n",
       "Turbo Prop       Substantial        0.601065\n",
       "                 Destroyed          0.237940\n",
       "                 Minor              0.089080\n",
       "                 Unknown            0.071915\n",
       "Turbo Shaft      Substantial        0.712095\n",
       "                 Destroyed          0.238785\n",
       "                 Minor              0.025270\n",
       "                 Unknown            0.023850\n",
       "Unknown          Substantial        0.526977\n",
       "                 Destroyed          0.225609\n",
       "                 Unknown            0.170653\n",
       "                 Minor              0.076760\n",
       "Name: Aircraft.damage, dtype: float64"
      ]
     },
     "execution_count": 804,
     "metadata": {},
     "output_type": "execute_result"
    }
   ],
   "source": [
    "df.groupby('Engine.Type')['Aircraft.damage'].value_counts(normalize=True)"
   ]
  },
  {
   "cell_type": "code",
   "execution_count": 805,
   "id": "dc366615",
   "metadata": {},
   "outputs": [
    {
     "data": {
      "text/plain": [
       "Engine.Type      Injury.Severity\n",
       "Electric         Non-Fatal          0.600000\n",
       "                 Fatal              0.200000\n",
       "                 Unknown            0.200000\n",
       "Geared Turbofan  Unknown            0.916667\n",
       "                 Non-Fatal          0.083333\n",
       "                                      ...   \n",
       "Unknown          Fatal(75)          0.000111\n",
       "                 Fatal(80)          0.000111\n",
       "                 Fatal(83)          0.000111\n",
       "                 Fatal(89)          0.000111\n",
       "                 Fatal(96)          0.000111\n",
       "Name: Injury.Severity, Length: 220, dtype: float64"
      ]
     },
     "execution_count": 805,
     "metadata": {},
     "output_type": "execute_result"
    }
   ],
   "source": [
    "df.groupby('Engine.Type')['Injury.Severity'].value_counts(normalize=True)"
   ]
  },
  {
   "cell_type": "code",
   "execution_count": 806,
   "id": "fb5bbbdd",
   "metadata": {},
   "outputs": [
    {
     "data": {
      "text/plain": [
       "9"
      ]
     },
     "execution_count": 806,
     "metadata": {},
     "output_type": "execute_result"
    }
   ],
   "source": [
    "df['Engine.Type'].nunique()"
   ]
  },
  {
   "cell_type": "code",
   "execution_count": 807,
   "id": "d9202cee",
   "metadata": {},
   "outputs": [
    {
     "data": {
      "text/plain": [
       "Purpose.of.flight   Injury.Severity\n",
       "ASHO                Fatal              0.666667\n",
       "                    Minor              0.166667\n",
       "                    Non-Fatal          0.166667\n",
       "Aerial Application  Non-Fatal          0.885987\n",
       "                    Fatal(1)           0.071125\n",
       "                                         ...   \n",
       "Unknown             Fatal(82)          0.000078\n",
       "                    Fatal(83)          0.000078\n",
       "                    Fatal(88)          0.000078\n",
       "                    Fatal(89)          0.000078\n",
       "                    Fatal(96)          0.000078\n",
       "Name: Injury.Severity, Length: 327, dtype: float64"
      ]
     },
     "execution_count": 807,
     "metadata": {},
     "output_type": "execute_result"
    }
   ],
   "source": [
    "#comparing the severity of injuries between private airplanes and commercial planes\n",
    "df.groupby('Purpose.of.flight')['Injury.Severity'].value_counts(normalize=True)"
   ]
  },
  {
   "cell_type": "code",
   "execution_count": 808,
   "id": "e3ce3fbf",
   "metadata": {},
   "outputs": [
    {
     "data": {
      "text/plain": [
       "array(['Personal', 'Unknown', 'Business', 'Instructional', 'Ferry',\n",
       "       'Executive/corporate', 'Aerial Observation', 'Aerial Application',\n",
       "       'Public Aircraft', 'Skydiving', 'Other Work Use', 'Positioning',\n",
       "       'Flight Test', 'Air Race/show', 'Air Drop',\n",
       "       'Public Aircraft - Federal', 'Glider Tow',\n",
       "       'Public Aircraft - Local', 'External Load',\n",
       "       'Public Aircraft - State', 'Banner Tow', 'Firefighting',\n",
       "       'Air Race show', 'PUBS', 'ASHO', 'PUBL'], dtype=object)"
      ]
     },
     "execution_count": 808,
     "metadata": {},
     "output_type": "execute_result"
    }
   ],
   "source": [
    "df['Purpose.of.flight'].unique()"
   ]
  },
  {
   "cell_type": "markdown",
   "id": "2f06cb07",
   "metadata": {},
   "source": [
    "###UNK in weather reports mean Unknown, therefore combine with the other unknown or fill all the missing values with mode.\n",
    "#VMC-Visual Meteorogical Conditions-referes to weather conditions that permit pilots to operate the plane primarily using visual navigation techniques.\n",
    "\n",
    "#IMC effect on craft-low visibility due to fogs,clouds, heavy rain, snow. solely forcing pilots to fly solely by referring to cockpit instruments.\n",
    "#IMC is extremely dangerous, and can lead to a loss of control from spatial disorientation, causing accidents and damage to the craft.\n",
    "\n",
    "VMC-these refers to optimal flying conditions with clear skies and good visibility, allowing poilots to naviagte using visual references like horizon and landmarks. \n",
    "\n",
    "VMC does not directly cause aircraft damage, instead occur when pilots misjuddge theconditions and the weather deteroriates unexpectedly causing thm to enter IMC.\n",
    "\n",
    "UNK-unlnown weather make any flight highly risky, as the pilot would be operating without critical metereological information."
   ]
  },
  {
   "cell_type": "code",
   "execution_count": 809,
   "id": "6393f88b",
   "metadata": {},
   "outputs": [
    {
     "data": {
      "text/plain": [
       "0            UNK\n",
       "1            UNK\n",
       "2            IMC\n",
       "3            IMC\n",
       "4            VMC\n",
       "          ...   \n",
       "90343    Unknown\n",
       "90344    Unknown\n",
       "90345        VMC\n",
       "90346    Unknown\n",
       "90347    Unknown\n",
       "Name: Weather.Condition, Length: 88453, dtype: object"
      ]
     },
     "execution_count": 809,
     "metadata": {},
     "output_type": "execute_result"
    }
   ],
   "source": [
    "# combining UNK and Unk\n",
    "def convert_unk(value):\n",
    "    if value =='Unk':\n",
    "        return 'UNK'\n",
    "    else:\n",
    "        return value\n",
    "    \n",
    "#To apply the function to the specific column\n",
    "df['Weather.Condition'] = df['Weather.Condition'].map(convert_unk)\n",
    "\n",
    "df['Weather.Condition']\n"
   ]
  },
  {
   "cell_type": "code",
   "execution_count": 810,
   "id": "ec6fdd71",
   "metadata": {},
   "outputs": [
    {
     "data": {
      "text/plain": [
       "array(['UNK', 'IMC', 'VMC', 'Unknown'], dtype=object)"
      ]
     },
     "execution_count": 810,
     "metadata": {},
     "output_type": "execute_result"
    }
   ],
   "source": [
    "# To confirm mapping has executed\n",
    "df['Weather.Condition'].unique()"
   ]
  },
  {
   "cell_type": "code",
   "execution_count": 811,
   "id": "52690b68",
   "metadata": {},
   "outputs": [
    {
     "data": {
      "text/plain": [
       "Weather.Condition  Aircraft.damage\n",
       "IMC                Destroyed          0.558749\n",
       "                   Substantial        0.378551\n",
       "                   Unknown            0.035300\n",
       "                   Minor              0.027400\n",
       "UNK                Destroyed          0.479711\n",
       "                   Substantial        0.325518\n",
       "                   Unknown            0.107304\n",
       "                   Minor              0.087466\n",
       "Unknown            Substantial        0.388622\n",
       "                   Unknown            0.272561\n",
       "                   Destroyed          0.218871\n",
       "                   Minor              0.119945\n",
       "VMC                Substantial        0.774377\n",
       "                   Destroyed          0.177478\n",
       "                   Minor              0.025604\n",
       "                   Unknown            0.022540\n",
       "Name: Aircraft.damage, dtype: float64"
      ]
     },
     "execution_count": 811,
     "metadata": {},
     "output_type": "execute_result"
    }
   ],
   "source": [
    "#Weather condition effect to Airplane damage\n",
    "df.groupby('Weather.Condition')['Aircraft.damage'].value_counts(normalize=True)"
   ]
  },
  {
   "cell_type": "code",
   "execution_count": 812,
   "id": "7a009e82",
   "metadata": {},
   "outputs": [
    {
     "data": {
      "text/plain": [
       "Index(['Event.Id', 'Investigation.Type', 'Accident.Number', 'Event.Date',\n",
       "       'Location', 'Country', 'Injury.Severity', 'Aircraft.damage',\n",
       "       'Registration.Number', 'Make', 'Model', 'Amateur.Built',\n",
       "       'Number.of.Engines', 'Engine.Type', 'Purpose.of.flight',\n",
       "       'Total.Fatal.Injuries', 'Total.Serious.Injuries',\n",
       "       'Total.Minor.Injuries', 'Total.Uninjured', 'Weather.Condition',\n",
       "       'Report.Status', 'Fatal.count', 'Flight.Category',\n",
       "       'Total.Fatal.Injuries_binned', 'Total.Serious.Injuries_binned',\n",
       "       'Total.Uninjured_binned'],\n",
       "      dtype='object')"
      ]
     },
     "execution_count": 812,
     "metadata": {},
     "output_type": "execute_result"
    }
   ],
   "source": [
    "df.columns"
   ]
  },
  {
   "cell_type": "markdown",
   "id": "3aa8a5ee",
   "metadata": {},
   "source": [
    "##Analyzing the accidents"
   ]
  },
  {
   "cell_type": "code",
   "execution_count": 813,
   "id": "0882c028",
   "metadata": {},
   "outputs": [
    {
     "data": {
      "text/html": [
       "<div>\n",
       "<style scoped>\n",
       "    .dataframe tbody tr th:only-of-type {\n",
       "        vertical-align: middle;\n",
       "    }\n",
       "\n",
       "    .dataframe tbody tr th {\n",
       "        vertical-align: top;\n",
       "    }\n",
       "\n",
       "    .dataframe thead th {\n",
       "        text-align: right;\n",
       "    }\n",
       "</style>\n",
       "<table border=\"1\" class=\"dataframe\">\n",
       "  <thead>\n",
       "    <tr style=\"text-align: right;\">\n",
       "      <th></th>\n",
       "      <th>Total.Fatal.Injuries</th>\n",
       "      <th>Total.Serious.Injuries</th>\n",
       "      <th>Total.Minor.Injuries</th>\n",
       "    </tr>\n",
       "    <tr>\n",
       "      <th>Make</th>\n",
       "      <th></th>\n",
       "      <th></th>\n",
       "      <th></th>\n",
       "    </tr>\n",
       "  </thead>\n",
       "  <tbody>\n",
       "    <tr>\n",
       "      <th>107.5 Flying Corporation</th>\n",
       "      <td>1.000000</td>\n",
       "      <td>0.000000</td>\n",
       "      <td>0.000000</td>\n",
       "    </tr>\n",
       "    <tr>\n",
       "      <th>1200</th>\n",
       "      <td>0.000000</td>\n",
       "      <td>1.000000</td>\n",
       "      <td>0.000000</td>\n",
       "    </tr>\n",
       "    <tr>\n",
       "      <th>177MF LLC</th>\n",
       "      <td>0.000000</td>\n",
       "      <td>2.000000</td>\n",
       "      <td>0.000000</td>\n",
       "    </tr>\n",
       "    <tr>\n",
       "      <th>1977 Colfer-chan</th>\n",
       "      <td>0.000000</td>\n",
       "      <td>0.000000</td>\n",
       "      <td>1.000000</td>\n",
       "    </tr>\n",
       "    <tr>\n",
       "      <th>1st Ftr Gp</th>\n",
       "      <td>1.000000</td>\n",
       "      <td>0.000000</td>\n",
       "      <td>0.000000</td>\n",
       "    </tr>\n",
       "    <tr>\n",
       "      <th>...</th>\n",
       "      <td>...</td>\n",
       "      <td>...</td>\n",
       "      <td>...</td>\n",
       "    </tr>\n",
       "    <tr>\n",
       "      <th>Zukowski</th>\n",
       "      <td>0.000000</td>\n",
       "      <td>0.000000</td>\n",
       "      <td>0.000000</td>\n",
       "    </tr>\n",
       "    <tr>\n",
       "      <th>Zwart</th>\n",
       "      <td>0.000000</td>\n",
       "      <td>0.000000</td>\n",
       "      <td>0.000000</td>\n",
       "    </tr>\n",
       "    <tr>\n",
       "      <th>de Havilland</th>\n",
       "      <td>0.222222</td>\n",
       "      <td>0.444444</td>\n",
       "      <td>0.111111</td>\n",
       "    </tr>\n",
       "    <tr>\n",
       "      <th>drone</th>\n",
       "      <td>0.000000</td>\n",
       "      <td>0.000000</td>\n",
       "      <td>0.000000</td>\n",
       "    </tr>\n",
       "    <tr>\n",
       "      <th>unknown</th>\n",
       "      <td>0.000000</td>\n",
       "      <td>0.000000</td>\n",
       "      <td>1.000000</td>\n",
       "    </tr>\n",
       "  </tbody>\n",
       "</table>\n",
       "<p>8217 rows × 3 columns</p>\n",
       "</div>"
      ],
      "text/plain": [
       "                          Total.Fatal.Injuries  Total.Serious.Injuries  \\\n",
       "Make                                                                     \n",
       "107.5 Flying Corporation              1.000000                0.000000   \n",
       "1200                                  0.000000                1.000000   \n",
       "177MF LLC                             0.000000                2.000000   \n",
       "1977 Colfer-chan                      0.000000                0.000000   \n",
       "1st Ftr Gp                            1.000000                0.000000   \n",
       "...                                        ...                     ...   \n",
       "Zukowski                              0.000000                0.000000   \n",
       "Zwart                                 0.000000                0.000000   \n",
       "de Havilland                          0.222222                0.444444   \n",
       "drone                                 0.000000                0.000000   \n",
       "unknown                               0.000000                0.000000   \n",
       "\n",
       "                          Total.Minor.Injuries  \n",
       "Make                                            \n",
       "107.5 Flying Corporation              0.000000  \n",
       "1200                                  0.000000  \n",
       "177MF LLC                             0.000000  \n",
       "1977 Colfer-chan                      1.000000  \n",
       "1st Ftr Gp                            0.000000  \n",
       "...                                        ...  \n",
       "Zukowski                              0.000000  \n",
       "Zwart                                 0.000000  \n",
       "de Havilland                          0.111111  \n",
       "drone                                 0.000000  \n",
       "unknown                               1.000000  \n",
       "\n",
       "[8217 rows x 3 columns]"
      ]
     },
     "execution_count": 813,
     "metadata": {},
     "output_type": "execute_result"
    }
   ],
   "source": [
    "#Injuries by make\n",
    "df.groupby('Make')[['Total.Fatal.Injuries','Total.Serious.Injuries','Total.Minor.Injuries']].mean()"
   ]
  },
  {
   "cell_type": "code",
   "execution_count": 814,
   "id": "8ff9da00",
   "metadata": {},
   "outputs": [],
   "source": [
    "# using pivot table to visualize the same.\n",
    "\n",
    "values= ['Total.Serious.Injuries','Total.Fatal.Injuries','Total.Minor.Injuries','Total.Uninjured']\n",
    "pivot= df.pivot_table(\n",
    "    index='Make',\n",
    "    values= ['Total.Serious.Injuries','Total.Fatal.Injuries','Total.Minor.Injuries','Total.Uninjured'],\n",
    "    aggfunc='mean'\n",
    "    )"
   ]
  },
  {
   "cell_type": "code",
   "execution_count": 815,
   "id": "cc647a0a",
   "metadata": {},
   "outputs": [
    {
     "name": "stdout",
     "output_type": "stream",
     "text": [
      "                    Total.Fatal.Injuries  Total.Minor.Injuries  \\\n",
      "Make                                                             \n",
      "Tupolev                       210.000000              0.000000   \n",
      "TUPOLEV                        44.500000              0.000000   \n",
      "VIKING AIR LIMITED             23.000000              0.000000   \n",
      "Aviocar CASA                   18.000000              0.000000   \n",
      "SUKHOI                         14.333333              0.166667   \n",
      "Mil                            13.000000              0.000000   \n",
      "Mil Design Bureau              13.000000              0.000000   \n",
      "ANTONOV                        11.833333              0.333333   \n",
      "Embraer Aircraft               10.000000              0.000000   \n",
      "AIRvan                          9.000000              0.000000   \n",
      "\n",
      "                    Total.Serious.Injuries  Total.Uninjured  \n",
      "Make                                                         \n",
      "Tupolev                                0.0         0.000000  \n",
      "TUPOLEV                                0.0         0.000000  \n",
      "VIKING AIR LIMITED                     0.0         0.000000  \n",
      "Aviocar CASA                           0.0         0.000000  \n",
      "SUKHOI                                 0.0         6.666667  \n",
      "Mil                                    0.0         0.000000  \n",
      "Mil Design Bureau                      0.0         0.000000  \n",
      "ANTONOV                                0.0         1.333333  \n",
      "Embraer Aircraft                       0.0         0.000000  \n",
      "AIRvan                                 0.0         0.000000  \n"
     ]
    }
   ],
   "source": [
    "# Displaying top 10 airplane make by Total fatal mean injury\n",
    "pivot = pivot.sort_values('Total.Fatal.Injuries',ascending=False)\n",
    "print(pivot.head(10))"
   ]
  },
  {
   "cell_type": "code",
   "execution_count": 816,
   "id": "faeff296",
   "metadata": {},
   "outputs": [
    {
     "data": {
      "text/html": [
       "<div>\n",
       "<style scoped>\n",
       "    .dataframe tbody tr th:only-of-type {\n",
       "        vertical-align: middle;\n",
       "    }\n",
       "\n",
       "    .dataframe tbody tr th {\n",
       "        vertical-align: top;\n",
       "    }\n",
       "\n",
       "    .dataframe thead th {\n",
       "        text-align: right;\n",
       "    }\n",
       "</style>\n",
       "<table border=\"1\" class=\"dataframe\">\n",
       "  <thead>\n",
       "    <tr style=\"text-align: right;\">\n",
       "      <th></th>\n",
       "      <th>Total.Fatal.Injuries</th>\n",
       "      <th>Total.Serious.Injuries</th>\n",
       "      <th>Total.Minor.Injuries</th>\n",
       "    </tr>\n",
       "    <tr>\n",
       "      <th>Model</th>\n",
       "      <th></th>\n",
       "      <th></th>\n",
       "      <th></th>\n",
       "    </tr>\n",
       "  </thead>\n",
       "  <tbody>\n",
       "    <tr>\n",
       "      <th>&amp;GCBC</th>\n",
       "      <td>0.0</td>\n",
       "      <td>0.0</td>\n",
       "      <td>0.0</td>\n",
       "    </tr>\n",
       "    <tr>\n",
       "      <th>(EX) RV-6</th>\n",
       "      <td>2.0</td>\n",
       "      <td>0.0</td>\n",
       "      <td>0.0</td>\n",
       "    </tr>\n",
       "    <tr>\n",
       "      <th>(MODIFIED)</th>\n",
       "      <td>1.0</td>\n",
       "      <td>0.0</td>\n",
       "      <td>0.0</td>\n",
       "    </tr>\n",
       "    <tr>\n",
       "      <th>(SOLOY CONVERSION)</th>\n",
       "      <td>0.0</td>\n",
       "      <td>0.0</td>\n",
       "      <td>0.0</td>\n",
       "    </tr>\n",
       "    <tr>\n",
       "      <th>-269C</th>\n",
       "      <td>0.0</td>\n",
       "      <td>0.0</td>\n",
       "      <td>0.0</td>\n",
       "    </tr>\n",
       "    <tr>\n",
       "      <th>...</th>\n",
       "      <td>...</td>\n",
       "      <td>...</td>\n",
       "      <td>...</td>\n",
       "    </tr>\n",
       "    <tr>\n",
       "      <th>lebed</th>\n",
       "      <td>2.0</td>\n",
       "      <td>0.0</td>\n",
       "      <td>0.0</td>\n",
       "    </tr>\n",
       "    <tr>\n",
       "      <th>none</th>\n",
       "      <td>1.0</td>\n",
       "      <td>1.0</td>\n",
       "      <td>0.0</td>\n",
       "    </tr>\n",
       "    <tr>\n",
       "      <th>sportstar</th>\n",
       "      <td>0.0</td>\n",
       "      <td>0.0</td>\n",
       "      <td>0.0</td>\n",
       "    </tr>\n",
       "    <tr>\n",
       "      <th>unk</th>\n",
       "      <td>0.0</td>\n",
       "      <td>1.0</td>\n",
       "      <td>1.0</td>\n",
       "    </tr>\n",
       "    <tr>\n",
       "      <th>unknown</th>\n",
       "      <td>1.0</td>\n",
       "      <td>0.0</td>\n",
       "      <td>0.0</td>\n",
       "    </tr>\n",
       "  </tbody>\n",
       "</table>\n",
       "<p>12278 rows × 3 columns</p>\n",
       "</div>"
      ],
      "text/plain": [
       "                    Total.Fatal.Injuries  Total.Serious.Injuries  \\\n",
       "Model                                                              \n",
       "&GCBC                                0.0                     0.0   \n",
       "(EX) RV-6                            2.0                     0.0   \n",
       "(MODIFIED)                           1.0                     0.0   \n",
       "(SOLOY CONVERSION)                   0.0                     0.0   \n",
       "-269C                                0.0                     0.0   \n",
       "...                                  ...                     ...   \n",
       "lebed                                2.0                     0.0   \n",
       "none                                 1.0                     1.0   \n",
       "sportstar                            0.0                     0.0   \n",
       "unk                                  0.0                     1.0   \n",
       "unknown                              1.0                     0.0   \n",
       "\n",
       "                    Total.Minor.Injuries  \n",
       "Model                                     \n",
       "&GCBC                                0.0  \n",
       "(EX) RV-6                            0.0  \n",
       "(MODIFIED)                           0.0  \n",
       "(SOLOY CONVERSION)                   0.0  \n",
       "-269C                                0.0  \n",
       "...                                  ...  \n",
       "lebed                                0.0  \n",
       "none                                 0.0  \n",
       "sportstar                            0.0  \n",
       "unk                                  1.0  \n",
       "unknown                              0.0  \n",
       "\n",
       "[12278 rows x 3 columns]"
      ]
     },
     "execution_count": 816,
     "metadata": {},
     "output_type": "execute_result"
    }
   ],
   "source": [
    "df.groupby('Model')[['Total.Fatal.Injuries','Total.Serious.Injuries','Total.Minor.Injuries']].mean()"
   ]
  },
  {
   "cell_type": "markdown",
   "id": "2a558a04",
   "metadata": {},
   "source": [
    "##ANALYSIS OF TOTAL UNINJURED BY MAKE, MODEL,ENGINE TYPE AND NO OF ENGINES."
   ]
  },
  {
   "cell_type": "code",
   "execution_count": 817,
   "id": "6b7211aa",
   "metadata": {},
   "outputs": [
    {
     "name": "stdout",
     "output_type": "stream",
     "text": [
      "Make             Total.Uninjured\n",
      "unknown          0                  1.0\n",
      "Harris-hafen     0                  1.0\n",
      "Harleman         0                  1.0\n",
      "Harlow           1                  1.0\n",
      "Harmel           2                  1.0\n",
      "Harmon/lance     0                  1.0\n",
      "Harms            2                  1.0\n",
      "Harold J. Eagen  0                  1.0\n",
      "Harold Vander    1                  1.0\n",
      "Harold W Bruce   0                  1.0\n",
      "Name: Total.Uninjured, dtype: float64\n"
     ]
    }
   ],
   "source": [
    "Uninjured_distribution=df.groupby('Make')['Total.Uninjured'].value_counts(normalize=True)\n",
    "\n",
    "Sorted_distribution= Uninjured_distribution.sort_values(ascending=False)\n",
    "\n",
    "\n",
    "print(Sorted_distribution.head(10))"
   ]
  },
  {
   "cell_type": "code",
   "execution_count": 818,
   "id": "5b81e0f6",
   "metadata": {},
   "outputs": [
    {
     "name": "stdout",
     "output_type": "stream",
     "text": [
      "Make             Total.Uninjured\n",
      "Harold W Bruce   0                  1.0\n",
      "Harold Vander    1                  1.0\n",
      "Harold J. Eagen  0                  1.0\n",
      "Harms            2                  1.0\n",
      "Harmon/lance     0                  1.0\n",
      "Harmel           2                  1.0\n",
      "Harlow           1                  1.0\n",
      "Harleman         0                  1.0\n",
      "Harris-hafen     0                  1.0\n",
      "unknown          0                  1.0\n",
      "Name: Total.Uninjured, dtype: float64\n"
     ]
    }
   ],
   "source": [
    "Uninjured_distribution=df.groupby('Make')['Total.Uninjured'].value_counts(normalize=True)\n",
    "\n",
    "Sorted_distribution= Uninjured_distribution.sort_values(ascending=True)\n",
    "\n",
    "\n",
    "print(Sorted_distribution.tail(10))"
   ]
  },
  {
   "cell_type": "markdown",
   "id": "9dffe69f",
   "metadata": {},
   "source": [
    "###Locality, country with aircraft damage\n"
   ]
  },
  {
   "cell_type": "code",
   "execution_count": 819,
   "id": "d3b063a1",
   "metadata": {},
   "outputs": [
    {
     "data": {
      "text/plain": [
       "Country         Aircraft.damage\n",
       "ATLANTIC OCEAN  Destroyed          0.555556\n",
       "                Unknown            0.246914\n",
       "                Substantial        0.135802\n",
       "                Minor              0.061728\n",
       "AY              Substantial        1.000000\n",
       "                                     ...   \n",
       "Zambia          Destroyed          1.000000\n",
       "Zimbabwe        Substantial        0.400000\n",
       "                Destroyed          0.200000\n",
       "                Minor              0.200000\n",
       "                Unknown            0.200000\n",
       "Name: Aircraft.damage, Length: 592, dtype: float64"
      ]
     },
     "execution_count": 819,
     "metadata": {},
     "output_type": "execute_result"
    }
   ],
   "source": [
    "df.groupby('Country')['Aircraft.damage'].value_counts(normalize=True)"
   ]
  },
  {
   "cell_type": "code",
   "execution_count": 820,
   "id": "ed56ce53",
   "metadata": {},
   "outputs": [
    {
     "name": "stdout",
     "output_type": "stream",
     "text": [
      "Country                 Aircraft.damage\n",
      "Benin                   Destroyed          1.0\n",
      "Ivory Coast             Substantial        1.0\n",
      "Libya                   Destroyed          1.0\n",
      "Liberia                 Destroyed          1.0\n",
      "Sierra Leone            Substantial        1.0\n",
      "Seychelles              Unknown            1.0\n",
      "Cote D'ivoire           Destroyed          1.0\n",
      "Cyprus                  Minor              1.0\n",
      "British Virgin Islands  Substantial        1.0\n",
      "United Arab Emirates    Substantial        1.0\n",
      "Name: Aircraft.damage, dtype: float64\n"
     ]
    }
   ],
   "source": [
    "#top ten countries with \n",
    "top_ten_damage_countries = df.groupby('Country')['Aircraft.damage'].value_counts(normalize=True)\n",
    "\n",
    "top_10 = top_ten_damage_countries.sort_values(ascending=False)\n",
    "\n",
    "print(top_10.head(10))"
   ]
  },
  {
   "cell_type": "code",
   "execution_count": 821,
   "id": "dbadeda0",
   "metadata": {},
   "outputs": [
    {
     "name": "stdout",
     "output_type": "stream",
     "text": [
      "Country             Aircraft.damage\n",
      "Venezuela           Minor              0.034188\n",
      "Kenya               Minor              0.033333\n",
      "Costa Rica          Minor              0.033333\n",
      "GULF OF MEXICO      Unknown            0.033333\n",
      "Bolivia             Minor              0.030303\n",
      "Guatemala           Unknown            0.029851\n",
      "Dominican Republic  Minor              0.029412\n",
      "United States       Minor              0.025713\n",
      "                    Unknown            0.024557\n",
      "Guatemala           Minor              0.014925\n",
      "Name: Aircraft.damage, dtype: float64\n"
     ]
    }
   ],
   "source": [
    "top_ten_damage_countries = df.groupby('Country')['Aircraft.damage'].value_counts(normalize=True)\n",
    "\n",
    "top_10 = top_ten_damage_countries.sort_values(ascending=False)\n",
    "\n",
    "print(top_10.tail(10))"
   ]
  },
  {
   "cell_type": "markdown",
   "id": "4ccebbdb",
   "metadata": {},
   "source": [
    "# Data Visualization."
   ]
  },
  {
   "cell_type": "code",
   "execution_count": 822,
   "id": "3e064c48",
   "metadata": {},
   "outputs": [],
   "source": [
    "import matplotlib.pyplot as plt\n",
    "%matplotlib inline\n",
    "import seaborn as sns"
   ]
  },
  {
   "cell_type": "code",
   "execution_count": null,
   "id": "d0be63a5",
   "metadata": {},
   "outputs": [],
   "source": []
  }
 ],
 "metadata": {
  "kernelspec": {
   "display_name": "learn-env",
   "language": "python",
   "name": "python3"
  },
  "language_info": {
   "codemirror_mode": {
    "name": "ipython",
    "version": 3
   },
   "file_extension": ".py",
   "mimetype": "text/x-python",
   "name": "python",
   "nbconvert_exporter": "python",
   "pygments_lexer": "ipython3",
   "version": "3.8.5"
  }
 },
 "nbformat": 4,
 "nbformat_minor": 5
}
