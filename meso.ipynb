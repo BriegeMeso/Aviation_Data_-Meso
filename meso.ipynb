{
 "cells": [
  {
   "cell_type": "markdown",
   "id": "9a461bf6",
   "metadata": {},
   "source": [
    "# Overview\n",
    "The company is expanding into new industries to diversify its portfolio. The company has plans to purchase and operate aicrafts for both commercial and private use. Your company is expanding in to new industries to diversify its portfolio. Specifically, they are interested in purchasing and operating airplanes for commercial and private enterprises, but do not know anything about the potential risks of aircraft. You are charged with determining which aircraft are the lowest risk for the company to start this new business endeavor. You must then translate your findings into actionable insights that the head of the new aviation division can use to help decide which aircraft to purchase. "
   ]
  },
  {
   "cell_type": "markdown",
   "id": "31df959d",
   "metadata": {},
   "source": [
    "# Business problem\n",
    "The biggest risk in the aviation industry is safety which might result to serious damages to a business and even more  for a new venture. The above may lead to brand damage and heavy financial implications. \n",
    "\n",
    "- Objective 1:To determine the relationship between flight category(private,commercial) and the extent of injuries.\n",
    "\n",
    "- Objective 2:To analyze the relationship between aircraft make and model with injuries.\n",
    "\n",
    "- Objective 3: To analyze aircraft damage in relation to engine type and no of engines.\n",
    "\n",
    "Why : Conducting a risk assessment analysis enables the company to understand risks associated with different aircrafts. This will ensure reduced accident occurence,safer operations, and maximization of investments in the aircraft venture."
   ]
  },
  {
   "cell_type": "markdown",
   "id": "59f3ba2a",
   "metadata": {},
   "source": [
    "## **Stakeholders**\n",
    "- ** Company Executives-people who needs insights before purchasing the flights\n",
    "- ** Operations team for the company-team that will be handling the aircrafts\n",
    "\n"
   ]
  },
  {
   "cell_type": "markdown",
   "id": "2a5594cb",
   "metadata": {},
   "source": [
    "In this project, we will analyze the Aviation_Data.csv to be able to advise our client who is intrested in diversifying his business into aviation sector to be able to identify the lowest risk planes that he can buy."
   ]
  },
  {
   "cell_type": "markdown",
   "id": "ffcbc0a6",
   "metadata": {},
   "source": [
    "## ** Importing Libraries and Loading Data**"
   ]
  },
  {
   "cell_type": "code",
   "execution_count": 965,
   "id": "ac0cdb3c",
   "metadata": {},
   "outputs": [
    {
     "name": "stdout",
     "output_type": "stream",
     "text": [
      "Dataset shape: (90348, 31)\n"
     ]
    },
    {
     "data": {
      "text/html": [
       "<div>\n",
       "<style scoped>\n",
       "    .dataframe tbody tr th:only-of-type {\n",
       "        vertical-align: middle;\n",
       "    }\n",
       "\n",
       "    .dataframe tbody tr th {\n",
       "        vertical-align: top;\n",
       "    }\n",
       "\n",
       "    .dataframe thead th {\n",
       "        text-align: right;\n",
       "    }\n",
       "</style>\n",
       "<table border=\"1\" class=\"dataframe\">\n",
       "  <thead>\n",
       "    <tr style=\"text-align: right;\">\n",
       "      <th></th>\n",
       "      <th>Event.Id</th>\n",
       "      <th>Investigation.Type</th>\n",
       "      <th>Accident.Number</th>\n",
       "      <th>Event.Date</th>\n",
       "      <th>Location</th>\n",
       "      <th>Country</th>\n",
       "      <th>Latitude</th>\n",
       "      <th>Longitude</th>\n",
       "      <th>Airport.Code</th>\n",
       "      <th>Airport.Name</th>\n",
       "      <th>...</th>\n",
       "      <th>Purpose.of.flight</th>\n",
       "      <th>Air.carrier</th>\n",
       "      <th>Total.Fatal.Injuries</th>\n",
       "      <th>Total.Serious.Injuries</th>\n",
       "      <th>Total.Minor.Injuries</th>\n",
       "      <th>Total.Uninjured</th>\n",
       "      <th>Weather.Condition</th>\n",
       "      <th>Broad.phase.of.flight</th>\n",
       "      <th>Report.Status</th>\n",
       "      <th>Publication.Date</th>\n",
       "    </tr>\n",
       "  </thead>\n",
       "  <tbody>\n",
       "    <tr>\n",
       "      <th>0</th>\n",
       "      <td>20001218X45444</td>\n",
       "      <td>Accident</td>\n",
       "      <td>SEA87LA080</td>\n",
       "      <td>1948-10-24</td>\n",
       "      <td>MOOSE CREEK, ID</td>\n",
       "      <td>United States</td>\n",
       "      <td>NaN</td>\n",
       "      <td>NaN</td>\n",
       "      <td>NaN</td>\n",
       "      <td>NaN</td>\n",
       "      <td>...</td>\n",
       "      <td>Personal</td>\n",
       "      <td>NaN</td>\n",
       "      <td>2.0</td>\n",
       "      <td>0.0</td>\n",
       "      <td>0.0</td>\n",
       "      <td>0.0</td>\n",
       "      <td>UNK</td>\n",
       "      <td>Cruise</td>\n",
       "      <td>Probable Cause</td>\n",
       "      <td>NaN</td>\n",
       "    </tr>\n",
       "    <tr>\n",
       "      <th>1</th>\n",
       "      <td>20001218X45447</td>\n",
       "      <td>Accident</td>\n",
       "      <td>LAX94LA336</td>\n",
       "      <td>1962-07-19</td>\n",
       "      <td>BRIDGEPORT, CA</td>\n",
       "      <td>United States</td>\n",
       "      <td>NaN</td>\n",
       "      <td>NaN</td>\n",
       "      <td>NaN</td>\n",
       "      <td>NaN</td>\n",
       "      <td>...</td>\n",
       "      <td>Personal</td>\n",
       "      <td>NaN</td>\n",
       "      <td>4.0</td>\n",
       "      <td>0.0</td>\n",
       "      <td>0.0</td>\n",
       "      <td>0.0</td>\n",
       "      <td>UNK</td>\n",
       "      <td>Unknown</td>\n",
       "      <td>Probable Cause</td>\n",
       "      <td>19-09-1996</td>\n",
       "    </tr>\n",
       "    <tr>\n",
       "      <th>2</th>\n",
       "      <td>20061025X01555</td>\n",
       "      <td>Accident</td>\n",
       "      <td>NYC07LA005</td>\n",
       "      <td>1974-08-30</td>\n",
       "      <td>Saltville, VA</td>\n",
       "      <td>United States</td>\n",
       "      <td>36.9222</td>\n",
       "      <td>-81.8781</td>\n",
       "      <td>NaN</td>\n",
       "      <td>NaN</td>\n",
       "      <td>...</td>\n",
       "      <td>Personal</td>\n",
       "      <td>NaN</td>\n",
       "      <td>3.0</td>\n",
       "      <td>NaN</td>\n",
       "      <td>NaN</td>\n",
       "      <td>NaN</td>\n",
       "      <td>IMC</td>\n",
       "      <td>Cruise</td>\n",
       "      <td>Probable Cause</td>\n",
       "      <td>26-02-2007</td>\n",
       "    </tr>\n",
       "    <tr>\n",
       "      <th>3</th>\n",
       "      <td>20001218X45448</td>\n",
       "      <td>Accident</td>\n",
       "      <td>LAX96LA321</td>\n",
       "      <td>1977-06-19</td>\n",
       "      <td>EUREKA, CA</td>\n",
       "      <td>United States</td>\n",
       "      <td>NaN</td>\n",
       "      <td>NaN</td>\n",
       "      <td>NaN</td>\n",
       "      <td>NaN</td>\n",
       "      <td>...</td>\n",
       "      <td>Personal</td>\n",
       "      <td>NaN</td>\n",
       "      <td>2.0</td>\n",
       "      <td>0.0</td>\n",
       "      <td>0.0</td>\n",
       "      <td>0.0</td>\n",
       "      <td>IMC</td>\n",
       "      <td>Cruise</td>\n",
       "      <td>Probable Cause</td>\n",
       "      <td>12-09-2000</td>\n",
       "    </tr>\n",
       "    <tr>\n",
       "      <th>4</th>\n",
       "      <td>20041105X01764</td>\n",
       "      <td>Accident</td>\n",
       "      <td>CHI79FA064</td>\n",
       "      <td>1979-08-02</td>\n",
       "      <td>Canton, OH</td>\n",
       "      <td>United States</td>\n",
       "      <td>NaN</td>\n",
       "      <td>NaN</td>\n",
       "      <td>NaN</td>\n",
       "      <td>NaN</td>\n",
       "      <td>...</td>\n",
       "      <td>Personal</td>\n",
       "      <td>NaN</td>\n",
       "      <td>1.0</td>\n",
       "      <td>2.0</td>\n",
       "      <td>NaN</td>\n",
       "      <td>0.0</td>\n",
       "      <td>VMC</td>\n",
       "      <td>Approach</td>\n",
       "      <td>Probable Cause</td>\n",
       "      <td>16-04-1980</td>\n",
       "    </tr>\n",
       "  </tbody>\n",
       "</table>\n",
       "<p>5 rows × 31 columns</p>\n",
       "</div>"
      ],
      "text/plain": [
       "         Event.Id Investigation.Type Accident.Number  Event.Date  \\\n",
       "0  20001218X45444           Accident      SEA87LA080  1948-10-24   \n",
       "1  20001218X45447           Accident      LAX94LA336  1962-07-19   \n",
       "2  20061025X01555           Accident      NYC07LA005  1974-08-30   \n",
       "3  20001218X45448           Accident      LAX96LA321  1977-06-19   \n",
       "4  20041105X01764           Accident      CHI79FA064  1979-08-02   \n",
       "\n",
       "          Location        Country Latitude Longitude Airport.Code  \\\n",
       "0  MOOSE CREEK, ID  United States      NaN       NaN          NaN   \n",
       "1   BRIDGEPORT, CA  United States      NaN       NaN          NaN   \n",
       "2    Saltville, VA  United States  36.9222  -81.8781          NaN   \n",
       "3       EUREKA, CA  United States      NaN       NaN          NaN   \n",
       "4       Canton, OH  United States      NaN       NaN          NaN   \n",
       "\n",
       "  Airport.Name  ... Purpose.of.flight Air.carrier Total.Fatal.Injuries  \\\n",
       "0          NaN  ...          Personal         NaN                  2.0   \n",
       "1          NaN  ...          Personal         NaN                  4.0   \n",
       "2          NaN  ...          Personal         NaN                  3.0   \n",
       "3          NaN  ...          Personal         NaN                  2.0   \n",
       "4          NaN  ...          Personal         NaN                  1.0   \n",
       "\n",
       "  Total.Serious.Injuries Total.Minor.Injuries Total.Uninjured  \\\n",
       "0                    0.0                  0.0             0.0   \n",
       "1                    0.0                  0.0             0.0   \n",
       "2                    NaN                  NaN             NaN   \n",
       "3                    0.0                  0.0             0.0   \n",
       "4                    2.0                  NaN             0.0   \n",
       "\n",
       "  Weather.Condition  Broad.phase.of.flight   Report.Status Publication.Date  \n",
       "0               UNK                 Cruise  Probable Cause              NaN  \n",
       "1               UNK                Unknown  Probable Cause       19-09-1996  \n",
       "2               IMC                 Cruise  Probable Cause       26-02-2007  \n",
       "3               IMC                 Cruise  Probable Cause       12-09-2000  \n",
       "4               VMC               Approach  Probable Cause       16-04-1980  \n",
       "\n",
       "[5 rows x 31 columns]"
      ]
     },
     "execution_count": 965,
     "metadata": {},
     "output_type": "execute_result"
    }
   ],
   "source": [
    "import pandas as pd\n",
    "import numpy as np\n",
    "import matplotlib.pyplot as plt\n",
    "%matplotlib inline\n",
    "\n",
    "import warnings\n",
    "warnings.filterwarnings('ignore')\n",
    "\n",
    "df = pd.read_csv('data/Aviation_Data.csv')\n",
    "\n",
    "# Display basic information\n",
    "print(\"Dataset shape:\", df.shape)\n",
    "df.head()"
   ]
  },
  {
   "cell_type": "markdown",
   "id": "8dfe46e9",
   "metadata": {},
   "source": [
    "\n",
    "## **2. Structure of our dataset**\n",
    "To view the data by using the few rows to be abbe to know what the data looks like."
   ]
  },
  {
   "cell_type": "code",
   "execution_count": 966,
   "id": "343d4a53",
   "metadata": {},
   "outputs": [
    {
     "name": "stdout",
     "output_type": "stream",
     "text": [
      "<class 'pandas.core.frame.DataFrame'>\n",
      "RangeIndex: 90348 entries, 0 to 90347\n",
      "Data columns (total 31 columns):\n",
      " #   Column                  Non-Null Count  Dtype  \n",
      "---  ------                  --------------  -----  \n",
      " 0   Event.Id                88889 non-null  object \n",
      " 1   Investigation.Type      90348 non-null  object \n",
      " 2   Accident.Number         88889 non-null  object \n",
      " 3   Event.Date              88889 non-null  object \n",
      " 4   Location                88837 non-null  object \n",
      " 5   Country                 88663 non-null  object \n",
      " 6   Latitude                34382 non-null  object \n",
      " 7   Longitude               34373 non-null  object \n",
      " 8   Airport.Code            50249 non-null  object \n",
      " 9   Airport.Name            52790 non-null  object \n",
      " 10  Injury.Severity         87889 non-null  object \n",
      " 11  Aircraft.damage         85695 non-null  object \n",
      " 12  Aircraft.Category       32287 non-null  object \n",
      " 13  Registration.Number     87572 non-null  object \n",
      " 14  Make                    88826 non-null  object \n",
      " 15  Model                   88797 non-null  object \n",
      " 16  Amateur.Built           88787 non-null  object \n",
      " 17  Number.of.Engines       82805 non-null  float64\n",
      " 18  Engine.Type             81812 non-null  object \n",
      " 19  FAR.Description         32023 non-null  object \n",
      " 20  Schedule                12582 non-null  object \n",
      " 21  Purpose.of.flight       82697 non-null  object \n",
      " 22  Air.carrier             16648 non-null  object \n",
      " 23  Total.Fatal.Injuries    77488 non-null  float64\n",
      " 24  Total.Serious.Injuries  76379 non-null  float64\n",
      " 25  Total.Minor.Injuries    76956 non-null  float64\n",
      " 26  Total.Uninjured         82977 non-null  float64\n",
      " 27  Weather.Condition       84397 non-null  object \n",
      " 28  Broad.phase.of.flight   61724 non-null  object \n",
      " 29  Report.Status           82508 non-null  object \n",
      " 30  Publication.Date        73659 non-null  object \n",
      "dtypes: float64(5), object(26)\n",
      "memory usage: 21.4+ MB\n"
     ]
    }
   ],
   "source": [
    "# Inspecting our dataframe\n",
    "df.info() # The data has 31 entries and the entries in the columns vary"
   ]
  },
  {
   "cell_type": "markdown",
   "id": "18f60739",
   "metadata": {},
   "source": [
    "## **3. Preview of the dataframe**\n",
    "Let's view the first five rows to identify how our data looks like."
   ]
  },
  {
   "cell_type": "code",
   "execution_count": 967,
   "id": "3965aa8e",
   "metadata": {},
   "outputs": [
    {
     "data": {
      "text/html": [
       "<div>\n",
       "<style scoped>\n",
       "    .dataframe tbody tr th:only-of-type {\n",
       "        vertical-align: middle;\n",
       "    }\n",
       "\n",
       "    .dataframe tbody tr th {\n",
       "        vertical-align: top;\n",
       "    }\n",
       "\n",
       "    .dataframe thead th {\n",
       "        text-align: right;\n",
       "    }\n",
       "</style>\n",
       "<table border=\"1\" class=\"dataframe\">\n",
       "  <thead>\n",
       "    <tr style=\"text-align: right;\">\n",
       "      <th></th>\n",
       "      <th>Event.Id</th>\n",
       "      <th>Investigation.Type</th>\n",
       "      <th>Accident.Number</th>\n",
       "      <th>Event.Date</th>\n",
       "      <th>Location</th>\n",
       "      <th>Country</th>\n",
       "      <th>Latitude</th>\n",
       "      <th>Longitude</th>\n",
       "      <th>Airport.Code</th>\n",
       "      <th>Airport.Name</th>\n",
       "      <th>...</th>\n",
       "      <th>Purpose.of.flight</th>\n",
       "      <th>Air.carrier</th>\n",
       "      <th>Total.Fatal.Injuries</th>\n",
       "      <th>Total.Serious.Injuries</th>\n",
       "      <th>Total.Minor.Injuries</th>\n",
       "      <th>Total.Uninjured</th>\n",
       "      <th>Weather.Condition</th>\n",
       "      <th>Broad.phase.of.flight</th>\n",
       "      <th>Report.Status</th>\n",
       "      <th>Publication.Date</th>\n",
       "    </tr>\n",
       "  </thead>\n",
       "  <tbody>\n",
       "    <tr>\n",
       "      <th>0</th>\n",
       "      <td>20001218X45444</td>\n",
       "      <td>Accident</td>\n",
       "      <td>SEA87LA080</td>\n",
       "      <td>1948-10-24</td>\n",
       "      <td>MOOSE CREEK, ID</td>\n",
       "      <td>United States</td>\n",
       "      <td>NaN</td>\n",
       "      <td>NaN</td>\n",
       "      <td>NaN</td>\n",
       "      <td>NaN</td>\n",
       "      <td>...</td>\n",
       "      <td>Personal</td>\n",
       "      <td>NaN</td>\n",
       "      <td>2.0</td>\n",
       "      <td>0.0</td>\n",
       "      <td>0.0</td>\n",
       "      <td>0.0</td>\n",
       "      <td>UNK</td>\n",
       "      <td>Cruise</td>\n",
       "      <td>Probable Cause</td>\n",
       "      <td>NaN</td>\n",
       "    </tr>\n",
       "    <tr>\n",
       "      <th>1</th>\n",
       "      <td>20001218X45447</td>\n",
       "      <td>Accident</td>\n",
       "      <td>LAX94LA336</td>\n",
       "      <td>1962-07-19</td>\n",
       "      <td>BRIDGEPORT, CA</td>\n",
       "      <td>United States</td>\n",
       "      <td>NaN</td>\n",
       "      <td>NaN</td>\n",
       "      <td>NaN</td>\n",
       "      <td>NaN</td>\n",
       "      <td>...</td>\n",
       "      <td>Personal</td>\n",
       "      <td>NaN</td>\n",
       "      <td>4.0</td>\n",
       "      <td>0.0</td>\n",
       "      <td>0.0</td>\n",
       "      <td>0.0</td>\n",
       "      <td>UNK</td>\n",
       "      <td>Unknown</td>\n",
       "      <td>Probable Cause</td>\n",
       "      <td>19-09-1996</td>\n",
       "    </tr>\n",
       "    <tr>\n",
       "      <th>2</th>\n",
       "      <td>20061025X01555</td>\n",
       "      <td>Accident</td>\n",
       "      <td>NYC07LA005</td>\n",
       "      <td>1974-08-30</td>\n",
       "      <td>Saltville, VA</td>\n",
       "      <td>United States</td>\n",
       "      <td>36.9222</td>\n",
       "      <td>-81.8781</td>\n",
       "      <td>NaN</td>\n",
       "      <td>NaN</td>\n",
       "      <td>...</td>\n",
       "      <td>Personal</td>\n",
       "      <td>NaN</td>\n",
       "      <td>3.0</td>\n",
       "      <td>NaN</td>\n",
       "      <td>NaN</td>\n",
       "      <td>NaN</td>\n",
       "      <td>IMC</td>\n",
       "      <td>Cruise</td>\n",
       "      <td>Probable Cause</td>\n",
       "      <td>26-02-2007</td>\n",
       "    </tr>\n",
       "    <tr>\n",
       "      <th>3</th>\n",
       "      <td>20001218X45448</td>\n",
       "      <td>Accident</td>\n",
       "      <td>LAX96LA321</td>\n",
       "      <td>1977-06-19</td>\n",
       "      <td>EUREKA, CA</td>\n",
       "      <td>United States</td>\n",
       "      <td>NaN</td>\n",
       "      <td>NaN</td>\n",
       "      <td>NaN</td>\n",
       "      <td>NaN</td>\n",
       "      <td>...</td>\n",
       "      <td>Personal</td>\n",
       "      <td>NaN</td>\n",
       "      <td>2.0</td>\n",
       "      <td>0.0</td>\n",
       "      <td>0.0</td>\n",
       "      <td>0.0</td>\n",
       "      <td>IMC</td>\n",
       "      <td>Cruise</td>\n",
       "      <td>Probable Cause</td>\n",
       "      <td>12-09-2000</td>\n",
       "    </tr>\n",
       "    <tr>\n",
       "      <th>4</th>\n",
       "      <td>20041105X01764</td>\n",
       "      <td>Accident</td>\n",
       "      <td>CHI79FA064</td>\n",
       "      <td>1979-08-02</td>\n",
       "      <td>Canton, OH</td>\n",
       "      <td>United States</td>\n",
       "      <td>NaN</td>\n",
       "      <td>NaN</td>\n",
       "      <td>NaN</td>\n",
       "      <td>NaN</td>\n",
       "      <td>...</td>\n",
       "      <td>Personal</td>\n",
       "      <td>NaN</td>\n",
       "      <td>1.0</td>\n",
       "      <td>2.0</td>\n",
       "      <td>NaN</td>\n",
       "      <td>0.0</td>\n",
       "      <td>VMC</td>\n",
       "      <td>Approach</td>\n",
       "      <td>Probable Cause</td>\n",
       "      <td>16-04-1980</td>\n",
       "    </tr>\n",
       "  </tbody>\n",
       "</table>\n",
       "<p>5 rows × 31 columns</p>\n",
       "</div>"
      ],
      "text/plain": [
       "         Event.Id Investigation.Type Accident.Number  Event.Date  \\\n",
       "0  20001218X45444           Accident      SEA87LA080  1948-10-24   \n",
       "1  20001218X45447           Accident      LAX94LA336  1962-07-19   \n",
       "2  20061025X01555           Accident      NYC07LA005  1974-08-30   \n",
       "3  20001218X45448           Accident      LAX96LA321  1977-06-19   \n",
       "4  20041105X01764           Accident      CHI79FA064  1979-08-02   \n",
       "\n",
       "          Location        Country Latitude Longitude Airport.Code  \\\n",
       "0  MOOSE CREEK, ID  United States      NaN       NaN          NaN   \n",
       "1   BRIDGEPORT, CA  United States      NaN       NaN          NaN   \n",
       "2    Saltville, VA  United States  36.9222  -81.8781          NaN   \n",
       "3       EUREKA, CA  United States      NaN       NaN          NaN   \n",
       "4       Canton, OH  United States      NaN       NaN          NaN   \n",
       "\n",
       "  Airport.Name  ... Purpose.of.flight Air.carrier Total.Fatal.Injuries  \\\n",
       "0          NaN  ...          Personal         NaN                  2.0   \n",
       "1          NaN  ...          Personal         NaN                  4.0   \n",
       "2          NaN  ...          Personal         NaN                  3.0   \n",
       "3          NaN  ...          Personal         NaN                  2.0   \n",
       "4          NaN  ...          Personal         NaN                  1.0   \n",
       "\n",
       "  Total.Serious.Injuries Total.Minor.Injuries Total.Uninjured  \\\n",
       "0                    0.0                  0.0             0.0   \n",
       "1                    0.0                  0.0             0.0   \n",
       "2                    NaN                  NaN             NaN   \n",
       "3                    0.0                  0.0             0.0   \n",
       "4                    2.0                  NaN             0.0   \n",
       "\n",
       "  Weather.Condition  Broad.phase.of.flight   Report.Status Publication.Date  \n",
       "0               UNK                 Cruise  Probable Cause              NaN  \n",
       "1               UNK                Unknown  Probable Cause       19-09-1996  \n",
       "2               IMC                 Cruise  Probable Cause       26-02-2007  \n",
       "3               IMC                 Cruise  Probable Cause       12-09-2000  \n",
       "4               VMC               Approach  Probable Cause       16-04-1980  \n",
       "\n",
       "[5 rows x 31 columns]"
      ]
     },
     "execution_count": 967,
     "metadata": {},
     "output_type": "execute_result"
    }
   ],
   "source": [
    "# reviewing last five columns of our data frame\n",
    "df.head()"
   ]
  },
  {
   "cell_type": "code",
   "execution_count": 968,
   "id": "9a50f3c7",
   "metadata": {},
   "outputs": [
    {
     "name": "stdout",
     "output_type": "stream",
     "text": [
      "<class 'pandas.core.frame.DataFrame'>\n",
      "RangeIndex: 90348 entries, 0 to 90347\n",
      "Data columns (total 31 columns):\n",
      " #   Column                  Non-Null Count  Dtype  \n",
      "---  ------                  --------------  -----  \n",
      " 0   Event.Id                88889 non-null  object \n",
      " 1   Investigation.Type      90348 non-null  object \n",
      " 2   Accident.Number         88889 non-null  object \n",
      " 3   Event.Date              88889 non-null  object \n",
      " 4   Location                88837 non-null  object \n",
      " 5   Country                 88663 non-null  object \n",
      " 6   Latitude                34382 non-null  object \n",
      " 7   Longitude               34373 non-null  object \n",
      " 8   Airport.Code            50249 non-null  object \n",
      " 9   Airport.Name            52790 non-null  object \n",
      " 10  Injury.Severity         87889 non-null  object \n",
      " 11  Aircraft.damage         85695 non-null  object \n",
      " 12  Aircraft.Category       32287 non-null  object \n",
      " 13  Registration.Number     87572 non-null  object \n",
      " 14  Make                    88826 non-null  object \n",
      " 15  Model                   88797 non-null  object \n",
      " 16  Amateur.Built           88787 non-null  object \n",
      " 17  Number.of.Engines       82805 non-null  float64\n",
      " 18  Engine.Type             81812 non-null  object \n",
      " 19  FAR.Description         32023 non-null  object \n",
      " 20  Schedule                12582 non-null  object \n",
      " 21  Purpose.of.flight       82697 non-null  object \n",
      " 22  Air.carrier             16648 non-null  object \n",
      " 23  Total.Fatal.Injuries    77488 non-null  float64\n",
      " 24  Total.Serious.Injuries  76379 non-null  float64\n",
      " 25  Total.Minor.Injuries    76956 non-null  float64\n",
      " 26  Total.Uninjured         82977 non-null  float64\n",
      " 27  Weather.Condition       84397 non-null  object \n",
      " 28  Broad.phase.of.flight   61724 non-null  object \n",
      " 29  Report.Status           82508 non-null  object \n",
      " 30  Publication.Date        73659 non-null  object \n",
      "dtypes: float64(5), object(26)\n",
      "memory usage: 21.4+ MB\n"
     ]
    }
   ],
   "source": [
    "## A snippet of how the data looks like\n",
    "df.info() # data has 88958 rows and 32 columns"
   ]
  },
  {
   "cell_type": "markdown",
   "id": "1bf3f1a0",
   "metadata": {},
   "source": [
    "## **3. Data Preparation**\n",
    "\n",
    "Let's view the first five rows to identify how our data looks like."
   ]
  },
  {
   "cell_type": "markdown",
   "id": "4de1329f",
   "metadata": {},
   "source": [
    "#### Overview\n",
    "After understanding our dataset, we will not take subsequent steps to be able to handle our data **Data Preparation**.\n",
    "This will involve cleaning our data, formatting some rows as we prepare our data for analysis.\n",
    "\n",
    "The main goals of this step are to:\n",
    "1. Handle duplicates in our data  \n",
    "2. Identify and handle missing values in our data  \n",
    "3. Fix data types \n",
    "4. Identify columns to be used \n",
    "5. Create new columns for risk analysis\n",
    "5. Ensuring data is ready for data analysis and visualization\n",
    "\n"
   ]
  },
  {
   "cell_type": "markdown",
   "id": "6a0fc41c",
   "metadata": {},
   "source": [
    "## **3. Handling missing values and duplicates**"
   ]
  },
  {
   "cell_type": "code",
   "execution_count": 969,
   "id": "6c6497f0",
   "metadata": {},
   "outputs": [
    {
     "data": {
      "text/plain": [
       "1390"
      ]
     },
     "execution_count": 969,
     "metadata": {},
     "output_type": "execute_result"
    }
   ],
   "source": [
    "# Identifying the datasets in our dataframe\n",
    "duplicated_data = df.duplicated().sum() # returns the sum of duplicates in the dataset\n",
    "\n",
    "duplicated_data\n"
   ]
  },
  {
   "cell_type": "code",
   "execution_count": 970,
   "id": "9821ff24",
   "metadata": {},
   "outputs": [],
   "source": [
    "# dropping duplicates\n",
    "df.drop_duplicates(inplace=True) # dropping the duplicates in our data\n"
   ]
  },
  {
   "cell_type": "code",
   "execution_count": 971,
   "id": "f38aea19",
   "metadata": {},
   "outputs": [
    {
     "data": {
      "text/plain": [
       "0"
      ]
     },
     "execution_count": 971,
     "metadata": {},
     "output_type": "execute_result"
    }
   ],
   "source": [
    "# To confirm that the duplicated have been dropped\n",
    "df.duplicated().sum()"
   ]
  },
  {
   "cell_type": "code",
   "execution_count": 972,
   "id": "99bcc65b",
   "metadata": {},
   "outputs": [
    {
     "data": {
      "text/plain": [
       "Event.Id                   0.077565\n",
       "Investigation.Type         0.000000\n",
       "Accident.Number            0.077565\n",
       "Event.Date                 0.077565\n",
       "Location                   0.136019\n",
       "Country                    0.331617\n",
       "Latitude                  61.350300\n",
       "Longitude                 61.360417\n",
       "Airport.Code              43.513793\n",
       "Airport.Name              40.657389\n",
       "Injury.Severity            1.201691\n",
       "Aircraft.damage            3.668023\n",
       "Aircraft.Category         63.705344\n",
       "Registration.Number        1.558039\n",
       "Make                       0.148385\n",
       "Model                      0.180984\n",
       "Amateur.Built              0.192226\n",
       "Number.of.Engines          6.916747\n",
       "Engine.Type                8.033004\n",
       "FAR.Description           64.002113\n",
       "Schedule                  85.856247\n",
       "Purpose.of.flight          7.038153\n",
       "Air.carrier               81.285550\n",
       "Total.Fatal.Injuries      12.893725\n",
       "Total.Serious.Injuries    14.140381\n",
       "Total.Minor.Injuries      13.491760\n",
       "Total.Uninjured            6.723398\n",
       "Weather.Condition          5.127139\n",
       "Broad.phase.of.flight     30.614447\n",
       "Report.Status              7.250613\n",
       "Publication.Date          17.198004\n",
       "dtype: float64"
      ]
     },
     "execution_count": 972,
     "metadata": {},
     "output_type": "execute_result"
    }
   ],
   "source": [
    "# percentage of missing values per column\n",
    "missing_df= df.isna().sum()/len(df) * 100\n",
    "\n",
    "missing_df\n"
   ]
  },
  {
   "cell_type": "code",
   "execution_count": 973,
   "id": "1f04f000",
   "metadata": {},
   "outputs": [],
   "source": [
    "# From the % missing values analysis,I dropped columns that have atleast 50% of the data missing and or\n",
    "#  may not very critical for the analysis.\n",
    "columns_to_drop = ['Latitude','Airport.Code','Airport.Name','Longitude','FAR.Description','Aircraft.Category','Air.carrier','Broad.phase.of.flight','Publication.Date','Schedule']"
   ]
  },
  {
   "cell_type": "code",
   "execution_count": 974,
   "id": "dc0a7ff7",
   "metadata": {},
   "outputs": [
    {
     "data": {
      "text/html": [
       "<div>\n",
       "<style scoped>\n",
       "    .dataframe tbody tr th:only-of-type {\n",
       "        vertical-align: middle;\n",
       "    }\n",
       "\n",
       "    .dataframe tbody tr th {\n",
       "        vertical-align: top;\n",
       "    }\n",
       "\n",
       "    .dataframe thead th {\n",
       "        text-align: right;\n",
       "    }\n",
       "</style>\n",
       "<table border=\"1\" class=\"dataframe\">\n",
       "  <thead>\n",
       "    <tr style=\"text-align: right;\">\n",
       "      <th></th>\n",
       "      <th>Event.Id</th>\n",
       "      <th>Investigation.Type</th>\n",
       "      <th>Accident.Number</th>\n",
       "      <th>Event.Date</th>\n",
       "      <th>Location</th>\n",
       "      <th>Country</th>\n",
       "      <th>Injury.Severity</th>\n",
       "      <th>Aircraft.damage</th>\n",
       "      <th>Registration.Number</th>\n",
       "      <th>Make</th>\n",
       "      <th>...</th>\n",
       "      <th>Amateur.Built</th>\n",
       "      <th>Number.of.Engines</th>\n",
       "      <th>Engine.Type</th>\n",
       "      <th>Purpose.of.flight</th>\n",
       "      <th>Total.Fatal.Injuries</th>\n",
       "      <th>Total.Serious.Injuries</th>\n",
       "      <th>Total.Minor.Injuries</th>\n",
       "      <th>Total.Uninjured</th>\n",
       "      <th>Weather.Condition</th>\n",
       "      <th>Report.Status</th>\n",
       "    </tr>\n",
       "  </thead>\n",
       "  <tbody>\n",
       "    <tr>\n",
       "      <th>0</th>\n",
       "      <td>20001218X45444</td>\n",
       "      <td>Accident</td>\n",
       "      <td>SEA87LA080</td>\n",
       "      <td>1948-10-24</td>\n",
       "      <td>MOOSE CREEK, ID</td>\n",
       "      <td>United States</td>\n",
       "      <td>Fatal(2)</td>\n",
       "      <td>Destroyed</td>\n",
       "      <td>NC6404</td>\n",
       "      <td>Stinson</td>\n",
       "      <td>...</td>\n",
       "      <td>No</td>\n",
       "      <td>1.0</td>\n",
       "      <td>Reciprocating</td>\n",
       "      <td>Personal</td>\n",
       "      <td>2.0</td>\n",
       "      <td>0.0</td>\n",
       "      <td>0.0</td>\n",
       "      <td>0.0</td>\n",
       "      <td>UNK</td>\n",
       "      <td>Probable Cause</td>\n",
       "    </tr>\n",
       "    <tr>\n",
       "      <th>1</th>\n",
       "      <td>20001218X45447</td>\n",
       "      <td>Accident</td>\n",
       "      <td>LAX94LA336</td>\n",
       "      <td>1962-07-19</td>\n",
       "      <td>BRIDGEPORT, CA</td>\n",
       "      <td>United States</td>\n",
       "      <td>Fatal(4)</td>\n",
       "      <td>Destroyed</td>\n",
       "      <td>N5069P</td>\n",
       "      <td>Piper</td>\n",
       "      <td>...</td>\n",
       "      <td>No</td>\n",
       "      <td>1.0</td>\n",
       "      <td>Reciprocating</td>\n",
       "      <td>Personal</td>\n",
       "      <td>4.0</td>\n",
       "      <td>0.0</td>\n",
       "      <td>0.0</td>\n",
       "      <td>0.0</td>\n",
       "      <td>UNK</td>\n",
       "      <td>Probable Cause</td>\n",
       "    </tr>\n",
       "    <tr>\n",
       "      <th>2</th>\n",
       "      <td>20061025X01555</td>\n",
       "      <td>Accident</td>\n",
       "      <td>NYC07LA005</td>\n",
       "      <td>1974-08-30</td>\n",
       "      <td>Saltville, VA</td>\n",
       "      <td>United States</td>\n",
       "      <td>Fatal(3)</td>\n",
       "      <td>Destroyed</td>\n",
       "      <td>N5142R</td>\n",
       "      <td>Cessna</td>\n",
       "      <td>...</td>\n",
       "      <td>No</td>\n",
       "      <td>1.0</td>\n",
       "      <td>Reciprocating</td>\n",
       "      <td>Personal</td>\n",
       "      <td>3.0</td>\n",
       "      <td>NaN</td>\n",
       "      <td>NaN</td>\n",
       "      <td>NaN</td>\n",
       "      <td>IMC</td>\n",
       "      <td>Probable Cause</td>\n",
       "    </tr>\n",
       "    <tr>\n",
       "      <th>3</th>\n",
       "      <td>20001218X45448</td>\n",
       "      <td>Accident</td>\n",
       "      <td>LAX96LA321</td>\n",
       "      <td>1977-06-19</td>\n",
       "      <td>EUREKA, CA</td>\n",
       "      <td>United States</td>\n",
       "      <td>Fatal(2)</td>\n",
       "      <td>Destroyed</td>\n",
       "      <td>N1168J</td>\n",
       "      <td>Rockwell</td>\n",
       "      <td>...</td>\n",
       "      <td>No</td>\n",
       "      <td>1.0</td>\n",
       "      <td>Reciprocating</td>\n",
       "      <td>Personal</td>\n",
       "      <td>2.0</td>\n",
       "      <td>0.0</td>\n",
       "      <td>0.0</td>\n",
       "      <td>0.0</td>\n",
       "      <td>IMC</td>\n",
       "      <td>Probable Cause</td>\n",
       "    </tr>\n",
       "    <tr>\n",
       "      <th>4</th>\n",
       "      <td>20041105X01764</td>\n",
       "      <td>Accident</td>\n",
       "      <td>CHI79FA064</td>\n",
       "      <td>1979-08-02</td>\n",
       "      <td>Canton, OH</td>\n",
       "      <td>United States</td>\n",
       "      <td>Fatal(1)</td>\n",
       "      <td>Destroyed</td>\n",
       "      <td>N15NY</td>\n",
       "      <td>Cessna</td>\n",
       "      <td>...</td>\n",
       "      <td>No</td>\n",
       "      <td>NaN</td>\n",
       "      <td>NaN</td>\n",
       "      <td>Personal</td>\n",
       "      <td>1.0</td>\n",
       "      <td>2.0</td>\n",
       "      <td>NaN</td>\n",
       "      <td>0.0</td>\n",
       "      <td>VMC</td>\n",
       "      <td>Probable Cause</td>\n",
       "    </tr>\n",
       "  </tbody>\n",
       "</table>\n",
       "<p>5 rows × 21 columns</p>\n",
       "</div>"
      ],
      "text/plain": [
       "         Event.Id Investigation.Type Accident.Number  Event.Date  \\\n",
       "0  20001218X45444           Accident      SEA87LA080  1948-10-24   \n",
       "1  20001218X45447           Accident      LAX94LA336  1962-07-19   \n",
       "2  20061025X01555           Accident      NYC07LA005  1974-08-30   \n",
       "3  20001218X45448           Accident      LAX96LA321  1977-06-19   \n",
       "4  20041105X01764           Accident      CHI79FA064  1979-08-02   \n",
       "\n",
       "          Location        Country Injury.Severity Aircraft.damage  \\\n",
       "0  MOOSE CREEK, ID  United States        Fatal(2)       Destroyed   \n",
       "1   BRIDGEPORT, CA  United States        Fatal(4)       Destroyed   \n",
       "2    Saltville, VA  United States        Fatal(3)       Destroyed   \n",
       "3       EUREKA, CA  United States        Fatal(2)       Destroyed   \n",
       "4       Canton, OH  United States        Fatal(1)       Destroyed   \n",
       "\n",
       "  Registration.Number      Make  ... Amateur.Built Number.of.Engines  \\\n",
       "0              NC6404   Stinson  ...            No               1.0   \n",
       "1              N5069P     Piper  ...            No               1.0   \n",
       "2              N5142R    Cessna  ...            No               1.0   \n",
       "3              N1168J  Rockwell  ...            No               1.0   \n",
       "4               N15NY    Cessna  ...            No               NaN   \n",
       "\n",
       "     Engine.Type Purpose.of.flight Total.Fatal.Injuries  \\\n",
       "0  Reciprocating          Personal                  2.0   \n",
       "1  Reciprocating          Personal                  4.0   \n",
       "2  Reciprocating          Personal                  3.0   \n",
       "3  Reciprocating          Personal                  2.0   \n",
       "4            NaN          Personal                  1.0   \n",
       "\n",
       "   Total.Serious.Injuries  Total.Minor.Injuries  Total.Uninjured  \\\n",
       "0                     0.0                   0.0              0.0   \n",
       "1                     0.0                   0.0              0.0   \n",
       "2                     NaN                   NaN              NaN   \n",
       "3                     0.0                   0.0              0.0   \n",
       "4                     2.0                   NaN              0.0   \n",
       "\n",
       "   Weather.Condition   Report.Status  \n",
       "0                UNK  Probable Cause  \n",
       "1                UNK  Probable Cause  \n",
       "2                IMC  Probable Cause  \n",
       "3                IMC  Probable Cause  \n",
       "4                VMC  Probable Cause  \n",
       "\n",
       "[5 rows x 21 columns]"
      ]
     },
     "execution_count": 974,
     "metadata": {},
     "output_type": "execute_result"
    }
   ],
   "source": [
    "# checking the columns to confirm the columns selected have dropped\n",
    "\n",
    "df = df.drop(columns= columns_to_drop)\n",
    "\n",
    "df.head()\n",
    "\n"
   ]
  },
  {
   "cell_type": "markdown",
   "id": "d8c0a450",
   "metadata": {},
   "source": [
    "For numerical columns, the NaN values are kept because they could clearly mean that\n",
    " -Total fatal injuries-either were not recorded or or there was simply no fatal injuries. The same applies for the other columns. Therefore, by keeping the NaN values, it will help in diriving insights."
   ]
  },
  {
   "cell_type": "code",
   "execution_count": 975,
   "id": "0087cbbe",
   "metadata": {},
   "outputs": [],
   "source": [
    "#cols= ['Number.of.Engines',','Total.Serious.Injuries','Total.Fatal.Injuries','Total.Minor.Injuries','Total.Uninjured']\n",
    "\n",
    "cols= ['Number.of.Engines']\n",
    "#Getting the medians\n",
    "medians={col: df[col].median() for col in cols}\n",
    "\n",
    "#filling the numerical columns\n",
    "for col in cols:\n",
    "    df[col].fillna(medians[col],inplace=True)"
   ]
  },
  {
   "cell_type": "code",
   "execution_count": 976,
   "id": "e84f7750",
   "metadata": {},
   "outputs": [],
   "source": [
    "# replacing Nan values in numerical columns with 0\n",
    "cols= ['Total.Serious.Injuries','Total.Fatal.Injuries','Total.Minor.Injuries','Total.Uninjured']\n",
    "\n",
    "\n",
    "#filling the numerical columns with 0\n",
    "for col in cols:\n",
    "    df[col].fillna(0,inplace=True)"
   ]
  },
  {
   "cell_type": "code",
   "execution_count": 977,
   "id": "eaf568c4",
   "metadata": {},
   "outputs": [],
   "source": [
    "# converting columns with floats to integers\n",
    "\n",
    "df['Number.of.Engines'] = df['Number.of.Engines'].astype(int)\n",
    "df['Total.Fatal.Injuries'] = df['Total.Fatal.Injuries'].astype(int)\n",
    "df['Total.Serious.Injuries'] = df['Total.Serious.Injuries'].astype(int)\n",
    "df['Total.Minor.Injuries'] = df['Total.Minor.Injuries'].astype(int)\n",
    "df['Total.Uninjured'] = df['Total.Uninjured'].astype(int)\n",
    "\n",
    "# converting event date column to str to help in creating a new column with month and date\n",
    "#df['Event.Date'] = df['Event.Date'].astype(str)"
   ]
  },
  {
   "cell_type": "code",
   "execution_count": 978,
   "id": "066b351a",
   "metadata": {},
   "outputs": [],
   "source": [
    "#handling placeholders in categorical columns\n",
    "placeholders= ['Unk', 'UNK','LR','N/A','na','nan','-','','None','NONE']\n",
    "\n",
    "df = df.replace(placeholders,'Unknown')\n",
    "\n",
    "df = df.fillna('Unknown')\n"
   ]
  },
  {
   "cell_type": "code",
   "execution_count": 979,
   "id": "bf716e80",
   "metadata": {},
   "outputs": [],
   "source": [
    "# Filling the categorical data with Unknown since we dont want to fill them with mode.\n",
    "\n",
    "cols_to_fill= ['Registration.Number','Engine.Type','Location','Injury.Severity','Aircraft.damage','Aircraft.damage','Weather.Condition','Report.Status','Purpose.of.flight']\n",
    "\n",
    "df[cols_to_fill] = df[cols_to_fill].fillna('Unknown')\n",
    "\n"
   ]
  },
  {
   "cell_type": "code",
   "execution_count": 980,
   "id": "b229493a",
   "metadata": {},
   "outputs": [],
   "source": [
    "#dropping rows with missing values\n",
    "df= df.dropna(subset=['Event.Id','Accident.Number','Event.Date','Make','Model','Country','Amateur.Built','Event.Date'])\n"
   ]
  },
  {
   "cell_type": "code",
   "execution_count": 981,
   "id": "b9e6ae62",
   "metadata": {},
   "outputs": [
    {
     "data": {
      "text/plain": [
       "Event.Id                  0\n",
       "Investigation.Type        0\n",
       "Accident.Number           0\n",
       "Event.Date                0\n",
       "Location                  0\n",
       "Country                   0\n",
       "Injury.Severity           0\n",
       "Aircraft.damage           0\n",
       "Registration.Number       0\n",
       "Make                      0\n",
       "Model                     0\n",
       "Amateur.Built             0\n",
       "Number.of.Engines         0\n",
       "Engine.Type               0\n",
       "Purpose.of.flight         0\n",
       "Total.Fatal.Injuries      0\n",
       "Total.Serious.Injuries    0\n",
       "Total.Minor.Injuries      0\n",
       "Total.Uninjured           0\n",
       "Weather.Condition         0\n",
       "Report.Status             0\n",
       "dtype: int64"
      ]
     },
     "execution_count": 981,
     "metadata": {},
     "output_type": "execute_result"
    }
   ],
   "source": [
    "# Confirming if all missing values have been handled\n",
    "null_dataset= df.isna().sum()\n",
    "null_dataset"
   ]
  },
  {
   "cell_type": "code",
   "execution_count": 982,
   "id": "0a5b85d3",
   "metadata": {},
   "outputs": [
    {
     "name": "stdout",
     "output_type": "stream",
     "text": [
      "Dataset shape: (88958, 21)\n"
     ]
    },
    {
     "data": {
      "text/html": [
       "<div>\n",
       "<style scoped>\n",
       "    .dataframe tbody tr th:only-of-type {\n",
       "        vertical-align: middle;\n",
       "    }\n",
       "\n",
       "    .dataframe tbody tr th {\n",
       "        vertical-align: top;\n",
       "    }\n",
       "\n",
       "    .dataframe thead th {\n",
       "        text-align: right;\n",
       "    }\n",
       "</style>\n",
       "<table border=\"1\" class=\"dataframe\">\n",
       "  <thead>\n",
       "    <tr style=\"text-align: right;\">\n",
       "      <th></th>\n",
       "      <th>Event.Id</th>\n",
       "      <th>Investigation.Type</th>\n",
       "      <th>Accident.Number</th>\n",
       "      <th>Event.Date</th>\n",
       "      <th>Location</th>\n",
       "      <th>Country</th>\n",
       "      <th>Injury.Severity</th>\n",
       "      <th>Aircraft.damage</th>\n",
       "      <th>Registration.Number</th>\n",
       "      <th>Make</th>\n",
       "      <th>...</th>\n",
       "      <th>Amateur.Built</th>\n",
       "      <th>Number.of.Engines</th>\n",
       "      <th>Engine.Type</th>\n",
       "      <th>Purpose.of.flight</th>\n",
       "      <th>Total.Fatal.Injuries</th>\n",
       "      <th>Total.Serious.Injuries</th>\n",
       "      <th>Total.Minor.Injuries</th>\n",
       "      <th>Total.Uninjured</th>\n",
       "      <th>Weather.Condition</th>\n",
       "      <th>Report.Status</th>\n",
       "    </tr>\n",
       "  </thead>\n",
       "  <tbody>\n",
       "    <tr>\n",
       "      <th>0</th>\n",
       "      <td>20001218X45444</td>\n",
       "      <td>Accident</td>\n",
       "      <td>SEA87LA080</td>\n",
       "      <td>1948-10-24</td>\n",
       "      <td>MOOSE CREEK, ID</td>\n",
       "      <td>United States</td>\n",
       "      <td>Fatal(2)</td>\n",
       "      <td>Destroyed</td>\n",
       "      <td>NC6404</td>\n",
       "      <td>Stinson</td>\n",
       "      <td>...</td>\n",
       "      <td>No</td>\n",
       "      <td>1</td>\n",
       "      <td>Reciprocating</td>\n",
       "      <td>Personal</td>\n",
       "      <td>2</td>\n",
       "      <td>0</td>\n",
       "      <td>0</td>\n",
       "      <td>0</td>\n",
       "      <td>Unknown</td>\n",
       "      <td>Probable Cause</td>\n",
       "    </tr>\n",
       "    <tr>\n",
       "      <th>1</th>\n",
       "      <td>20001218X45447</td>\n",
       "      <td>Accident</td>\n",
       "      <td>LAX94LA336</td>\n",
       "      <td>1962-07-19</td>\n",
       "      <td>BRIDGEPORT, CA</td>\n",
       "      <td>United States</td>\n",
       "      <td>Fatal(4)</td>\n",
       "      <td>Destroyed</td>\n",
       "      <td>N5069P</td>\n",
       "      <td>Piper</td>\n",
       "      <td>...</td>\n",
       "      <td>No</td>\n",
       "      <td>1</td>\n",
       "      <td>Reciprocating</td>\n",
       "      <td>Personal</td>\n",
       "      <td>4</td>\n",
       "      <td>0</td>\n",
       "      <td>0</td>\n",
       "      <td>0</td>\n",
       "      <td>Unknown</td>\n",
       "      <td>Probable Cause</td>\n",
       "    </tr>\n",
       "    <tr>\n",
       "      <th>2</th>\n",
       "      <td>20061025X01555</td>\n",
       "      <td>Accident</td>\n",
       "      <td>NYC07LA005</td>\n",
       "      <td>1974-08-30</td>\n",
       "      <td>Saltville, VA</td>\n",
       "      <td>United States</td>\n",
       "      <td>Fatal(3)</td>\n",
       "      <td>Destroyed</td>\n",
       "      <td>N5142R</td>\n",
       "      <td>Cessna</td>\n",
       "      <td>...</td>\n",
       "      <td>No</td>\n",
       "      <td>1</td>\n",
       "      <td>Reciprocating</td>\n",
       "      <td>Personal</td>\n",
       "      <td>3</td>\n",
       "      <td>0</td>\n",
       "      <td>0</td>\n",
       "      <td>0</td>\n",
       "      <td>IMC</td>\n",
       "      <td>Probable Cause</td>\n",
       "    </tr>\n",
       "    <tr>\n",
       "      <th>3</th>\n",
       "      <td>20001218X45448</td>\n",
       "      <td>Accident</td>\n",
       "      <td>LAX96LA321</td>\n",
       "      <td>1977-06-19</td>\n",
       "      <td>EUREKA, CA</td>\n",
       "      <td>United States</td>\n",
       "      <td>Fatal(2)</td>\n",
       "      <td>Destroyed</td>\n",
       "      <td>N1168J</td>\n",
       "      <td>Rockwell</td>\n",
       "      <td>...</td>\n",
       "      <td>No</td>\n",
       "      <td>1</td>\n",
       "      <td>Reciprocating</td>\n",
       "      <td>Personal</td>\n",
       "      <td>2</td>\n",
       "      <td>0</td>\n",
       "      <td>0</td>\n",
       "      <td>0</td>\n",
       "      <td>IMC</td>\n",
       "      <td>Probable Cause</td>\n",
       "    </tr>\n",
       "    <tr>\n",
       "      <th>4</th>\n",
       "      <td>20041105X01764</td>\n",
       "      <td>Accident</td>\n",
       "      <td>CHI79FA064</td>\n",
       "      <td>1979-08-02</td>\n",
       "      <td>Canton, OH</td>\n",
       "      <td>United States</td>\n",
       "      <td>Fatal(1)</td>\n",
       "      <td>Destroyed</td>\n",
       "      <td>N15NY</td>\n",
       "      <td>Cessna</td>\n",
       "      <td>...</td>\n",
       "      <td>No</td>\n",
       "      <td>1</td>\n",
       "      <td>Unknown</td>\n",
       "      <td>Personal</td>\n",
       "      <td>1</td>\n",
       "      <td>2</td>\n",
       "      <td>0</td>\n",
       "      <td>0</td>\n",
       "      <td>VMC</td>\n",
       "      <td>Probable Cause</td>\n",
       "    </tr>\n",
       "  </tbody>\n",
       "</table>\n",
       "<p>5 rows × 21 columns</p>\n",
       "</div>"
      ],
      "text/plain": [
       "         Event.Id Investigation.Type Accident.Number  Event.Date  \\\n",
       "0  20001218X45444           Accident      SEA87LA080  1948-10-24   \n",
       "1  20001218X45447           Accident      LAX94LA336  1962-07-19   \n",
       "2  20061025X01555           Accident      NYC07LA005  1974-08-30   \n",
       "3  20001218X45448           Accident      LAX96LA321  1977-06-19   \n",
       "4  20041105X01764           Accident      CHI79FA064  1979-08-02   \n",
       "\n",
       "          Location        Country Injury.Severity Aircraft.damage  \\\n",
       "0  MOOSE CREEK, ID  United States        Fatal(2)       Destroyed   \n",
       "1   BRIDGEPORT, CA  United States        Fatal(4)       Destroyed   \n",
       "2    Saltville, VA  United States        Fatal(3)       Destroyed   \n",
       "3       EUREKA, CA  United States        Fatal(2)       Destroyed   \n",
       "4       Canton, OH  United States        Fatal(1)       Destroyed   \n",
       "\n",
       "  Registration.Number      Make  ... Amateur.Built Number.of.Engines  \\\n",
       "0              NC6404   Stinson  ...            No                 1   \n",
       "1              N5069P     Piper  ...            No                 1   \n",
       "2              N5142R    Cessna  ...            No                 1   \n",
       "3              N1168J  Rockwell  ...            No                 1   \n",
       "4               N15NY    Cessna  ...            No                 1   \n",
       "\n",
       "     Engine.Type Purpose.of.flight Total.Fatal.Injuries  \\\n",
       "0  Reciprocating          Personal                    2   \n",
       "1  Reciprocating          Personal                    4   \n",
       "2  Reciprocating          Personal                    3   \n",
       "3  Reciprocating          Personal                    2   \n",
       "4        Unknown          Personal                    1   \n",
       "\n",
       "   Total.Serious.Injuries  Total.Minor.Injuries  Total.Uninjured  \\\n",
       "0                       0                     0                0   \n",
       "1                       0                     0                0   \n",
       "2                       0                     0                0   \n",
       "3                       0                     0                0   \n",
       "4                       2                     0                0   \n",
       "\n",
       "   Weather.Condition   Report.Status  \n",
       "0            Unknown  Probable Cause  \n",
       "1            Unknown  Probable Cause  \n",
       "2                IMC  Probable Cause  \n",
       "3                IMC  Probable Cause  \n",
       "4                VMC  Probable Cause  \n",
       "\n",
       "[5 rows x 21 columns]"
      ]
     },
     "execution_count": 982,
     "metadata": {},
     "output_type": "execute_result"
    }
   ],
   "source": [
    "# Display basic information\n",
    "print(\"Dataset shape:\", df.shape)\n",
    "df.head()"
   ]
  },
  {
   "cell_type": "code",
   "execution_count": 983,
   "id": "6f2c7df9",
   "metadata": {},
   "outputs": [
    {
     "name": "stdout",
     "output_type": "stream",
     "text": [
      "<class 'pandas.core.frame.DataFrame'>\n",
      "Int64Index: 88958 entries, 0 to 90347\n",
      "Data columns (total 21 columns):\n",
      " #   Column                  Non-Null Count  Dtype \n",
      "---  ------                  --------------  ----- \n",
      " 0   Event.Id                88958 non-null  object\n",
      " 1   Investigation.Type      88958 non-null  object\n",
      " 2   Accident.Number         88958 non-null  object\n",
      " 3   Event.Date              88958 non-null  object\n",
      " 4   Location                88958 non-null  object\n",
      " 5   Country                 88958 non-null  object\n",
      " 6   Injury.Severity         88958 non-null  object\n",
      " 7   Aircraft.damage         88958 non-null  object\n",
      " 8   Registration.Number     88958 non-null  object\n",
      " 9   Make                    88958 non-null  object\n",
      " 10  Model                   88958 non-null  object\n",
      " 11  Amateur.Built           88958 non-null  object\n",
      " 12  Number.of.Engines       88958 non-null  int32 \n",
      " 13  Engine.Type             88958 non-null  object\n",
      " 14  Purpose.of.flight       88958 non-null  object\n",
      " 15  Total.Fatal.Injuries    88958 non-null  int32 \n",
      " 16  Total.Serious.Injuries  88958 non-null  int32 \n",
      " 17  Total.Minor.Injuries    88958 non-null  int32 \n",
      " 18  Total.Uninjured         88958 non-null  int32 \n",
      " 19  Weather.Condition       88958 non-null  object\n",
      " 20  Report.Status           88958 non-null  object\n",
      "dtypes: int32(5), object(16)\n",
      "memory usage: 13.2+ MB\n"
     ]
    }
   ],
   "source": [
    "df.info() # From the data, we are now remaining with 88958 rows and 21 columns"
   ]
  },
  {
   "cell_type": "code",
   "execution_count": 984,
   "id": "a9a466e6",
   "metadata": {},
   "outputs": [
    {
     "data": {
      "text/plain": [
       "(88958, 21)"
      ]
     },
     "execution_count": 984,
     "metadata": {},
     "output_type": "execute_result"
    }
   ],
   "source": [
    "df.shape #From the data, we are now remaining with 88958 rows and 21 columns"
   ]
  },
  {
   "cell_type": "markdown",
   "id": "191ce17c",
   "metadata": {},
   "source": [
    "#### Mapping columns\n",
    "- Mapping columns will help to replace, transform, or standardize values in a DataFrame column as well as engineer new feautures."
   ]
  },
  {
   "cell_type": "code",
   "execution_count": 985,
   "id": "8c748078",
   "metadata": {},
   "outputs": [
    {
     "data": {
      "text/plain": [
       "array(['Personal', 'Unknown', 'Business', 'Instructional', 'Ferry',\n",
       "       'Executive/corporate', 'Aerial Observation', 'Aerial Application',\n",
       "       'Public Aircraft', 'Skydiving', 'Other Work Use', 'Positioning',\n",
       "       'Flight Test', 'Air Race/show', 'Air Drop',\n",
       "       'Public Aircraft - Federal', 'Glider Tow',\n",
       "       'Public Aircraft - Local', 'External Load',\n",
       "       'Public Aircraft - State', 'Banner Tow', 'Firefighting',\n",
       "       'Air Race show', 'PUBS', 'ASHO', 'PUBL'], dtype=object)"
      ]
     },
     "execution_count": 985,
     "metadata": {},
     "output_type": "execute_result"
    }
   ],
   "source": [
    "df['Purpose.of.flight'].unique()"
   ]
  },
  {
   "cell_type": "code",
   "execution_count": 986,
   "id": "e8e60d91",
   "metadata": {},
   "outputs": [],
   "source": [
    "# cheanging the column datatype to string\n",
    "df['Purpose.of.flight'] = df['Purpose.of.flight'].astype(str)"
   ]
  },
  {
   "cell_type": "code",
   "execution_count": 987,
   "id": "ce1609b0",
   "metadata": {},
   "outputs": [],
   "source": [
    "# mapping of Purpose.of.flight column\n",
    "\n",
    "def purpose_mapper(purpose):\n",
    "    if purpose in ['Personal','Instructional','Glider Tow','Executive/corporate','Skydiving']:\n",
    "         return 'Private'\n",
    "    elif purpose in ['Business','Ferry','Aerial Observation','Aerial Application','Public Aircraft','Other Work Use','Positioning','Flight Test','Air Race/show',\n",
    "                   'Air Drop','Public Aircraft - Federal','Glider Tow','Public Aircraft - Local','External Load','Public Aircraft - State', 'Banner Tow',\n",
    "                   'Firefighting','Air Race show','PUBS','ASHO','PUBL']:\n",
    "        return 'Commercial'\n",
    "    else:\n",
    "        return 'Unknown'\n"
   ]
  },
  {
   "cell_type": "code",
   "execution_count": 988,
   "id": "63432e8e",
   "metadata": {},
   "outputs": [],
   "source": [
    "df['Flight.Category'] = df['Purpose.of.flight'].map(purpose_mapper)\n"
   ]
  },
  {
   "cell_type": "code",
   "execution_count": 989,
   "id": "c85dbbba",
   "metadata": {},
   "outputs": [
    {
     "data": {
      "text/plain": [
       "array(['Private', 'Unknown', 'Commercial'], dtype=object)"
      ]
     },
     "execution_count": 989,
     "metadata": {},
     "output_type": "execute_result"
    }
   ],
   "source": [
    "df['Flight.Category'].unique() #to know the uniqur values in flight column"
   ]
  },
  {
   "cell_type": "code",
   "execution_count": 990,
   "id": "11e6d64c",
   "metadata": {},
   "outputs": [
    {
     "name": "stdout",
     "output_type": "stream",
     "text": [
      "             Event.Id Investigation.Type Accident.Number Event.Date  \\\n",
      "0      20001218X45444           Accident      SEA87LA080 1948-10-24   \n",
      "1      20001218X45447           Accident      LAX94LA336 1962-07-19   \n",
      "2      20061025X01555           Accident      NYC07LA005 1974-08-30   \n",
      "3      20001218X45448           Accident      LAX96LA321 1977-06-19   \n",
      "4      20041105X01764           Accident      CHI79FA064 1979-08-02   \n",
      "...               ...                ...             ...        ...   \n",
      "90343  20221227106491           Accident      ERA23LA093 2022-12-26   \n",
      "90344  20221227106494           Accident      ERA23LA095 2022-12-26   \n",
      "90345  20221227106497           Accident      WPR23LA075 2022-12-26   \n",
      "90346  20221227106498           Accident      WPR23LA076 2022-12-26   \n",
      "90347  20221230106513           Accident      ERA23LA097 2022-12-29   \n",
      "\n",
      "              Location        Country Injury.Severity Aircraft.damage  \\\n",
      "0      MOOSE CREEK, ID  United States        Fatal(2)       Destroyed   \n",
      "1       BRIDGEPORT, CA  United States        Fatal(4)       Destroyed   \n",
      "2        Saltville, VA  United States        Fatal(3)       Destroyed   \n",
      "3           EUREKA, CA  United States        Fatal(2)       Destroyed   \n",
      "4           Canton, OH  United States        Fatal(1)       Destroyed   \n",
      "...                ...            ...             ...             ...   \n",
      "90343    Annapolis, MD  United States           Minor         Unknown   \n",
      "90344      Hampton, NH  United States         Unknown         Unknown   \n",
      "90345       Payson, AZ  United States       Non-Fatal     Substantial   \n",
      "90346       Morgan, UT  United States         Unknown         Unknown   \n",
      "90347       Athens, GA  United States           Minor         Unknown   \n",
      "\n",
      "      Registration.Number                        Make  ...    Engine.Type  \\\n",
      "0                  NC6404                     Stinson  ...  Reciprocating   \n",
      "1                  N5069P                       Piper  ...  Reciprocating   \n",
      "2                  N5142R                      Cessna  ...  Reciprocating   \n",
      "3                  N1168J                    Rockwell  ...  Reciprocating   \n",
      "4                   N15NY                      Cessna  ...        Unknown   \n",
      "...                   ...                         ...  ...            ...   \n",
      "90343              N1867H                       PIPER  ...        Unknown   \n",
      "90344              N2895Z                    BELLANCA  ...        Unknown   \n",
      "90345              N749PJ  AMERICAN CHAMPION AIRCRAFT  ...        Unknown   \n",
      "90346              N210CU                      CESSNA  ...        Unknown   \n",
      "90347              N9026P                       PIPER  ...        Unknown   \n",
      "\n",
      "      Purpose.of.flight  Total.Fatal.Injuries Total.Serious.Injuries  \\\n",
      "0              Personal                     2                      0   \n",
      "1              Personal                     4                      0   \n",
      "2              Personal                     3                      0   \n",
      "3              Personal                     2                      0   \n",
      "4              Personal                     1                      2   \n",
      "...                 ...                   ...                    ...   \n",
      "90343          Personal                     0                      1   \n",
      "90344           Unknown                     0                      0   \n",
      "90345          Personal                     0                      0   \n",
      "90346          Personal                     0                      0   \n",
      "90347          Personal                     0                      1   \n",
      "\n",
      "      Total.Minor.Injuries  Total.Uninjured  Weather.Condition  \\\n",
      "0                        0                0            Unknown   \n",
      "1                        0                0            Unknown   \n",
      "2                        0                0                IMC   \n",
      "3                        0                0                IMC   \n",
      "4                        0                0                VMC   \n",
      "...                    ...              ...                ...   \n",
      "90343                    0                0            Unknown   \n",
      "90344                    0                0            Unknown   \n",
      "90345                    0                1                VMC   \n",
      "90346                    0                0            Unknown   \n",
      "90347                    0                1            Unknown   \n",
      "\n",
      "        Report.Status  Flight.Category  Year  \n",
      "0      Probable Cause          Private  1948  \n",
      "1      Probable Cause          Private  1962  \n",
      "2      Probable Cause          Private  1974  \n",
      "3      Probable Cause          Private  1977  \n",
      "4      Probable Cause          Private  1979  \n",
      "...               ...              ...   ...  \n",
      "90343         Unknown          Private  2022  \n",
      "90344         Unknown          Unknown  2022  \n",
      "90345         Unknown          Private  2022  \n",
      "90346         Unknown          Private  2022  \n",
      "90347         Unknown          Private  2022  \n",
      "\n",
      "[88889 rows x 23 columns]\n"
     ]
    }
   ],
   "source": [
    "df['Event.Date']= pd.to_datetime(df['Event.Date'],errors='coerce')\n",
    "\n",
    "df =df.dropna(subset=['Event.Date'])\n",
    "\n",
    "df['Year'] = df['Event.Date'].dt.year\n",
    "print(df)"
   ]
  },
  {
   "cell_type": "code",
   "execution_count": 991,
   "id": "16725116",
   "metadata": {},
   "outputs": [
    {
     "data": {
      "text/plain": [
       "0    1948\n",
       "1    1962\n",
       "2    1974\n",
       "3    1977\n",
       "4    1979\n",
       "Name: Year, dtype: int64"
      ]
     },
     "execution_count": 991,
     "metadata": {},
     "output_type": "execute_result"
    }
   ],
   "source": [
    "year_created = df['Year']\n",
    "\n",
    "year_created.head()"
   ]
  },
  {
   "cell_type": "markdown",
   "id": "560ab780",
   "metadata": {},
   "source": [
    "## Summary Statistics\n",
    "Summary statistics will help us describe complex datasets and condencing them in key features like central tendencies and  and disperion."
   ]
  },
  {
   "cell_type": "code",
   "execution_count": 992,
   "id": "cdebcd4d",
   "metadata": {},
   "outputs": [
    {
     "data": {
      "text/html": [
       "<div>\n",
       "<style scoped>\n",
       "    .dataframe tbody tr th:only-of-type {\n",
       "        vertical-align: middle;\n",
       "    }\n",
       "\n",
       "    .dataframe tbody tr th {\n",
       "        vertical-align: top;\n",
       "    }\n",
       "\n",
       "    .dataframe thead th {\n",
       "        text-align: right;\n",
       "    }\n",
       "</style>\n",
       "<table border=\"1\" class=\"dataframe\">\n",
       "  <thead>\n",
       "    <tr style=\"text-align: right;\">\n",
       "      <th></th>\n",
       "      <th>Number.of.Engines</th>\n",
       "      <th>Total.Fatal.Injuries</th>\n",
       "      <th>Total.Serious.Injuries</th>\n",
       "      <th>Total.Minor.Injuries</th>\n",
       "      <th>Total.Uninjured</th>\n",
       "      <th>Year</th>\n",
       "    </tr>\n",
       "  </thead>\n",
       "  <tbody>\n",
       "    <tr>\n",
       "      <th>count</th>\n",
       "      <td>88889.000000</td>\n",
       "      <td>88889.000000</td>\n",
       "      <td>88889.000000</td>\n",
       "      <td>88889.000000</td>\n",
       "      <td>88889.000000</td>\n",
       "      <td>88889.000000</td>\n",
       "    </tr>\n",
       "    <tr>\n",
       "      <th>mean</th>\n",
       "      <td>1.136552</td>\n",
       "      <td>0.564761</td>\n",
       "      <td>0.240491</td>\n",
       "      <td>0.309127</td>\n",
       "      <td>4.971245</td>\n",
       "      <td>1999.206662</td>\n",
       "    </tr>\n",
       "    <tr>\n",
       "      <th>std</th>\n",
       "      <td>0.432545</td>\n",
       "      <td>5.126649</td>\n",
       "      <td>1.434614</td>\n",
       "      <td>2.083715</td>\n",
       "      <td>27.002011</td>\n",
       "      <td>11.888226</td>\n",
       "    </tr>\n",
       "    <tr>\n",
       "      <th>min</th>\n",
       "      <td>0.000000</td>\n",
       "      <td>0.000000</td>\n",
       "      <td>0.000000</td>\n",
       "      <td>0.000000</td>\n",
       "      <td>0.000000</td>\n",
       "      <td>1948.000000</td>\n",
       "    </tr>\n",
       "    <tr>\n",
       "      <th>25%</th>\n",
       "      <td>1.000000</td>\n",
       "      <td>0.000000</td>\n",
       "      <td>0.000000</td>\n",
       "      <td>0.000000</td>\n",
       "      <td>0.000000</td>\n",
       "      <td>1989.000000</td>\n",
       "    </tr>\n",
       "    <tr>\n",
       "      <th>50%</th>\n",
       "      <td>1.000000</td>\n",
       "      <td>0.000000</td>\n",
       "      <td>0.000000</td>\n",
       "      <td>0.000000</td>\n",
       "      <td>1.000000</td>\n",
       "      <td>1998.000000</td>\n",
       "    </tr>\n",
       "    <tr>\n",
       "      <th>75%</th>\n",
       "      <td>1.000000</td>\n",
       "      <td>0.000000</td>\n",
       "      <td>0.000000</td>\n",
       "      <td>0.000000</td>\n",
       "      <td>2.000000</td>\n",
       "      <td>2009.000000</td>\n",
       "    </tr>\n",
       "    <tr>\n",
       "      <th>max</th>\n",
       "      <td>8.000000</td>\n",
       "      <td>349.000000</td>\n",
       "      <td>161.000000</td>\n",
       "      <td>380.000000</td>\n",
       "      <td>699.000000</td>\n",
       "      <td>2022.000000</td>\n",
       "    </tr>\n",
       "  </tbody>\n",
       "</table>\n",
       "</div>"
      ],
      "text/plain": [
       "       Number.of.Engines  Total.Fatal.Injuries  Total.Serious.Injuries  \\\n",
       "count       88889.000000          88889.000000            88889.000000   \n",
       "mean            1.136552              0.564761                0.240491   \n",
       "std             0.432545              5.126649                1.434614   \n",
       "min             0.000000              0.000000                0.000000   \n",
       "25%             1.000000              0.000000                0.000000   \n",
       "50%             1.000000              0.000000                0.000000   \n",
       "75%             1.000000              0.000000                0.000000   \n",
       "max             8.000000            349.000000              161.000000   \n",
       "\n",
       "       Total.Minor.Injuries  Total.Uninjured          Year  \n",
       "count          88889.000000     88889.000000  88889.000000  \n",
       "mean               0.309127         4.971245   1999.206662  \n",
       "std                2.083715        27.002011     11.888226  \n",
       "min                0.000000         0.000000   1948.000000  \n",
       "25%                0.000000         0.000000   1989.000000  \n",
       "50%                0.000000         1.000000   1998.000000  \n",
       "75%                0.000000         2.000000   2009.000000  \n",
       "max              380.000000       699.000000   2022.000000  "
      ]
     },
     "execution_count": 992,
     "metadata": {},
     "output_type": "execute_result"
    }
   ],
   "source": [
    "df.describe()"
   ]
  },
  {
   "cell_type": "markdown",
   "id": "428c19cc",
   "metadata": {},
   "source": [
    "## Data Analysis & Visualization\n",
    "The objective for this section is to calculate risk metrics and produce clear recommendationst to support business recommendation for our client.\n",
    "\n",
    "We will be able to create multiple views on:\n",
    "1. Trends of accident over the years\n",
    "2. Fatality and Injuries from flight category\n",
    "3. To analyze the relationship between aircraft make and model with injuries.\n",
    "4. Aircraft damage in relation to engine type and no of engines."
   ]
  },
  {
   "cell_type": "markdown",
   "id": "5dcf67fc",
   "metadata": {},
   "source": [
    "\n",
    "Trend of accidents over the years"
   ]
  },
  {
   "cell_type": "code",
   "execution_count": 993,
   "id": "233181eb",
   "metadata": {},
   "outputs": [
    {
     "data": {
      "image/png": "[encoded data removed]",
      "text/plain": [
       "<Figure size 720x432 with 1 Axes>"
      ]
     },
     "metadata": {
      "needs_background": "light"
     },
     "output_type": "display_data"
    }
   ],
   "source": [
    "accidents_per_year = df.groupby('Year')['Total.Fatal.Injuries'].sum().reset_index()\n",
    "\n",
    "# plotting the graph\n",
    "plt.figure(figsize=(10,6))\n",
    "plt.plot(accidents_per_year['Year'],accidents_per_year['Total.Fatal.Injuries'],marker='o')\n",
    "plt.title('Total Fatal Injuries over the years', fontsize=14, fontweight='bold')\n",
    "plt.xlabel('Year')\n",
    "plt.ylabel('Number of Injuries')\n",
    "plt.grid(True)\n",
    "plt.show()"
   ]
  },
  {
   "cell_type": "markdown",
   "id": "a99a6c39",
   "metadata": {},
   "source": [
    "From the graph, accidents were very few from 1950 and 1980, the accidents then spiked afterwards and it had been drastically been reducing ver the years from 2000 to date"
   ]
  },
  {
   "cell_type": "markdown",
   "id": "e199b678",
   "metadata": {},
   "source": [
    "### Objective 1:\n",
    "-To determine the relationship between flight category (private,commercial) and the extent of injuries."
   ]
  },
  {
   "cell_type": "code",
   "execution_count": 994,
   "id": "2c03dbd7",
   "metadata": {},
   "outputs": [
    {
     "name": "stdout",
     "output_type": "stream",
     "text": [
      "                 Total.Fatal.Injuries  Total.Serious.Injuries  \\\n",
      "Flight.Category                                                 \n",
      "Commercial                       5616                    3046   \n",
      "Private                         21523                   12387   \n",
      "Unknown                         23062                    5944   \n",
      "\n",
      "                 Total.Minor.Injuries  \n",
      "Flight.Category                        \n",
      "Commercial                       3776  \n",
      "Private                         15277  \n",
      "Unknown                          8425  \n"
     ]
    }
   ],
   "source": [
    "# injuries by Flight category\n",
    "flight_summary= df.groupby('Flight.Category')[['Total.Fatal.Injuries',\n",
    "                                              'Total.Serious.Injuries',\n",
    "                                              'Total.Minor.Injuries']].sum()\n",
    "                                              \n",
    "print(flight_summary)                                        "
   ]
  },
  {
   "cell_type": "code",
   "execution_count": 995,
   "id": "7affd840",
   "metadata": {},
   "outputs": [
    {
     "data": {
      "image/png": "[encoded data removed]",
      "text/plain": [
       "<Figure size 720x432 with 1 Axes>"
      ]
     },
     "metadata": {
      "needs_background": "light"
     },
     "output_type": "display_data"
    }
   ],
   "source": [
    "data = {\n",
    "    'Total.Fatal.Injuries': [5616, 21523, 23062],\n",
    "    'Total.Serious.Injuries': [3046, 12387, 5944],\n",
    "    'Total.Minor.Injuries': [3776, 15277, 8425]\n",
    "}\n",
    "index = ['Commercial', 'Private', 'Unknown']\n",
    "flight_injuries = pd.DataFrame(data, index=index)\n",
    "\n",
    "# Plot\n",
    "flight_injuries.plot(kind='bar', figsize=(10,6))\n",
    "plt.title('Injury Distribution by Flight Category', fontsize=14, fontweight='bold')\n",
    "plt.xlabel('Flight Category')\n",
    "plt.ylabel('Number of Injuries')\n",
    "plt.xticks(rotation=0)\n",
    "plt.legend(title='Injury Type')\n",
    "plt.grid(axis='y', linestyle='--', alpha=0.7)\n",
    "plt.tight_layout()\n",
    "plt.show()"
   ]
  },
  {
   "cell_type": "markdown",
   "id": "13c27776",
   "metadata": {},
   "source": [
    "#### Conclusion-Flight category\n",
    "\n",
    "- From the analysis, it's clear that private planes have a high injury count as compared to the commercial planes.  \n",
    "\n",
    "- Additionally, private planes reported the highest numbers of injuries overally with 21,523 fatalities, 12,387 serious injuries and 15,277 minor injuries. This could means,private plates experinece significant more fatalities and injuries maybe due to their size, less rigorous maintenance and maybe inexperienced pilots.\n",
    "\n",
    "- Unknown category-23,062 fatal injuries. Since the data has alot of unclassifies and unreported flights, there might be incomplere data to conclusively interptrate this.\n",
    "\n",
    "- Commercial categories\n",
    "From the analysis, they have reported the lowest number of injuries with 5,616 fatalities,3,036 serious injries and 3,776 minor injuries.\n",
    "Commercial flights have the best safety records due to stict safety regulations, experienced crews and advanced aircraft technologies.\n",
    "\n",
    "- Therefore based on this, private aircrafts show most injuies across all categories, making them a riskkier for business operations. Comercial aircrafts remain the safest option wuth lowest fatalities and injuries. It will be prudent to advise the client to base his enterprise more on commercial planes than private planes. Commercial planes are the better safer option and also reliable."
   ]
  },
  {
   "cell_type": "markdown",
   "id": "d46945b0",
   "metadata": {},
   "source": [
    "### Objective 2\n",
    "-To analyze the relationship between aircraft make and model with injuries."
   ]
  },
  {
   "cell_type": "code",
   "execution_count": 996,
   "id": "39e1381b",
   "metadata": {},
   "outputs": [
    {
     "data": {
      "text/plain": [
       "array(['Stinson', 'Piper', 'Cessna', ..., 'JAMES R DERNOVSEK',\n",
       "       'ORLICAN S R O', 'ROYSE RALPH L'], dtype=object)"
      ]
     },
     "execution_count": 996,
     "metadata": {},
     "output_type": "execute_result"
    }
   ],
   "source": [
    "# make and model vs fatality\n",
    "# Finding unique values in mak column\n",
    "df['Make'].unique()"
   ]
  },
  {
   "cell_type": "code",
   "execution_count": 997,
   "id": "3885da2b",
   "metadata": {},
   "outputs": [
    {
     "data": {
      "text/plain": [
       "Cessna                  22227\n",
       "Piper                   12029\n",
       "CESSNA                   4922\n",
       "Beech                    4330\n",
       "PIPER                    2841\n",
       "                        ...  \n",
       "Alvin R. Kemmet             1\n",
       "COMMONWEALTH                1\n",
       "Bourgeois-avid Flyer        1\n",
       "Mosley High School          1\n",
       "Schicora                    1\n",
       "Name: Make, Length: 8237, dtype: int64"
      ]
     },
     "execution_count": 997,
     "metadata": {},
     "output_type": "execute_result"
    }
   ],
   "source": [
    "df['Make'].value_counts()"
   ]
  },
  {
   "cell_type": "code",
   "execution_count": 998,
   "id": "baf54bb1",
   "metadata": {},
   "outputs": [],
   "source": [
    "# converting the Make column to be all lower case\n",
    "\n",
    "df['Make'] = df['Make'].str.lower()"
   ]
  },
  {
   "cell_type": "code",
   "execution_count": 999,
   "id": "5cd6b4d5",
   "metadata": {},
   "outputs": [
    {
     "name": "stdout",
     "output_type": "stream",
     "text": [
      "                Make  Total.Fatal.Injuries  Total.Serious.Injuries  \\\n",
      "0             cessna                  9641                    4894   \n",
      "1             boeing                  8748                    2157   \n",
      "2              piper                  6689                    3059   \n",
      "3              beech                  3784                    1095   \n",
      "4               bell                  1332                     878   \n",
      "5             airbus                  1325                     192   \n",
      "6  mcdonnell douglas                  1286                     556   \n",
      "7   airbus industrie                  1174                     138   \n",
      "8            douglas                   984                     105   \n",
      "9             mooney                   685                     248   \n",
      "\n",
      "   Total.Minor.Injuries  \n",
      "0                  6876  \n",
      "1                  2761  \n",
      "2                  3757  \n",
      "3                  1341  \n",
      "4                  1122  \n",
      "5                   106  \n",
      "6                  1505  \n",
      "7                   399  \n",
      "8                   247  \n",
      "9                   391  \n"
     ]
    }
   ],
   "source": [
    "# injuries by Flight category\n",
    "make_summary_injuries= (df.groupby('Make')[['Total.Fatal.Injuries',\n",
    "                                              'Total.Serious.Injuries',\n",
    "                                              'Total.Minor.Injuries']]\n",
    "                         .sum()\n",
    "                         .sort_values(by='Total.Fatal.Injuries',ascending=False)\n",
    "                         .head(10)\n",
    "                         .reset_index()\n",
    ")\n",
    "\n",
    "\n",
    "print(make_summary_injuries)"
   ]
  },
  {
   "cell_type": "code",
   "execution_count": 1000,
   "id": "42e3ac89",
   "metadata": {},
   "outputs": [
    {
     "data": {
      "image/png": "[encoded data removed]",
      "text/plain": [
       "<Figure size 720x432 with 1 Axes>"
      ]
     },
     "metadata": {
      "needs_background": "light"
     },
     "output_type": "display_data"
    }
   ],
   "source": [
    "# GRAPH VISUALIZATION\n",
    "\n",
    "import matplotlib.pyplot as plt\n",
    "%matplotlib inline\n",
    "make_summary_injuries= (df.groupby('Make')[['Total.Fatal.Injuries',\n",
    "                                              'Total.Serious.Injuries',\n",
    "                                              'Total.Minor.Injuries']]\n",
    "                         .sum()\n",
    "                         .sort_values(by='Total.Fatal.Injuries',ascending=False)\n",
    "                         .head(10)\n",
    "                         .reset_index()\n",
    ")\n",
    "\n",
    "#Plot\n",
    "plt.figure(figsize=(10,6))\n",
    "plt.barh(make_summary_injuries['Make'],make_summary_injuries['Total.Fatal.Injuries'])\n",
    "plt.title('Top 10 Aircraft Makes by Total Fatal Injuries',fontsize=14,fontweight='bold')\n",
    "plt.xlabel('Total Fatal Injuries',fontsize=12)\n",
    "plt.ylabel('Airccraft Make', fontsize=12)\n",
    "plt.grid(axis='x',linestyle='--',alpha=0.6)\n",
    "\n",
    "#Display\n",
    "plt.tight_layout()\n",
    "plt.show()"
   ]
  },
  {
   "cell_type": "markdown",
   "id": "44a96e9a",
   "metadata": {},
   "source": [
    "#### Conclusion-Make\n",
    "- From the analysis, the top 10 aircrafts with the highest number of falaties are cessna, boeing, piper , beech etc have the highest number of fatalities. If we fully  depended on this data to advise the client, then we would recommend other crafts that do not have hifg record of fatalities for this business.\n",
    "\n",
    "- Comparing the aircraft make, might help us decide on which model to purchase depending on how many accidents they are involved in."
   ]
  },
  {
   "cell_type": "markdown",
   "id": "0300900e",
   "metadata": {},
   "source": [
    "### Objective 3\n",
    "-To analyze aircraft damage in relation to engine type and no of engines."
   ]
  },
  {
   "cell_type": "code",
   "execution_count": 1001,
   "id": "24fe5707",
   "metadata": {},
   "outputs": [
    {
     "data": {
      "text/plain": [
       "Engine.Type      Aircraft.damage\n",
       "Electric         Substantial        0.800000\n",
       "                 Destroyed          0.200000\n",
       "Geared Turbofan  Unknown            0.916667\n",
       "                 Minor              0.083333\n",
       "Hybrid Rocket    Destroyed          1.000000\n",
       "Reciprocating    Substantial        0.773839\n",
       "                 Destroyed          0.208960\n",
       "                 Minor              0.012268\n",
       "                 Unknown            0.004933\n",
       "Turbo Fan        Unknown            0.356711\n",
       "                 Substantial        0.294236\n",
       "                 Minor              0.270052\n",
       "                 Destroyed          0.079000\n",
       "Turbo Jet        Substantial        0.332859\n",
       "                 Unknown            0.237553\n",
       "                 Minor              0.230441\n",
       "                 Destroyed          0.199147\n",
       "Turbo Prop       Substantial        0.600118\n",
       "                 Destroyed          0.237983\n",
       "                 Minor              0.090239\n",
       "                 Unknown            0.071660\n",
       "Turbo Shaft      Substantial        0.706290\n",
       "                 Destroyed          0.243558\n",
       "                 Minor              0.025215\n",
       "                 Unknown            0.024938\n",
       "Unknown          Substantial        0.523055\n",
       "                 Destroyed          0.226071\n",
       "                 Unknown            0.171984\n",
       "                 Minor              0.078890\n",
       "Name: Aircraft.damage, dtype: float64"
      ]
     },
     "execution_count": 1001,
     "metadata": {},
     "output_type": "execute_result"
    }
   ],
   "source": [
    "df.groupby('Engine.Type')['Aircraft.damage'].value_counts(normalize=True)"
   ]
  },
  {
   "cell_type": "code",
   "execution_count": 1002,
   "id": "5f66eb6e",
   "metadata": {},
   "outputs": [
    {
     "data": {
      "image/png": "[encoded data removed]",
      "text/plain": [
       "<Figure size 720x432 with 1 Axes>"
      ]
     },
     "metadata": {
      "needs_background": "light"
     },
     "output_type": "display_data"
    }
   ],
   "source": [
    "#data visualization\n",
    "\n",
    "# Recreate your normalized summary\n",
    "damage_by_engine = (\n",
    "    df.groupby('Engine.Type')['Aircraft.damage']\n",
    "    .value_counts(normalize=True)\n",
    "    .unstack(fill_value=0)\n",
    ")\n",
    "\n",
    "# Plot stacked bar chart\n",
    "damage_by_engine.plot(kind='bar', stacked=True, figsize=(10,6))\n",
    "\n",
    "plt.title('Proportion of Aircraft Damage Types by Engine Type', fontsize=14, fontweight='bold')\n",
    "plt.xlabel('Engine Type', fontsize=12)\n",
    "plt.ylabel('Proportion of Damage', fontsize=12)\n",
    "plt.legend(title='Damage Type', bbox_to_anchor=(1.05, 1), loc='upper left')\n",
    "plt.grid(axis='y', linestyle='--', alpha=0.5)\n",
    "plt.tight_layout()\n",
    "plt.show()"
   ]
  },
  {
   "cell_type": "markdown",
   "id": "e09ca742",
   "metadata": {},
   "source": [
    "#### Conclusion-Engine Type Vs Aircraft damage\n",
    "From the above analysis, reciprocating engines, usually used in small and private aicrafts, usually show hugh proprotiones of being destroyed or to undergo substantial damage possibly due to their small structure and general-use conditions.\n",
    "\n",
    "For Turbo Fan and Turbo Jet engines(used in commercial planes), often show lower proportions of complete destruction, since those planes follow stricter maintenance and operational procedures.\n",
    "\n",
    "Turbo Prop and Turbo Shaft engines have moderate proportions of damage.\n",
    "\n",
    "Unknown and Electric/Hybrid engine types, they're likely rare and data may be incomplete."
   ]
  },
  {
   "cell_type": "code",
   "execution_count": 1003,
   "id": "8c12615e",
   "metadata": {},
   "outputs": [
    {
     "data": {
      "text/plain": [
       "Number.of.Engines  Aircraft.damage\n",
       "0                  Substantial        0.686786\n",
       "                   Destroyed          0.141109\n",
       "                   Unknown            0.111746\n",
       "                   Minor              0.060359\n",
       "1                  Substantial        0.756178\n",
       "                   Destroyed          0.204795\n",
       "                   Unknown            0.021925\n",
       "                   Minor              0.017101\n",
       "2                  Substantial        0.529651\n",
       "                   Destroyed          0.259139\n",
       "                   Unknown            0.112375\n",
       "                   Minor              0.098836\n",
       "3                  Minor              0.407867\n",
       "                   Unknown            0.325052\n",
       "                   Substantial        0.215321\n",
       "                   Destroyed          0.051760\n",
       "4                  Minor              0.336427\n",
       "                   Substantial        0.264501\n",
       "                   Unknown            0.264501\n",
       "                   Destroyed          0.134571\n",
       "6                  Substantial        1.000000\n",
       "8                  Substantial        0.666667\n",
       "                   Unknown            0.333333\n",
       "Name: Aircraft.damage, dtype: float64"
      ]
     },
     "execution_count": 1003,
     "metadata": {},
     "output_type": "execute_result"
    }
   ],
   "source": [
    "df.groupby('Number.of.Engines')['Aircraft.damage'].value_counts(normalize=True)"
   ]
  },
  {
   "cell_type": "code",
   "execution_count": 1004,
   "id": "8fa11d4f",
   "metadata": {},
   "outputs": [
    {
     "data": {
      "image/png": "[encoded data removed]",
      "text/plain": [
       "<Figure size 720x432 with 1 Axes>"
      ]
     },
     "metadata": {
      "needs_background": "light"
     },
     "output_type": "display_data"
    }
   ],
   "source": [
    "# Data visualization # Group and normalize again (in case you haven’t already)\n",
    "damage_by_engines = (\n",
    "    df.groupby('Number.of.Engines')['Aircraft.damage']\n",
    "    .value_counts(normalize=True)\n",
    "    .unstack(fill_value=0)\n",
    ")\n",
    "\n",
    "# Plot\n",
    "damage_by_engines.plot(kind='bar', stacked=True, figsize=(10,6), colormap='tab20')\n",
    "\n",
    "plt.title('Proportion of Aircraft Damage Types by Number of Engines', fontsize=14, fontweight='bold')\n",
    "plt.xlabel('Number of Engines', fontsize=12)\n",
    "plt.ylabel('Proportion of Damage', fontsize=12)\n",
    "plt.legend(title='Damage Type', bbox_to_anchor=(1.05, 1), loc='upper left')\n",
    "plt.grid(axis='y', linestyle='--', alpha=0.5)\n",
    "plt.tight_layout()\n",
    "plt.show()"
   ]
  },
  {
   "cell_type": "markdown",
   "id": "c053d683",
   "metadata": {},
   "source": [
    "#### Conclusion-Engine Type Vs Damage\n",
    "- Single engine aircraft(1 engine) have the highest proporton of substantial damage of about 75%.\n",
    "\n",
    "- They are closely folowed by destroyes at 20% and only a small proprportion of minor or unknown damage.\n",
    "Interpratation- Single engine planes are more vulnerable to substantial or complte damage in accidents.\n",
    "\n",
    "- Two engines-Substantial dama(53%),Destroyed(25%), minor(10%) and unknown(11%).  Two engine are failrly better than single engines.\n",
    "\n",
    "- Aircrafts with 6 and eight engines, their substantial damage is rare and small for 6-enginse and 67% for 8-engine.\n",
    "\n",
    "Overal insights. \n",
    "\n",
    "- Substantial damage are common in all engine types.\n",
    "Planes with (3-4) engines appear to reduce the proportion of severe outcomes maybe due to better safety features.\n",
    "\n",
    "- Single engine are the most risk in terms of damage.\n"
   ]
  },
  {
   "cell_type": "markdown",
   "id": "e2d70a8f",
   "metadata": {},
   "source": [
    "#### Recommendations\n",
    "Based on the analysis, it is advisable for the client to invest primarily in commercial aircrafts. They are proven and demonstrate t be superior, safer, reliable. Private planes though common have higher accidents and may require stricter maintenance and qualifies human resourse.\n",
    "\n",
    "Preference should also be given to planes with multiple engines and turbo-powered models with proven safety records.\n",
    "\n",
    "Avoid aircrafts with consistenly high accident records and prioritize those that demonstrate safety.\n",
    "\n",
    "\n",
    "Engine type is a a key factor. Commercial grade engines demonstrate better durability and lower destruction rates as compared to those in small private aircrafts.\n",
    "\n",
    "-Companies should purchase aircrafts with more than three engines as they have a reduces proporion of severe aircraft damage.\n"
   ]
  },
  {
   "cell_type": "code",
   "execution_count": 1005,
   "id": "a64d470e",
   "metadata": {},
   "outputs": [],
   "source": [
    "df.to_csv('cleaned_Aviation_Data',index=False)"
   ]
  }
 ],
 "metadata": {
  "kernelspec": {
   "display_name": "learn-env",
   "language": "python",
   "name": "python3"
  },
  "language_info": {
   "codemirror_mode": {
    "name": "ipython",
    "version": 3
   },
   "file_extension": ".py",
   "mimetype": "text/x-python",
   "name": "python",
   "nbconvert_exporter": "python",
   "pygments_lexer": "ipython3",
   "version": "3.8.5"
  }
 },
 "nbformat": 4,
 "nbformat_minor": 5
}
